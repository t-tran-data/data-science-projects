{
 "cells": [
  {
   "cell_type": "markdown",
   "id": "7b640f12-f7a7-4d71-a669-04d3820b0731",
   "metadata": {},
   "source": [
    "# Comparison of ML Algorithms for the Power Consumption Prediction: Case Study"
   ]
  },
  {
   "cell_type": "code",
   "execution_count": 1,
   "id": "f104aba5-e720-430a-b405-29ada441a948",
   "metadata": {
    "tags": []
   },
   "outputs": [
    {
     "data": {
      "text/plain": [
       "(52416, 9)"
      ]
     },
     "execution_count": 1,
     "metadata": {},
     "output_type": "execute_result"
    }
   ],
   "source": [
    "import pandas as pd\n",
    "import numpy as np\n",
    "\n",
    "data = pd.read_csv('Tetuan City power consumption.csv')\n",
    "data.shape"
   ]
  },
  {
   "cell_type": "markdown",
   "id": "6b3a3f4b-e7a0-42c1-9d17-7a962a1bf2d9",
   "metadata": {},
   "source": [
    "The data is loaded from resources. Dataframe has 9 columns and 52416 instances. The columns are 'DateTime', 'Temperature', 'Humidity', 'Wind Speed', 'general diffuse flows', 'diffuse flows', 'Zone 1 Power Consumption', 'Zone 2  Power Consumption', 'Zone 3  Power Consumption'.\n",
    "\n",
    "There is no missing value in any column."
   ]
  },
  {
   "cell_type": "markdown",
   "id": "1075a776-7b42-45df-aaa4-6e7be1190295",
   "metadata": {},
   "source": [
    "Datetime components are created as variable features: Day of week, day of year, hour, minute, month, quarter, week of year, and whether an instance is a weekday."
   ]
  },
  {
   "cell_type": "code",
   "execution_count": 3,
   "id": "80e49367-b3b2-47c5-b788-2a7c96b9f494",
   "metadata": {
    "tags": []
   },
   "outputs": [
    {
     "data": {
      "text/plain": [
       "Index(['DateTime', 'Temperature', 'Humidity', 'Wind Speed',\n",
       "       'general diffuse flows', 'diffuse flows', 'Zone 1 Power Consumption',\n",
       "       'Zone 2  Power Consumption', 'Zone 3  Power Consumption', 'DayOfWeek',\n",
       "       'DayOfYear', 'Hour', 'Minute', 'Month', 'Quarter', 'WeekOfYear',\n",
       "       'IsWeekday'],\n",
       "      dtype='object')"
      ]
     },
     "execution_count": 3,
     "metadata": {},
     "output_type": "execute_result"
    }
   ],
   "source": [
    "# Convert 'DateTime' column to datetime format\n",
    "data['DateTime'] = pd.to_datetime(data['DateTime'])\n",
    "\n",
    "# Extract datetime components\n",
    "data['DayOfWeek'] = data['DateTime'].dt.dayofweek\n",
    "data['DayOfYear'] = data['DateTime'].dt.dayofyear\n",
    "data['Hour'] = data['DateTime'].dt.hour\n",
    "data['Minute'] = data['DateTime'].dt.minute\n",
    "data['Month'] = data['DateTime'].dt.month\n",
    "data['Quarter'] = data['DateTime'].dt.quarter\n",
    "data['WeekOfYear'] = data['DateTime'].dt.isocalendar().week\n",
    "data['IsWeekday'] = data['DateTime'].dt.dayofweek.apply(lambda x: 1 if x < 5 else 0)\n",
    "\n",
    "data.columns"
   ]
  },
  {
   "cell_type": "markdown",
   "id": "651ee75b-3b74-4588-8ace-dbd8f6ec06be",
   "metadata": {},
   "source": [
    "Create an additional column 'Average Power Consumption' which contains the average value of the power consumption from Zone 1, zone 2 and zone 3 for each row."
   ]
  },
  {
   "cell_type": "code",
   "execution_count": null,
   "id": "c07d5c4b-070e-4051-b696-07eb3b86d1b1",
   "metadata": {
    "tags": []
   },
   "outputs": [],
   "source": [
    "data['Average Power Consumption'] = data[['Zone 1 Power Consumption', 'Zone 2  Power Consumption', 'Zone 3  Power Consumption']].mean(axis=1)\n",
    "data.columns"
   ]
  },
  {
   "cell_type": "markdown",
   "id": "00f35fbf-d0a9-4d7b-aaf6-c4707465df22",
   "metadata": {},
   "source": [
    "**Set X and y for training and test sets from the original dataset**\n",
    "\n",
    "- 75% of the data is training data\n",
    "- 25% of the data is for testing"
   ]
  },
  {
   "cell_type": "code",
   "execution_count": null,
   "id": "710a4e8b-c36d-4f9b-aaf5-dc8282a3fb31",
   "metadata": {
    "tags": []
   },
   "outputs": [],
   "source": [
    "from sklearn.model_selection import train_test_split\n",
    "features = ['Temperature', 'Humidity', 'Wind Speed', 'general diffuse flows', 'diffuse flows','DayOfWeek','DayOfYear','Hour','Minute','Month','Quarter', 'WeekOfYear', 'IsWeekday', 'Average Power Consumption']\n",
    "X_original = data[features]\n",
    "\n",
    "y1_original = data['Zone 1 Power Consumption']\n",
    "y2_original = data['Zone 2  Power Consumption']\n",
    "y3_original = data['Zone 3  Power Consumption']\n",
    "y4_original = data['Average Power Consumption']\n",
    "X_train_original, X_test_original, y_train_1_original, y_test_1_original = train_test_split(X_original, y1_original, test_size=0.25, random_state=42)\n",
    "X_train_original, X_test_original, y_train_2_original, y_test_2_original = train_test_split(X_original, y2_original, test_size=0.25, random_state=42)\n",
    "X_train_original, X_test_original, y_train_3_original, y_test_3_original = train_test_split(X_original, y3_original, test_size=0.25, random_state=42)\n",
    "X_train_original, X_test_original, y_train_4_original, y_test_4_original = train_test_split(X_original, y4_original, test_size=0.25, random_state=42)"
   ]
  },
  {
   "cell_type": "markdown",
   "id": "6d710b9c-264b-4de6-af8a-6ce901e8a2fe",
   "metadata": {},
   "source": [
    "**Normalise data using Min-Max**"
   ]
  },
  {
   "cell_type": "code",
   "execution_count": null,
   "id": "ddd73d2b-5b5f-48e1-a648-67dd9cd23149",
   "metadata": {
    "tags": []
   },
   "outputs": [],
   "source": [
    "from sklearn.preprocessing import MinMaxScaler\n",
    "data_normalised = data.copy()\n",
    "\n",
    "columns_to_drop = ['DateTime', 'DayOfWeek',\n",
    "       'DayOfYear', 'Hour', 'Minute', 'Month', 'Quarter', 'WeekOfYear',\n",
    "       'IsWeekday']\n",
    "columns_to_normalise = ['Temperature', 'Humidity', 'Wind Speed',\n",
    "       'general diffuse flows', 'diffuse flows', 'Zone 1 Power Consumption',\n",
    "       'Zone 2  Power Consumption', 'Zone 3  Power Consumption', 'Average Power Consumption']\n",
    "scaler = MinMaxScaler()\n",
    "\n",
    "data_normalised[columns_to_normalise] = scaler.fit_transform(data_normalised[columns_to_normalise])\n",
    "\n",
    "print(data_normalised)"
   ]
  },
  {
   "cell_type": "markdown",
   "id": "b23f0b1b-3f0a-492b-b229-9cff87e51689",
   "metadata": {},
   "source": [
    "## Predictions of 10-minute periods"
   ]
  },
  {
   "cell_type": "markdown",
   "id": "8f79c8a4-96c1-484c-8683-1d670ae5200d",
   "metadata": {},
   "source": [
    "**Set X and y for training and test sets from the normalised dataset**\n",
    "\n",
    "- 75% of the data is training data\n",
    "- 25% of the data is for testing"
   ]
  },
  {
   "cell_type": "code",
   "execution_count": null,
   "id": "c7e9ef90-fe07-4944-b776-103e93b1bb30",
   "metadata": {
    "tags": []
   },
   "outputs": [],
   "source": [
    "data_normalised.columns.tolist()"
   ]
  },
  {
   "cell_type": "code",
   "execution_count": null,
   "id": "15857580-28f7-4e09-838f-e44fca73fc8b",
   "metadata": {
    "tags": []
   },
   "outputs": [],
   "source": [
    "from sklearn.model_selection import train_test_split\n",
    "\n",
    "X = data_normalised[features]\n",
    "\n",
    "y1 = data_normalised['Zone 1 Power Consumption']\n",
    "y2 = data_normalised['Zone 2  Power Consumption']\n",
    "y3 = data_normalised['Zone 3  Power Consumption']\n",
    "y4 = data_normalised['Average Power Consumption']\n",
    "X_train, X_test, y_train_1, y_test_1 = train_test_split(X, y1, test_size=0.25, random_state=42)\n",
    "X_train, X_test, y_train_2, y_test_2 = train_test_split(X, y2, test_size=0.25, random_state=42)\n",
    "X_train, X_test, y_train_3, y_test_3 = train_test_split(X, y3, test_size=0.25, random_state=42)\n",
    "X_train, X_test, y_train_4, y_test_4 = train_test_split(X, y4, test_size=0.25, random_state=42)"
   ]
  },
  {
   "cell_type": "code",
   "execution_count": null,
   "id": "18ed6d7f-03f2-4f92-821f-240f9dd75ebc",
   "metadata": {
    "tags": []
   },
   "outputs": [],
   "source": [
    "from sklearn.metrics import accuracy_score, confusion_matrix, classification_report\n",
    "from sklearn.neural_network import MLPClassifier\n",
    "import matplotlib.pyplot as plt"
   ]
  },
  {
   "cell_type": "markdown",
   "id": "eec53170-49e3-41c5-8e3c-ce056f20fd75",
   "metadata": {},
   "source": [
    "### Random Forest (10 minute periods)"
   ]
  },
  {
   "cell_type": "markdown",
   "id": "b6521117-b8a4-4300-a343-62fbf80da1cd",
   "metadata": {},
   "source": [
    "Based on Case Study of Tetuoan city, the best parameters for Random Forest model are:\n",
    "- Number of trees in the forest: n_estimators=30\n",
    "- Number of features at each split: max_features=7\n",
    "- Max depth of each tree: max_depth=None\n",
    "- Min number of samples to split: min_samples_split=2\n",
    "- Min number of samples at a leaf node: min_samples_leaf=1"
   ]
  },
  {
   "cell_type": "code",
   "execution_count": null,
   "id": "8ac0619a-8a0a-4784-abfe-61c4f72ec649",
   "metadata": {
    "tags": []
   },
   "outputs": [],
   "source": [
    "from sklearn.ensemble import RandomForestRegressor\n",
    "from sklearn.metrics import mean_squared_error, mean_absolute_error\n",
    "\n",
    "rf_regressor = RandomForestRegressor(\n",
    "    n_estimators=30,\n",
    "    max_features=7,\n",
    "    max_depth=None,\n",
    "    min_samples_split=2,\n",
    "    min_samples_leaf=1,\n",
    "    random_state=42\n",
    ")"
   ]
  },
  {
   "cell_type": "markdown",
   "id": "961ff180-dcbe-40f1-9284-8150e82d12c6",
   "metadata": {},
   "source": [
    "**Analyse Random Forest model on the training set**"
   ]
  },
  {
   "cell_type": "code",
   "execution_count": null,
   "id": "e42cbe66-bcea-4035-8ac4-824a10868cc7",
   "metadata": {
    "tags": []
   },
   "outputs": [],
   "source": [
    "#Using original data\n",
    "# Random Forest model for Zone 1\n",
    "rf_regressor.fit(X_train_original, y_train_1_original)\n",
    "y_train_pred_rf_1 = rf_regressor.predict(X_train_original)\n",
    "\n",
    "mse_train_rf_1 = mean_squared_error(y_train_1_original, y_train_pred_rf_1)\n",
    "rmse_train_rf_1 = np.sqrt(mse_train_rf_1)\n",
    "mae_train_rf_1 = mean_absolute_error(y_train_1_original, y_train_pred_rf_1)\n",
    "\n",
    "\n",
    "# Random Forest model for Zone 2\n",
    "rf_regressor.fit(X_train_original, y_train_2_original)\n",
    "y_train_pred_rf_2 = rf_regressor.predict(X_train_original)\n",
    "\n",
    "mse_train_rf_2 = mean_squared_error(y_train_2_original, y_train_pred_rf_2)\n",
    "rmse_train_rf_2 = np.sqrt(mse_train_rf_2)\n",
    "mae_train_rf_2 = mean_absolute_error(y_train_2_original, y_train_pred_rf_2)\n",
    "\n",
    "# Random Forest model for Zone 3\n",
    "rf_regressor.fit(X_train_original, y_train_3_original)\n",
    "y_train_pred_rf_3 = rf_regressor.predict(X_train_original)\n",
    "\n",
    "mse_train_rf_3 = mean_squared_error(y_train_3_original, y_train_pred_rf_3)\n",
    "rmse_train_rf_3 = np.sqrt(mse_train_rf_3)\n",
    "mae_train_rf_3 = mean_absolute_error(y_train_3_original, y_train_pred_rf_3)\n",
    "\n",
    "# Random Forest model for Average Power Consumption\n",
    "rf_regressor.fit(X_train_original, y_train_4_original)\n",
    "y_train_pred_rf_4 = rf_regressor.predict(X_train_original)\n",
    "\n",
    "mse_train_rf_4 = mean_squared_error(y_train_4_original, y_train_pred_rf_4)\n",
    "rmse_train_rf_4 = np.sqrt(mse_train_rf_4)\n",
    "mae_train_rf_4 = mean_absolute_error(y_train_4_original, y_train_pred_rf_4)\n",
    "\n",
    "print(f\"Root Mean Squared Error of Zone 1, 2 3 respectively:\\n\")\n",
    "print({rmse_train_rf_1},{rmse_train_rf_2},{rmse_train_rf_3},{rmse_train_rf_4})\n",
    "print(f\"\\nMean Absolute Error of Zone 1,2,3 respectively:\\n\")\n",
    "print({mae_train_rf_1},{mae_train_rf_2},{mae_train_rf_3},{mae_train_rf_4})"
   ]
  },
  {
   "cell_type": "markdown",
   "id": "f7599ba3-482c-4cd0-84f2-84604cfe78de",
   "metadata": {},
   "source": [
    "Result:\n",
    "\n",
    "Root Mean Squared Error of Zone 1, 2 3 respectively:\n",
    "\n",
    "{205.31520166146737} {169.76565354457225} {143.5315955528895} {23.23011302696544}\n",
    "\n",
    "Mean Absolute Error of Zone 1,2,3 respectively:\n",
    "\n",
    "{129.17573637566136} {106.88588603948244} {93.45579105076308} {13.311942475842962}"
   ]
  },
  {
   "cell_type": "markdown",
   "id": "7cef40f5-f853-40c9-9937-7bb56f315ba5",
   "metadata": {},
   "source": [
    "**Analyse Random Forest model on the test set**"
   ]
  },
  {
   "cell_type": "code",
   "execution_count": null,
   "id": "327a691f-a3ca-4b6f-977e-f171b999c124",
   "metadata": {
    "tags": []
   },
   "outputs": [],
   "source": [
    "#Using original data:\n",
    "# Random Forest model for Zone 1\n",
    "rf_regressor.fit(X_train_original, y_train_1_original)\n",
    "y_pred_rf_1 = rf_regressor.predict(X_test_original)\n",
    "\n",
    "mse_rf_1 = mean_squared_error(y_test_1_original, y_pred_rf_1)\n",
    "rmse_rf_1 = np.sqrt(mse_rf_1)\n",
    "mae_rf_1 = mean_absolute_error(y_test_1_original, y_pred_rf_1)\n",
    "\n",
    "\n",
    "# Random Forest model for Zone 2\n",
    "rf_regressor.fit(X_train_original, y_train_2_original)\n",
    "y_pred_rf_2 = rf_regressor.predict(X_test_original)\n",
    "\n",
    "mse_rf_2 = mean_squared_error(y_test_2_original, y_pred_rf_2)\n",
    "rmse_rf_2 = np.sqrt(mse_rf_2)\n",
    "mae_rf_2 = mean_absolute_error(y_test_2_original, y_pred_rf_2)\n",
    "\n",
    "# Random Forest model for Zone 3\n",
    "rf_regressor.fit(X_train_original, y_train_3_original)\n",
    "y_pred_rf_3 = rf_regressor.predict(X_test_original)\n",
    "\n",
    "mse_rf_3 = mean_squared_error(y_test_3_original, y_pred_rf_3)\n",
    "rmse_rf_3 = np.sqrt(mse_rf_3)\n",
    "mae_rf_3 = mean_absolute_error(y_test_3_original, y_pred_rf_3)\n",
    "\n",
    "# Random Forest model for Average Power Consumption\n",
    "rf_regressor.fit(X_train_original, y_train_4_original)\n",
    "y_pred_rf_4 = rf_regressor.predict(X_test_original)\n",
    "\n",
    "mse_rf_4 = mean_squared_error(y_test_4_original, y_pred_rf_4)\n",
    "rmse_rf_4 = np.sqrt(mse_rf_4)\n",
    "mae_rf_4 = mean_absolute_error(y_test_4_original, y_pred_rf_4)\n",
    "\n",
    "print(f\"Root Mean Squared Error of Zone 1, 2 3 respectively:\\n\")\n",
    "print({rmse_rf_1},{rmse_rf_2},{rmse_rf_3},{rmse_rf_4})\n",
    "print(f\"\\nMean Absolute Error of Zone 1,2,3 respectively:\\n\")\n",
    "print({mae_rf_1},{mae_rf_2},{mae_rf_3},{mae_rf_4})"
   ]
  },
  {
   "cell_type": "markdown",
   "id": "9d6233d7-f2e0-419b-8372-17ff2960649e",
   "metadata": {},
   "source": [
    "Results:\n",
    "\n",
    "Root Mean Squared Error of Zone 1, 2 3 respectively:\n",
    "\n",
    "{508.52370683610275} {410.6753018001097} {352.248595956872} {43.25474339863196}\n",
    "\n",
    "Mean Absolute Error of Zone 1,2,3 respectively:\n",
    "\n",
    "{323.11089429248074} {267.68984809223906} {234.28681520551737} {25.90453531938137}"
   ]
  },
  {
   "cell_type": "markdown",
   "id": "afb7ed70-45bd-42de-b44a-248d806e5fb6",
   "metadata": {},
   "source": [
    "### Decision Tree (10 minute periods)"
   ]
  },
  {
   "cell_type": "markdown",
   "id": "2b7529d8-fd31-4ef0-9350-c105bdd001d5",
   "metadata": {},
   "source": [
    "Based on Case Study of Tetuoan city, the best parameters for Decision Tree model are:\n",
    "- Depth of tree: max_depth=None\n",
    "- Min number of samples to split  an internal node: min_samples_split=10\n",
    "- Min number of samples to be at a leaf node: min_samples_leaf=10\n",
    "- Number of features: max_features=9"
   ]
  },
  {
   "cell_type": "code",
   "execution_count": null,
   "id": "cac1b982-c5ff-43ba-94fd-10e5ae725ec4",
   "metadata": {
    "tags": []
   },
   "outputs": [],
   "source": [
    "from sklearn.tree import DecisionTreeRegressor\n",
    "from sklearn.metrics import mean_squared_error, mean_absolute_error\n",
    "\n",
    "dt_regressor = DecisionTreeRegressor(\n",
    "    max_depth=None,\n",
    "    min_samples_split=10,\n",
    "    min_samples_leaf=10,\n",
    "    max_features=9,\n",
    "    random_state=42\n",
    ")"
   ]
  },
  {
   "cell_type": "markdown",
   "id": "7b81fa9f-c80f-4008-b475-7f0a02b8c79e",
   "metadata": {},
   "source": [
    "**Analysing Decision Tree model on the training set**"
   ]
  },
  {
   "cell_type": "code",
   "execution_count": null,
   "id": "8d8200b0-964d-429b-957b-9cdd548fd43b",
   "metadata": {
    "tags": []
   },
   "outputs": [],
   "source": [
    "#Using original data set\n",
    "#Decision tree model for Zone 1\n",
    "dt_regressor.fit(X_train_original, y_train_1_original)\n",
    "y_train_pred_dt_1 = dt_regressor.predict(X_train_original)\n",
    "\n",
    "mse_train_dt_1 = mean_squared_error(y_train_1_original, y_train_pred_dt_1)\n",
    "rmse_train_dt_1 = np.sqrt(mse_train_dt_1)\n",
    "mae_train_dt_1 = mean_absolute_error(y_train_1_original, y_train_pred_dt_1)\n",
    "\n",
    "#Decision tree model for Zone 2\n",
    "dt_regressor.fit(X_train_original, y_train_2_original)\n",
    "y_train_pred_dt_2 = dt_regressor.predict(X_train_original)\n",
    "\n",
    "mse_train_dt_2 = mean_squared_error(y_train_2_original, y_train_pred_dt_2)\n",
    "rmse_train_dt_2 = np.sqrt(mse_train_dt_2)\n",
    "mae_train_dt_2 = mean_absolute_error(y_train_2_original, y_train_pred_dt_2)\n",
    "\n",
    "#Decision tree model for Zone 3\n",
    "dt_regressor.fit(X_train_original, y_train_3_original)\n",
    "y_train_pred_dt_3 = dt_regressor.predict(X_train_original)\n",
    "\n",
    "mse_train_dt_3 = mean_squared_error(y_train_3_original, y_train_pred_dt_3)\n",
    "rmse_train_dt_3 = np.sqrt(mse_train_dt_3)\n",
    "mae_train_dt_3 = mean_absolute_error(y_train_3_original, y_train_pred_dt_3)\n",
    "\n",
    "#Decision tree model for Average Power consumption\n",
    "dt_regressor.fit(X_train_original, y_train_4_original)\n",
    "y_train_pred_dt_4 = dt_regressor.predict(X_train_original)\n",
    "\n",
    "mse_train_dt_4 = mean_squared_error(y_train_4_original, y_train_pred_dt_4)\n",
    "rmse_train_dt_4 = np.sqrt(mse_train_dt_4)\n",
    "mae_train_dt_4 = mean_absolute_error(y_train_4_original, y_train_pred_dt_4)\n",
    "\n",
    "print(f\"Root Mean Squared Error of Zone 1, 2 3 respectively:\\n\")\n",
    "print({rmse_train_dt_1},{rmse_train_dt_2},{rmse_train_dt_3},{rmse_train_dt_4})\n",
    "print(f\"\\nMean Absolute Error of Zone 1,2,3 respectively:\\n\")\n",
    "print({mae_train_dt_1},{mae_train_dt_2},{mae_train_dt_3},{mae_train_dt_4})"
   ]
  },
  {
   "cell_type": "markdown",
   "id": "01f721b8-e7a2-44b3-8b28-aa1834509b77",
   "metadata": {},
   "source": [
    "Result:\n",
    "\n",
    "Root Mean Squared Error of Zone 1, 2 3 respectively:\n",
    "\n",
    "{630.0461890861909} {530.5587898439006} {468.058296363687} {49.40350289260933}\n",
    "\n",
    "Mean Absolute Error of Zone 1,2,3 respectively:\n",
    "\n",
    "{407.7905026055469} {347.5540407251518} {308.60047715796145} {17.531117643883306}"
   ]
  },
  {
   "cell_type": "markdown",
   "id": "ec184032-c1b2-4fd2-9c3c-7d689cd05d14",
   "metadata": {},
   "source": [
    "**Analysing Decision Tree model on the test set**"
   ]
  },
  {
   "cell_type": "code",
   "execution_count": null,
   "id": "094a8ba0-cac8-485d-a836-36e76d4a17f5",
   "metadata": {
    "tags": []
   },
   "outputs": [],
   "source": [
    "#Using original dataset\n",
    "#Decision tree model for Zone 1\n",
    "dt_regressor.fit(X_train_original, y_train_1_original)\n",
    "y_pred_dt_1 = dt_regressor.predict(X_test_original)\n",
    "\n",
    "mse_dt_1 = mean_squared_error(y_test_1_original, y_pred_dt_1)\n",
    "rmse_dt_1 = np.sqrt(mse_dt_1)\n",
    "mae_dt_1 = mean_absolute_error(y_test_1_original, y_pred_dt_1)\n",
    "\n",
    "#Decision tree model for Zone 2\n",
    "dt_regressor.fit(X_train_original, y_train_2_original)\n",
    "y_pred_dt_2 = dt_regressor.predict(X_test_original)\n",
    "\n",
    "mse_dt_2 = mean_squared_error(y_test_2_original, y_pred_dt_2)\n",
    "rmse_dt_2 = np.sqrt(mse_dt_2)\n",
    "mae_dt_2 = mean_absolute_error(y_test_2_original, y_pred_dt_2)\n",
    "\n",
    "#Decision tree model for Zone 3\n",
    "dt_regressor.fit(X_train_original, y_train_3_original)\n",
    "y_pred_dt_3 = dt_regressor.predict(X_test_original)\n",
    "\n",
    "mse_dt_3 = mean_squared_error(y_test_3_original, y_pred_dt_3)\n",
    "rmse_dt_3 = np.sqrt(mse_dt_3)\n",
    "mae_dt_3 = mean_absolute_error(y_test_3_original, y_pred_dt_3)\n",
    "\n",
    "#Decision tree model for Average Power consumption\n",
    "dt_regressor.fit(X_train_original, y_train_4_original)\n",
    "y_pred_dt_4 = dt_regressor.predict(X_test_original)\n",
    "\n",
    "mse_dt_4 = mean_squared_error(y_test_4_original, y_pred_dt_4)\n",
    "rmse_dt_4 = np.sqrt(mse_dt_4)\n",
    "mae_dt_4 = mean_absolute_error(y_test_4_original, y_pred_dt_4)\n",
    "\n",
    "print(f\"Root Mean Squared Error of Zone 1, 2 3 respectively:\\n\")\n",
    "print({rmse_dt_1},{rmse_dt_2},{rmse_dt_3},{rmse_dt_4})\n",
    "print(f\"\\nMean Absolute Error of Zone 1,2,3 respectively:\\n\")\n",
    "print({mae_dt_1},{mae_dt_2},{mae_dt_3},{mae_dt_4})"
   ]
  },
  {
   "cell_type": "markdown",
   "id": "bda5200b-19db-409f-a4fe-b78f9f4213fb",
   "metadata": {},
   "source": [
    "Result:\n",
    "\n",
    "Root Mean Squared Error of Zone 1, 2 3 respectively:\n",
    "\n",
    "{804.181690172847} {700.1751030723069} {618.6832937885467} {65.59143368822343}\n",
    "\n",
    "Mean Absolute Error of Zone 1,2,3 respectively:\n",
    "\n",
    "{533.1935510305249} {459.7171651644162} {409.7088439773949} {22.99907056982047}"
   ]
  },
  {
   "cell_type": "markdown",
   "id": "4c3a8e68-a98e-4296-8180-f985aa58fcc1",
   "metadata": {},
   "source": [
    "### Support Vector Regression"
   ]
  },
  {
   "cell_type": "markdown",
   "id": "dbf9dcc3-b47e-4487-ab33-3a14ca18e1b7",
   "metadata": {},
   "source": [
    "Based on Case Study of Tetuoan city, the best parameters for Support Vector Regression model are:\n",
    "- Cost parameter: C=10\n",
    "- Gamma parameter: gamma=0.01\n",
    "\n",
    "Normalisation is necessary for SVR model. Therefore, the SVR analysis will be using normalised dataset."
   ]
  },
  {
   "cell_type": "markdown",
   "id": "8b967420-13bf-4a4a-a858-bb6b362f3a1b",
   "metadata": {},
   "source": [
    "**Analysing SVR model on the training set**"
   ]
  },
  {
   "cell_type": "code",
   "execution_count": null,
   "id": "95093d74-3194-4866-8ab4-ef068e1b3538",
   "metadata": {
    "tags": []
   },
   "outputs": [],
   "source": [
    "from sklearn.svm import SVR\n",
    "svr = SVR(kernel='rbf', C=10, gamma=0.01)\n",
    "\n",
    "#SVR model for Zone 1\n",
    "svr.fit(X_train, y_train_1)\n",
    "y_train_pred_svr_1 = svr.predict(X_train)\n",
    "\n",
    "mse_train_svr_1 = mean_squared_error(y_train_1, y_train_pred_svr_1)\n",
    "rmse_train_svr_1 = np.sqrt(mse_train_svr_1)\n",
    "mae_train_svr_1 = mean_absolute_error(y_train_1, y_train_pred_svr_1)\n",
    "\n",
    "\n",
    "#SVR model for Zone 2\n",
    "svr.fit(X_train, y_train_2)\n",
    "y_train_pred_svr_2 = svr.predict(X_train)\n",
    "\n",
    "mse_train_svr_2 = mean_squared_error(y_train_2, y_train_pred_svr_2)\n",
    "rmse_train_svr_2 = np.sqrt(mse_train_svr_2)\n",
    "mae_train_svr_2 = mean_absolute_error(y_train_2, y_train_pred_svr_2)\n",
    "\n",
    "\n",
    "#SVR model for Zone 3\n",
    "svr.fit(X_train, y_train_3)\n",
    "y_train_pred_svr_3 = svr.predict(X_train)\n",
    "\n",
    "mse_train_svr_3 = mean_squared_error(y_train_3, y_train_pred_svr_3)\n",
    "rmse_train_svr_3 = np.sqrt(mse_train_svr_3)\n",
    "mae_train_svr_3 = mean_absolute_error(y_train_3, y_train_pred_svr_3)\n",
    "\n",
    "#SVR model for Average power consumption\n",
    "svr.fit(X_train, y_train_4)\n",
    "y_train_pred_svr_4 = svr.predict(X_train)\n",
    "\n",
    "mse_train_svr_4 = mean_squared_error(y_train_4, y_train_pred_svr_4)\n",
    "rmse_train_svr_4 = np.sqrt(mse_train_svr_4)\n",
    "mae_train_svr_4 = mean_absolute_error(y_train_4, y_train_pred_svr_4)\n",
    "\n",
    "print(f\"Root Mean Squared Error of Zone 1, 2 3 respectively using normalised training data:\\n\")\n",
    "print({rmse_train_svr_1},{rmse_train_svr_2},{rmse_train_svr_3},{rmse_train_svr_4})\n",
    "print(f\"\\nMean Absolute Error of Zone 1,2,3 respectively using normalised training data:\\n\")\n",
    "print({mae_train_svr_1},{mae_train_svr_2},{mae_train_svr_3},{mae_train_svr_4})"
   ]
  },
  {
   "cell_type": "markdown",
   "id": "1a7a48aa-c7d0-4f1f-b9da-4acdb3f17a2a",
   "metadata": {},
   "source": [
    "Result:\n",
    "\n",
    "Root Mean Squared Error of Zone 1, 2 3 respectively using normalised training data:\n",
    "\n",
    "{0.060507371951211295} {0.05757758482961345} {0.05435724783712491} {0.060137675393560665}\n",
    "\n",
    "Mean Absolute Error of Zone 1,2,3 respectively using normalised training data:\n",
    "\n",
    "{0.05214974653694512} {0.04891642376997758} {0.046235644850310315} {0.05193591064526375}"
   ]
  },
  {
   "cell_type": "markdown",
   "id": "8d90e12f-b875-40f8-94bd-dde47adcc3a0",
   "metadata": {},
   "source": [
    "**Analysing SVR model on the test set**"
   ]
  },
  {
   "cell_type": "code",
   "execution_count": null,
   "id": "edff36c6-7428-43ef-b73a-114282e7cd94",
   "metadata": {
    "tags": []
   },
   "outputs": [],
   "source": [
    "from sklearn.svm import SVR\n",
    "svr = SVR(kernel='rbf', C=10, gamma=0.01)\n",
    "\n",
    "#SVR model for Zone 1\n",
    "svr.fit(X_train, y_train_1)\n",
    "y_pred_svr_1 = svr.predict(X_test)\n",
    "\n",
    "mse_svr_1 = mean_squared_error(y_test_1, y_pred_svr_1)\n",
    "rmse_svr_1 = np.sqrt(mse_svr_1)\n",
    "mae_svr_1 = mean_absolute_error(y_test_1, y_pred_svr_1)\n",
    "\n",
    "\n",
    "#SVR model for Zone 2\n",
    "svr.fit(X_train, y_train_2)\n",
    "y_pred_svr_2 = svr.predict(X_test)\n",
    "\n",
    "mse_svr_2 = mean_squared_error(y_test_2, y_pred_svr_2)\n",
    "rmse_svr_2 = np.sqrt(mse_svr_2)\n",
    "mae_svr_2 = mean_absolute_error(y_test_2, y_pred_svr_2)\n",
    "\n",
    "\n",
    "#SVR model for Zone 3\n",
    "svr.fit(X_train, y_train_3)\n",
    "y_pred_svr_3 = svr.predict(X_test)\n",
    "\n",
    "mse_svr_3 = mean_squared_error(y_test_3, y_pred_svr_3)\n",
    "rmse_svr_3 = np.sqrt(mse_svr_3)\n",
    "mae_svr_3 = mean_absolute_error(y_test_3, y_pred_svr_3)\n",
    "\n",
    "#SVR model for average power consumption\n",
    "svr.fit(X_train, y_train_4)\n",
    "y_pred_svr_4 = svr.predict(X_test)\n",
    "\n",
    "mse_svr_4 = mean_squared_error(y_test_4, y_pred_svr_4)\n",
    "rmse_svr_4 = np.sqrt(mse_svr_4)\n",
    "mae_svr_4 = mean_absolute_error(y_test_4, y_pred_svr_4)\n",
    "\n",
    "print(f\"Root Mean Squared Error of Zone 1, 2 3 respectively using normalised test data:\\n\")\n",
    "print({rmse_svr_1},{rmse_svr_2},{rmse_svr_3},{rmse_svr_4})\n",
    "print(f\"\\nMean Absolute Error of Zone 1,2,3 respectively using normalised test data:\\n\")\n",
    "print({mae_svr_1},{mae_svr_2},{mae_svr_3},{mae_svr_4})"
   ]
  },
  {
   "cell_type": "markdown",
   "id": "0fa1206c-ade2-481a-a005-18e859488bcc",
   "metadata": {},
   "source": [
    "Root Mean Squared Error of Zone 1, 2 3 respectively using normalised test data:\n",
    "\n",
    "{0.06255824613507324} {0.05965237394058938} {0.05510072076722577} {0.06135558336638836}\n",
    "\n",
    "Mean Absolute Error of Zone 1,2,3 respectively using normalised test data:\n",
    "\n",
    "{0.05331525149822091} {0.05001673476559657} {0.04674893021531519} {0.05268857687555546}"
   ]
  },
  {
   "cell_type": "markdown",
   "id": "d7a427e7-94a5-4429-9aff-ba23e3b29746",
   "metadata": {},
   "source": [
    "**De-normalise the RSME and MAE results of SVR model**"
   ]
  },
  {
   "cell_type": "markdown",
   "id": "1e7fddec-a4ad-4a3e-a870-ac665ce4cb9b",
   "metadata": {},
   "source": [
    "Firstly, we find the range between the min value and max value of target variables. These ranges will be used for de-normalisation of 3 models: Support vector regressor, feedforward neural network and linear regression."
   ]
  },
  {
   "cell_type": "code",
   "execution_count": null,
   "id": "e463c521-7128-4115-850a-e45453a3ef97",
   "metadata": {
    "tags": []
   },
   "outputs": [],
   "source": [
    "#Zone 1\n",
    "original_min_train_1 = y_train_1_original.min()\n",
    "original_max_train_1 = y_train_1_original.max()\n",
    "original_min_test_1 = y_test_1_original.min()\n",
    "original_max_test_1 = y_test_1_original.max()\n",
    "\n",
    "original_range_train_1 = original_max_train_1 - original_min_train_1\n",
    "original_range_test_1 = original_max_test_1 - original_min_test_1\n",
    "\n",
    "#Zone 2\n",
    "original_min_train_2 = y_train_2_original.min()\n",
    "original_max_train_2 = y_train_2_original.max()\n",
    "original_min_test_2 = y_test_2_original.min()\n",
    "original_max_test_2 = y_test_2_original.max()\n",
    "\n",
    "original_range_train_2 = original_max_train_2 - original_min_train_2\n",
    "original_range_test_2 = original_max_test_2 - original_min_test_2\n",
    "\n",
    "#Zone 3\n",
    "original_min_train_3 = y_train_3_original.min()\n",
    "original_max_train_3 = y_train_3_original.max()\n",
    "original_min_test_3 = y_test_3_original.min()\n",
    "original_max_test_3 = y_test_3_original.max()\n",
    "\n",
    "original_range_train_3 = original_max_train_3 - original_min_train_3\n",
    "original_range_test_3 = original_max_test_3 - original_min_test_3\n",
    "\n",
    "#Aggregated distribution\n",
    "original_min_train_4 = y_train_4_original.min()\n",
    "original_max_train_4 = y_train_4_original.max()\n",
    "original_min_test_4 = y_test_4_original.min()\n",
    "original_max_test_4 = y_test_4_original.max()\n",
    "\n",
    "original_range_train_4 = original_max_train_4 - original_min_train_4\n",
    "original_range_test_4 = original_max_test_4 - original_min_test_4\n"
   ]
  },
  {
   "cell_type": "code",
   "execution_count": null,
   "id": "add11d2e-8af6-4a6e-ae39-2f19737523e3",
   "metadata": {
    "tags": []
   },
   "outputs": [],
   "source": [
    "print(f\"Denormalised RSME of Zone 1, 2 3 and aggregated distributionrespectively using train data:\")\n",
    "print(round(rmse_train_svr_1*original_range_train_1,0), round(rmse_train_svr_2*original_range_train_2,0),round(rmse_train_svr_3*original_range_train_3,0),round(rmse_train_svr_4*original_range_train_4,0))\n",
    "print(f\"\\nDenormalised MAE of Zone 1,2,3 respectively using train data:\")\n",
    "print(round(mae_train_svr_1*original_range_train_1,0),round(mae_train_svr_2*original_range_train_2,0),round(mae_train_svr_3*original_range_train_3,0),round(mae_train_svr_4*original_range_train_4,0))\n",
    "\n",
    "\n",
    "print(f\"\\nDenormalised RSME of Zone 1, 2 3 and aggregated distribution respectively using test data:\")\n",
    "print(round(rmse_svr_1*original_range_test_1,0), round(rmse_svr_2*original_range_test_2,0),round(rmse_svr_3*original_range_test_3,0),round(rmse_svr_4*original_range_test_4,0))\n",
    "print(f\"\\nDenormalised MAE of Zone 1,2,3 respectively using test data:\")\n",
    "print(round(mae_svr_1*original_range_test_1,0),round(mae_svr_2*original_range_test_2,0),round(mae_svr_3*original_range_test_3,0),round(mae_svr_4*original_range_test_4,0))"
   ]
  },
  {
   "cell_type": "markdown",
   "id": "ed87b912-1924-420d-a705-7ee6f0503bb0",
   "metadata": {},
   "source": [
    "Result:\n",
    "\n",
    "Denormalised RSME of Zone 1, 2 3 and aggregated distributionrespectively using train data:\n",
    "2318.0 1661.0 2265.0 1944.0\n",
    "\n",
    "Denormalised MAE of Zone 1,2,3 respectively using train data:\n",
    "1998.0 1411.0 1926.0 1679.0\n",
    "\n",
    "Denormalised RSME of Zone 1, 2 3 and aggregated distribution respectively using test data:\n",
    "2328.0 1613.0 2277.0 1986.0\n",
    "\n",
    "Denormalised MAE of Zone 1,2,3 respectively using test data:\n",
    "1984.0 1352.0 1932.0 1706.0"
   ]
  },
  {
   "cell_type": "markdown",
   "id": "8a785d22-9ebd-4ec5-80f7-cac6d6fcc92e",
   "metadata": {
    "tags": []
   },
   "source": [
    "### Feedforward Neural Network"
   ]
  },
  {
   "cell_type": "markdown",
   "id": "54299194-d411-4f61-a2b6-4a362b51196e",
   "metadata": {},
   "source": [
    "**FFNN model**"
   ]
  },
  {
   "cell_type": "markdown",
   "id": "beaf168b-ead1-4312-adfa-d2df6948ce0a",
   "metadata": {},
   "source": [
    "Based on Case Study of Tetuoan city, the best parameters for Feedforward Neural Network model are:\n",
    "- One hidden layer has 10 neurons\n",
    "- SELU activation\n",
    "- Adam optimiser\n",
    "- epochs=100\n",
    "- Initial learning rate = 0.001\n",
    "- Glorot uniform initialisation\n",
    "- no dropout\n",
    "- 0.9 momentum\n",
    "\n",
    "Normalisation is necessary for FFNN model. Therefore, the FFNN analysis will be using normalised dataset."
   ]
  },
  {
   "cell_type": "code",
   "execution_count": null,
   "id": "b917c6a6-fd74-4380-9d90-128ebe44fcbd",
   "metadata": {},
   "outputs": [],
   "source": [
    "import tensorflow as tf\n",
    "from tensorflow.keras.models import Sequential\n",
    "from tensorflow.keras.layers import Dense, Input\n",
    "from sklearn.metrics import mean_squared_error, mean_absolute_error\n",
    "\n",
    "# Define the model for Zone 1\n",
    "ffnn = Sequential([\n",
    "    Input(shape=(X_train.shape[1],)),\n",
    "    Dense(10, activation='selu', kernel_initializer='glorot_uniform'),\n",
    "    Dense(1)\n",
    "])\n",
    "\n",
    "# Compile the model for Zone 1\n",
    "ffnn.compile(optimizer=tf.keras.optimizers.Adam(learning_rate=0.001),\n",
    "              loss='mse')\n",
    "\n",
    "# Train the model for Zone 1\n",
    "history_zone1 = ffnn.fit(X_train, y_train_1, epochs=100, verbose=0, validation_split=0.2)\n",
    "\n",
    "# Make predictions for Zone 1\n",
    "y_train_pred_ffnn_1 = ffnn.predict(X_train)\n",
    "y_pred_ffnn_1 = ffnn.predict(X_test)\n",
    "\n",
    "# Calculate RMSE and MAE for training set for Zone 1\n",
    "rmse_train_ffnn_1 = mean_squared_error(y_train_1, y_train_pred_ffnn_1, squared=False)\n",
    "mae_train_ffnn_1 = mean_absolute_error(y_train_1, y_train_pred_ffnn_1)\n",
    "\n",
    "# Calculate RMSE and MAE for testing set for Zone 1\n",
    "rmse_ffnn_1 = mean_squared_error(y_test_1, y_pred_ffnn_1, squared=False)\n",
    "mae_ffnn_1 = mean_absolute_error(y_test_1, y_pred_ffnn_1)\n",
    "\n",
    "# Print the evaluation results for Zone 1\n",
    "print(f'Zone 1 - Train RMSE: {rmse_train_ffnn_1}, Train MAE: {mae_train_ffnn_1}')\n",
    "print(f'Zone 1 - Test RMSE: {rmse_ffnn_1}, Test MAE: {mae_ffnn_1}')\n",
    "\n",
    "\n",
    "# Train the model for Zone 2\n",
    "history_zone2 = ffnn.fit(X_train, y_train_2, epochs=100, verbose=0, validation_split=0.2)\n",
    "\n",
    "# Make predictions for Zone 2\n",
    "y_train_pred_ffnn_2 = ffnn.predict(X_train)\n",
    "y_pred_ffnn_2 = ffnn.predict(X_test)\n",
    "\n",
    "# Calculate RMSE and MAE for training set for Zone 2\n",
    "rmse_train_ffnn_2 = mean_squared_error(y_train_2, y_train_pred_ffnn_2, squared=False)\n",
    "mae_train_ffnn_2 = mean_absolute_error(y_train_2, y_train_pred_ffnn_2)\n",
    "\n",
    "# Calculate RMSE and MAE for testing set for Zone 2\n",
    "rmse_ffnn_2 = mean_squared_error(y_test_2, y_pred_ffnn_2, squared=False)\n",
    "mae_ffnn_2 = mean_absolute_error(y_test_2, y_pred_ffnn_2)\n",
    "\n",
    "# Print the evaluation results for Zone 2\n",
    "print(f'Zone 2 - Train RMSE: {rmse_train_ffnn_2}, Train MAE: {mae_train_ffnn_2}')\n",
    "print(f'Zone 2 - Test RMSE: {rmse_ffnn_2}, Test MAE: {mae_ffnn_2}')\n",
    "\n",
    "\n",
    "# Train the model for Zone 3\n",
    "history_zone3 = ffnn.fit(X_train, y_train_3, epochs=100, verbose=0, validation_split=0.2)\n",
    "\n",
    "# Make predictions for Zone 3\n",
    "y_train_pred_ffnn_3 = ffnn.predict(X_train)\n",
    "y_pred_ffnn_3 = ffnn.predict(X_test)\n",
    "\n",
    "# Calculate RMSE and MAE for training set for Zone 3\n",
    "rmse_train_ffnn_3 = mean_squared_error(y_train_3, y_train_pred_ffnn_3, squared=False)\n",
    "mae_train_ffnn_3 = mean_absolute_error(y_train_3, y_train_pred_ffnn_3)\n",
    "\n",
    "# Calculate RMSE and MAE for testing set for Zone 3\n",
    "rmse_ffnn_3 = mean_squared_error(y_test_3, y_pred_ffnn_3, squared=False)\n",
    "mae_ffnn_3 = mean_absolute_error(y_test_3, y_pred_ffnn_3)\n",
    "\n",
    "# Print the evaluation results for Zone 3\n",
    "print(f'Zone 3 - Train RMSE: {rmse_train_ffnn_3}, Train MAE: {mae_train_ffnn_3}')\n",
    "print(f'Zone 3 - Test RMSE: {rmse_ffnn_3}, Test MAE: {mae_ffnn_3}')\n",
    "\n",
    "\n",
    "# Train the model for Aggregated zone\n",
    "history_zone4 = ffnn.fit(X_train, y_train_4, epochs=100, verbose=0, validation_split=0.2)\n",
    "\n",
    "# Make predictions for Aggregated zone\n",
    "y_train_pred_ffnn_4 = ffnn.predict(X_train)\n",
    "y_pred_ffnn_4 = ffnn.predict(X_test)\n",
    "\n",
    "# Calculate RMSE and MAE for training set for Aggregated zone\n",
    "rmse_train_ffnn_4 = mean_squared_error(y_train_4, y_train_pred_ffnn_4, squared=False)\n",
    "mae_train_ffnn_4 = mean_absolute_error(y_train_4, y_train_pred_ffnn_4)\n",
    "\n",
    "# Calculate RMSE and MAE for testing set for Aggregated zone\n",
    "rmse_ffnn_4 = mean_squared_error(y_test_4, y_pred_ffnn_4, squared=False)\n",
    "mae_ffnn_4 = mean_absolute_error(y_test_4, y_pred_ffnn_4)\n",
    "\n",
    "# Print the evaluation results for Aggregated zone\n",
    "print(f'Zone 4 - Train RMSE: {rmse_train_ffnn_4}, Train MAE: {mae_train_ffnn_4}')\n",
    "print(f'Zone 4 - Test RMSE: {rmse_ffnn_4}, Test MAE: {mae_ffnn_4}')"
   ]
  },
  {
   "cell_type": "markdown",
   "id": "cc6caee1-2faa-486c-911e-67cd3db8d6d5",
   "metadata": {},
   "source": [
    "Result:\n",
    "\n",
    "1229/1229 ━━━━━━━━━━━━━━━━━━━━ 1s 818us/step\n",
    "\n",
    "410/410 ━━━━━━━━━━━━━━━━━━━━ 0s 866us/step\n",
    "\n",
    "Zone 1 - Train RMSE: 0.062207327520711876, Train MAE: 0.04911478268057943\n",
    "\n",
    "Zone 1 - Test RMSE: 0.06148849674452075, Test MAE: 0.048401448125108146\n",
    "\n",
    "1229/1229 ━━━━━━━━━━━━━━━━━━━━ 1s 772us/step\n",
    "\n",
    "410/410 ━━━━━━━━━━━━━━━━━━━━ 0s 805us/step\n",
    "\n",
    "Zone 2 - Train RMSE: 0.04156647272032823, Train MAE: 0.03194580012814882\n",
    "\n",
    "Zone 2 - Test RMSE: 0.04103907289643632, Test MAE: 0.03185754233909981\n",
    "\n",
    "1229/1229 ━━━━━━━━━━━━━━━━━━━━ 1s 784us/step\n",
    "\n",
    "410/410 ━━━━━━━━━━━━━━━━━━━━ 0s 819us/step\n",
    "\n",
    "Zone 3 - Train RMSE: 0.03980866919337071, Train MAE: 0.03086306699583038\n",
    "\n",
    "Zone 3 - Test RMSE: 0.04001882227897168, Test MAE: 0.030988422289675664\n",
    "\n",
    "1229/1229 ━━━━━━━━━━━━━━━━━━━━ 1s 914us/step\n",
    "\n",
    "410/410 ━━━━━━━━━━━━━━━━━━━━ 1s 1ms/step\n",
    "\n",
    "Zone 4 - Train RMSE: 0.0018560243573684486, Train MAE: 0.0008052964704972469\n",
    "\n",
    "Zone 4 - Test RMSE: 0.0016649071203955104, Test MAE: 0.0007862664624466387"
   ]
  },
  {
   "cell_type": "markdown",
   "id": "5cd31555-c320-4c19-9be0-c94af92b6453",
   "metadata": {},
   "source": [
    "**De-normalise FFNN evaluation metrics**"
   ]
  },
  {
   "cell_type": "code",
   "execution_count": null,
   "id": "026ac6c1-fae8-4d22-9ec1-2c4408f39101",
   "metadata": {},
   "outputs": [],
   "source": [
    "print(f\"Denormalised RSME of Zone 1, 2 3 and aggregated distributionrespectively using train data:\")\n",
    "print(round(rmse_train_ffnn_1*original_range_train_1,0), round(rmse_train_ffnn_2*original_range_train_2,0),round(rmse_train_ffnn_3*original_range_train_3,0),round(rmse_train_ffnn_4*original_range_train_4,0))\n",
    "print(f\"\\nDenormalised MAE of Zone 1,2,3 respectively using train data:\")\n",
    "print(round(mae_train_ffnn_1*original_range_train_1,0),round(mae_train_ffnn_2*original_range_train_2,0),round(mae_train_ffnn_3*original_range_train_3,0),round(mae_train_ffnn_4*original_range_train_4,0))\n",
    "\n",
    "\n",
    "print(f\"\\nDenormalised RSME of Zone 1, 2 3 and aggregated distribution respectively using test data:\")\n",
    "print(round(rmse_ffnn_1*original_range_test_1,0), round(rmse_ffnn_2*original_range_test_2,0),round(rmse_ffnn_3*original_range_test_3,0),round(rmse_ffnn_4*original_range_test_4,0))\n",
    "print(f\"\\nDenormalised MAE of Zone 1,2,3 respectively using test data:\")\n",
    "print(round(mae_ffnn_1*original_range_test_1,0),round(mae_ffnn_2*original_range_test_2,0),round(mae_ffnn_3*original_range_test_3,0),round(mae_ffnn_4*original_range_test_4,0))"
   ]
  },
  {
   "cell_type": "markdown",
   "id": "cf079755-33a9-44f9-95b3-b072ab31ce31",
   "metadata": {},
   "source": [
    "Result: \n",
    "\n",
    "Denormalised RSME of Zone 1, 2 3 and aggregated distributionrespectively using train data:\n",
    "2383.0 1199.0 1659.0 60.0\n",
    "\n",
    "Denormalised MAE of Zone 1,2,3 respectively using train data:\n",
    "1882.0 922.0 1286.0 26.0\n",
    "\n",
    "Denormalised RSME of Zone 1, 2 3 and aggregated distribution respectively using test data:\n",
    "2288.0 1109.0 1654.0 54.0\n",
    "\n",
    "Denormalised MAE of Zone 1,2,3 respectively using test data:\n",
    "1801.0 861.0 1281.0 25.0"
   ]
  },
  {
   "cell_type": "markdown",
   "id": "93452b72-439a-4395-832b-9d869a5589a3",
   "metadata": {},
   "source": [
    "### Linear Regression"
   ]
  },
  {
   "cell_type": "markdown",
   "id": "4f6773fb-0fd0-4e76-bfde-c234308cd9b9",
   "metadata": {},
   "source": [
    "Normalisation is necessary for Linear regression model. Therefore, the Linear regression analysis will be using normalised dataset."
   ]
  },
  {
   "cell_type": "markdown",
   "id": "22e9332d-e365-48ef-b8d5-9f4c56a9a66b",
   "metadata": {},
   "source": [
    "**Analysing Linear Regression model on the training set.**"
   ]
  },
  {
   "cell_type": "code",
   "execution_count": null,
   "id": "1eed053b-24ba-46de-9d1b-ae7dd5f6af5c",
   "metadata": {
    "tags": []
   },
   "outputs": [],
   "source": [
    "from sklearn.linear_model import LinearRegression\n",
    "\n",
    "lr = LinearRegression()\n",
    "\n",
    "#Linear Regression for Zone 1\n",
    "lr.fit(X_train, y_train_1)\n",
    "y_train_pred_lr_1 = lr.predict(X_train)\n",
    "\n",
    "mse_train_lr_1 = mean_squared_error(y_train_1, y_train_pred_lr_1)\n",
    "rmse_train_lr_1 = np.sqrt(mse_train_lr_1)\n",
    "mae_train_lr_1 = mean_absolute_error(y_train_1, y_train_pred_lr_1)\n",
    "\n",
    "#Linear Regression for Zone 2\n",
    "lr.fit(X_train, y_train_2)\n",
    "y_train_pred_lr_2 = lr.predict(X_train)\n",
    "\n",
    "mse_train_lr_2 = mean_squared_error(y_train_2, y_train_pred_lr_2)\n",
    "rmse_train_lr_2 = np.sqrt(mse_train_lr_2)\n",
    "mae_train_lr_2 = mean_absolute_error(y_train_2, y_train_pred_lr_2)\n",
    "\n",
    "#Linear Regression for Zone 3\n",
    "lr.fit(X_train, y_train_3)\n",
    "y_train_pred_lr_3 = lr.predict(X_train)\n",
    "\n",
    "mse_train_lr_3 = mean_squared_error(y_train_3, y_train_pred_lr_3)\n",
    "rmse_train_lr_3 = np.sqrt(mse_train_lr_3)\n",
    "mae_train_lr_3 = mean_absolute_error(y_train_3, y_train_pred_lr_3)\n",
    "\n",
    "#Linear Regression for average power consumption\n",
    "lr.fit(X_train, y_train_4)\n",
    "y_train_pred_lr_4 = lr.predict(X_train)\n",
    "\n",
    "mse_train_lr_4 = mean_squared_error(y_train_4, y_train_pred_lr_4)\n",
    "rmse_train_lr_4 = np.sqrt(mse_train_lr_4)\n",
    "mae_train_lr_4 = mean_absolute_error(y_train_4, y_train_pred_lr_4)\n",
    "\n",
    "print(f\"Root Mean Squared Error of Zone 1, 2 3 respectively:\\n\")\n",
    "print({rmse_train_lr_1},{rmse_train_lr_2},{rmse_train_lr_3},{rmse_train_lr_4})\n",
    "print(f\"\\nMean Absolute Error of Zone 1,2,3 respectively:\\n\")\n",
    "print({mae_train_lr_1},{mae_train_lr_2},{mae_train_lr_3},{mae_train_lr_4})"
   ]
  },
  {
   "cell_type": "markdown",
   "id": "d3451178-7841-4e56-bb1d-aa31a4e3c478",
   "metadata": {},
   "source": [
    "Result:\n",
    "\n",
    "Root Mean Squared Error of Zone 1, 2 3 respectively:\n",
    "\n",
    "{0.0469241887831391} {0.05179614713829857} {0.04991961457630768} {8.817625798604156e-16}\n",
    "\n",
    "Mean Absolute Error of Zone 1,2,3 respectively:\n",
    "\n",
    "{0.03582147051430763} {0.03986330663143562} {0.03927002843026898} {7.123449207045872e-16}"
   ]
  },
  {
   "cell_type": "markdown",
   "id": "30d14a69-4952-4eca-8082-f3a1e84fe92a",
   "metadata": {},
   "source": [
    "**Analysing Linear Regression model on the test set.**"
   ]
  },
  {
   "cell_type": "code",
   "execution_count": null,
   "id": "f9fcdc9b-0651-4bf1-9c4c-35abe76ad1d7",
   "metadata": {
    "tags": []
   },
   "outputs": [],
   "source": [
    "from sklearn.linear_model import LinearRegression\n",
    "\n",
    "#Linear Regression for Zone 1\n",
    "lr.fit(X_train, y_train_1)\n",
    "y_pred_lr_1 = lr.predict(X_test)\n",
    "\n",
    "mse_lr_1 = mean_squared_error(y_test_1, y_pred_lr_1)\n",
    "rmse_lr_1 = np.sqrt(mse_lr_1)\n",
    "mae_lr_1 = mean_absolute_error(y_test_1, y_pred_lr_1)\n",
    "\n",
    "#Linear Regression for Zone 2\n",
    "lr.fit(X_train, y_train_2)\n",
    "y_pred_lr_2 = lr.predict(X_test)\n",
    "\n",
    "mse_lr_2 = mean_squared_error(y_test_2, y_pred_lr_2)\n",
    "rmse_lr_2 = np.sqrt(mse_lr_2)\n",
    "mae_lr_2 = mean_absolute_error(y_test_2, y_pred_lr_2)\n",
    "\n",
    "#Linear Regression for Zone 3\n",
    "lr.fit(X_train, y_train_3)\n",
    "y_pred_lr_3 = lr.predict(X_test)\n",
    "\n",
    "mse_lr_3 = mean_squared_error(y_test_3, y_pred_lr_3)\n",
    "rmse_lr_3 = np.sqrt(mse_lr_3)\n",
    "mae_lr_3 = mean_absolute_error(y_test_3, y_pred_lr_3)\n",
    "\n",
    "#Linear Regression for Average power consumption\n",
    "lr.fit(X_train, y_train_4)\n",
    "y_pred_lr_4 = lr.predict(X_test)\n",
    "\n",
    "mse_lr_4 = mean_squared_error(y_test_4, y_pred_lr_4)\n",
    "rmse_lr_4 = np.sqrt(mse_lr_4)\n",
    "mae_lr_4 = mean_absolute_error(y_test_4, y_pred_lr_4)\n",
    "\n",
    "print(f\"Root Mean Squared Error of Zone 1, 2 3 respectively:\\n\")\n",
    "print({rmse_lr_1},{rmse_lr_2},{rmse_lr_3},{rmse_lr_4})\n",
    "print(f\"Mean Absolute Error of Zone 1,2,3 respectively:\\n\")\n",
    "print({mae_lr_1},{mae_lr_2},{mae_lr_3},{mae_lr_4})"
   ]
  },
  {
   "cell_type": "markdown",
   "id": "3f929976-ac98-48c8-9411-8793f93b8aaa",
   "metadata": {},
   "source": [
    "Result:\n",
    "\n",
    "Root Mean Squared Error of Zone 1, 2 3 respectively:\n",
    "\n",
    "{0.04664117055355954} {0.05129819905615918} {0.049833241097140754} {8.902868188683081e-16}\n",
    "\n",
    "Mean Absolute Error of Zone 1,2,3 respectively:\n",
    "\n",
    "{0.03574679697304317} {0.03950316796523533} {0.03904014844600251} {7.24492558404262e-16}"
   ]
  },
  {
   "cell_type": "markdown",
   "id": "3f2fba75-f5a2-4e00-bd22-572ba4883b82",
   "metadata": {},
   "source": [
    "**De-normalise evalutaion metrics - Linear regression**"
   ]
  },
  {
   "cell_type": "code",
   "execution_count": null,
   "id": "e5691db4-0c93-497a-8b89-6a2082dadcd5",
   "metadata": {
    "tags": []
   },
   "outputs": [],
   "source": [
    "print(f\"Denormalised RSME of Zone 1, 2 3 and aggregated distribution respectively using train data:\")\n",
    "print(round(rmse_train_lr_1*original_range_train_1,0), round(rmse_train_lr_2*original_range_train_2,0),round(rmse_train_lr_3*original_range_train_3,0),{rmse_train_lr_4*original_range_train_4})\n",
    "print(f\"\\nDenormalised MAE of Zone 1,2,3 respectively using train data:\")\n",
    "print(round(mae_train_lr_1*original_range_train_1,0),round(mae_train_lr_2*original_range_train_2,0),round(mae_train_lr_3*original_range_train_3,0),{mae_train_lr_4*original_range_train_4})\n",
    "\n",
    "print(f\"\\nDenormalised RSME of Zone 1, 2 3 and aggregated distribution respectively using test data:\")\n",
    "print(round(rmse_lr_1*original_range_test_1,0), round(rmse_lr_2*original_range_test_2,0),round(rmse_lr_3*original_range_test_3,0),{rmse_lr_4*original_range_test_4})\n",
    "print(f\"\\nDenormalised MAE of Zone 1,2,3 respectively using test data:\")\n",
    "print(round(mae_lr_1*original_range_test_1,0),round(mae_lr_2*original_range_test_2,0),round(mae_lr_3*original_range_test_3,0),{mae_lr_4*original_range_test_4})"
   ]
  },
  {
   "cell_type": "markdown",
   "id": "d080b145-ae2a-48b9-99a0-721ab709fe77",
   "metadata": {},
   "source": [
    "Result:\n",
    "\n",
    "Denormalised RSME of Zone 1, 2 3 and aggregated distribution respectively using train data:\n",
    "1798.0 1494.0 2080.0 {2.8498273471744176e-11}\n",
    "\n",
    "Denormalised MAE of Zone 1,2,3 respectively using train data:\n",
    "1372.0 1150.0 1636.0 {2.3022751044460137e-11}\n",
    "\n",
    "Denormalised RSME of Zone 1, 2 3 and aggregated distribution respectively using test data:\n",
    "1735.0 1387.0 2059.0 {2.8824219074013048e-11}\n",
    "\n",
    "Denormalised MAE of Zone 1,2,3 respectively using test data:\n",
    "1330.0 1068.0 1613.0 {2.3456409528203583e-11}"
   ]
  },
  {
   "cell_type": "markdown",
   "id": "d8df5cff-9d78-4d51-a330-d8991c741edc",
   "metadata": {},
   "source": [
    "## Hourly data analysis"
   ]
  },
  {
   "cell_type": "markdown",
   "id": "f550e965-5d4b-419b-a028-7b6fb11ff3aa",
   "metadata": {},
   "source": [
    "The steps in the hourly data analysis are:\n",
    "- Step 1: Convert the original data (with extracted datetime components) into hourly data\n",
    "- Step 2: Split the hourly data into 25% test and 75% training\n",
    "- Step 3: Run Random Forest model using the un-normalised hourly data\n",
    "- Step 4: Run Decision Tree model using the un-normalised hourly data\n",
    "\n",
    "- Step 5: Normalise the hourly data\n",
    "- Step 6: Split the hourly normalised data into 25%-75% test and training ratio\n",
    "- Step 7: Run SVR  model using the normalised hourly data\n",
    "- Step 8: FFNN model using the normalised hourly data\n",
    "- Step 9: Run LR model using the normalised hourly data"
   ]
  },
  {
   "cell_type": "markdown",
   "id": "5c9f19ed-2cca-4364-ae58-f2c9350f9dab",
   "metadata": {},
   "source": [
    "**Step 1: Convert the original data into hourly data**"
   ]
  },
  {
   "cell_type": "markdown",
   "id": "53b11eb4-fe8b-4236-897b-36c1d85b1136",
   "metadata": {},
   "source": [
    "Convert the 10-minute interval instances to hourly instances"
   ]
  },
  {
   "cell_type": "code",
   "execution_count": null,
   "id": "503a21ed-365a-4020-a61a-d613e3acbe8b",
   "metadata": {
    "tags": []
   },
   "outputs": [],
   "source": [
    "# Set the DateTime column as the index\n",
    "data_hourly= data.set_index('DateTime', inplace=True)\n",
    "\n",
    "# Resample the data to hourly intervals and compute the mean, while keeping the DateTime column intact\n",
    "data_hourly = data.resample('H').mean()\n",
    "\n",
    "# Reset the index to restore 'DateTime' as a column\n",
    "data_hourly.reset_index(inplace=True)\n",
    "data.reset_index(inplace=True)\n",
    "\n",
    "# Print the resampled data with 'DateTime' column intact\n",
    "data_hourly.head(3)"
   ]
  },
  {
   "cell_type": "markdown",
   "id": "f933c869-9e00-4082-9cb3-dbcba0f33bdc",
   "metadata": {},
   "source": [
    "**Step 2: Split the hourly data into 25% test and 75% training**"
   ]
  },
  {
   "cell_type": "code",
   "execution_count": null,
   "id": "d73c778a-1784-4996-adfc-896d64f6338d",
   "metadata": {
    "tags": []
   },
   "outputs": [],
   "source": [
    "from sklearn.model_selection import train_test_split\n",
    "X_h_original = data_hourly[features]\n",
    "\n",
    "y1_h_original = data_hourly['Zone 1 Power Consumption']\n",
    "y2_h_original = data_hourly['Zone 2  Power Consumption']\n",
    "y3_h_original = data_hourly['Zone 3  Power Consumption']\n",
    "y4_h_original = data_hourly['Average Power Consumption']\n",
    "\n",
    "X_train_h_original, X_test_h_original, y_train_1_h_original, y_test_1_h_original = train_test_split(X_h_original, y1_h_original, test_size=0.25, random_state=42)\n",
    "X_train_h_original, X_test_h_original, y_train_2_h_original, y_test_2_h_original = train_test_split(X_h_original, y2_h_original, test_size=0.25, random_state=42)\n",
    "X_train_h_original, X_test_h_original, y_train_3_h_original, y_test_3_h_original = train_test_split(X_h_original, y3_h_original, test_size=0.25, random_state=42)\n",
    "X_train_h_original, X_test_h_original, y_train_4_h_original, y_test_4_h_original = train_test_split(X_h_original, y4_h_original, test_size=0.25, random_state=42)"
   ]
  },
  {
   "cell_type": "markdown",
   "id": "bcbf302a-01e7-458d-ade9-7dcff7a0c65b",
   "metadata": {},
   "source": [
    "**Step 3: Run Random Forest model using the un-normalised hourly data**"
   ]
  },
  {
   "cell_type": "markdown",
   "id": "7fe3f242-b6c3-4616-b6f2-19ae5aeb6957",
   "metadata": {},
   "source": [
    "**3a. Random Forest - Hourly data - Quads Distribution (Zone 1)**"
   ]
  },
  {
   "cell_type": "markdown",
   "id": "3db42630-1356-4ed5-86e7-ae0d82616f72",
   "metadata": {},
   "source": [
    "Based on Case Study of Tetuoan city, the best parameters for Random Forest model - Zone 1 are:\n",
    "- Number of trees in the forest: n_estimators=50\n",
    "- Number of features at each split: max_features=3\n",
    "- Max depth of each tree: max_depth=None\n",
    "- Min number of samples to split: min_samples_split=2\n",
    "- Min number of samples at a leaf node: min_samples_leaf=1"
   ]
  },
  {
   "cell_type": "code",
   "execution_count": null,
   "id": "0163860c-9d8d-4614-af2f-e73c97870c26",
   "metadata": {
    "tags": []
   },
   "outputs": [],
   "source": [
    "from sklearn.ensemble import RandomForestRegressor\n",
    "from sklearn.metrics import mean_squared_error, mean_absolute_error\n",
    "\n",
    "rf_regressor_hour_z1 = RandomForestRegressor(\n",
    "    n_estimators=50,\n",
    "    max_features=3,\n",
    "    max_depth=None,\n",
    "    min_samples_split=2,\n",
    "    min_samples_leaf=1,\n",
    "    random_state=42\n",
    ")"
   ]
  },
  {
   "cell_type": "code",
   "execution_count": null,
   "id": "5087d10b-6765-4513-a133-ab1905d34fa2",
   "metadata": {
    "tags": []
   },
   "outputs": [],
   "source": [
    "# Random Forest model on training data\n",
    "rf_regressor_hour_z1.fit(X_train_h_original, y_train_1_h_original)\n",
    "y_train_pred_rf_1_h = rf_regressor_hour_z1.predict(X_train_h_original)\n",
    "\n",
    "mse_train_rf_1_h = mean_squared_error(y_train_1_h_original, y_train_pred_rf_1_h)\n",
    "rmse_train_rf_1_h = np.sqrt(mse_train_rf_1_h)\n",
    "mae_train_rf_1_h = mean_absolute_error(y_train_1_h_original, y_train_pred_rf_1_h)\n",
    "\n",
    "# Random Forest model on test data\n",
    "rf_regressor_hour_z1.fit(X_train_h_original, y_train_1_h_original)\n",
    "y_pred_rf_1_h = rf_regressor_hour_z1.predict(X_test_h_original)\n",
    "\n",
    "mse_rf_1_h = mean_squared_error(y_test_1_h_original, y_pred_rf_1_h)\n",
    "rmse_rf_1_h = np.sqrt(mse_rf_1_h)\n",
    "mae_rf_1_h = mean_absolute_error(y_test_1_h_original, y_pred_rf_1_h)\n",
    "\n",
    "print(f\"Root Mean Squared Error of Zone 1 for training and test data respectively:\\n\")\n",
    "print(round(rmse_train_rf_1_h,0),round(rmse_rf_1_h,0))\n",
    "print(f\"\\nMean Absolute Error of Zone 1 for training and test data respectively:\\n\")\n",
    "print(round(mae_train_rf_1_h,0),round(mae_rf_1_h,0))"
   ]
  },
  {
   "cell_type": "markdown",
   "id": "0f2d42b1-39d1-4fea-b53c-16f9c4921f47",
   "metadata": {
    "tags": []
   },
   "source": [
    "Result:\n",
    "    \n",
    "Root Mean Squared Error of Zone 1 for training and test data respectively:\n",
    "\n",
    "339.0 826.0\n",
    "\n",
    "Mean Absolute Error of Zone 1 for training and test data respectively:\n",
    "\n",
    "236.0 565.0"
   ]
  },
  {
   "cell_type": "markdown",
   "id": "a6536215-fabb-4283-82b9-d4ceb1f1ce9f",
   "metadata": {},
   "source": [
    "**3b. Random Forest - Hourly data - Smir Distribution (Zone 2)**"
   ]
  },
  {
   "cell_type": "markdown",
   "id": "3a105695-1053-4194-8fd0-4790f8ccc0a3",
   "metadata": {},
   "source": [
    "Based on Case Study of Tetuoan city, the best parameters for Random Forest model - Zone 2 are:\n",
    "- Number of trees in the forest: n_estimators=10\n",
    "- Number of features at each split: max_features=7\n",
    "- Max depth of each tree: max_depth=None\n",
    "- Min number of samples to split: min_samples_split=3\n",
    "- Min number of samples at a leaf node: min_samples_leaf=1"
   ]
  },
  {
   "cell_type": "code",
   "execution_count": null,
   "id": "84f04ddd-a191-4c99-8b98-be5be596b10d",
   "metadata": {
    "tags": []
   },
   "outputs": [],
   "source": [
    "from sklearn.ensemble import RandomForestRegressor\n",
    "from sklearn.metrics import mean_squared_error, mean_absolute_error\n",
    "\n",
    "rf_regressor_hour_z2 = RandomForestRegressor(\n",
    "    n_estimators=10,\n",
    "    max_features=7,\n",
    "    max_depth=None,\n",
    "    min_samples_split=3,\n",
    "    min_samples_leaf=1,\n",
    "    random_state=42\n",
    ")"
   ]
  },
  {
   "cell_type": "code",
   "execution_count": null,
   "id": "07425fa5-0304-4b2b-839c-8e84a285be35",
   "metadata": {
    "tags": []
   },
   "outputs": [],
   "source": [
    "# Random Forest model on training data\n",
    "rf_regressor_hour_z2.fit(X_train_h_original, y_train_2_h_original)\n",
    "y_train_pred_rf_2_h = rf_regressor_hour_z2.predict(X_train_h_original)\n",
    "\n",
    "mse_train_rf_2_h = mean_squared_error(y_train_2_h_original, y_train_pred_rf_2_h)\n",
    "rmse_train_rf_2_h = np.sqrt(mse_train_rf_2_h)\n",
    "mae_train_rf_2_h = mean_absolute_error(y_train_2_h_original, y_train_pred_rf_2_h)\n",
    "\n",
    "# Random Forest model on test data\n",
    "rf_regressor_hour_z2.fit(X_train_h_original, y_train_2_h_original)\n",
    "y_pred_rf_2_h = rf_regressor_hour_z2.predict(X_test_h_original)\n",
    "\n",
    "mse_rf_2_h = mean_squared_error(y_test_2_h_original, y_pred_rf_2_h)\n",
    "rmse_rf_2_h = np.sqrt(mse_rf_2_h)\n",
    "mae_rf_2_h = mean_absolute_error(y_test_2_h_original, y_pred_rf_2_h)\n",
    "\n",
    "print(f\"Root Mean Squared Error of Zone 2 for training and test data respectively:\\n\")\n",
    "print(round(rmse_train_rf_2_h,0),round(rmse_rf_2_h,0))\n",
    "print(f\"\\nMean Absolute Error of Zone 2 for training and test data respectively:\\n\")\n",
    "print(round(mae_train_rf_2_h,0),round(mae_rf_2_h,0))"
   ]
  },
  {
   "cell_type": "markdown",
   "id": "858fe009-8c10-4a22-bfae-0d7e94e16747",
   "metadata": {},
   "source": [
    "Result:\n",
    "\n",
    "Root Mean Squared Error of Zone 2 for training and test data respectively:\n",
    "\n",
    "359.0 743.0\n",
    "\n",
    "Mean Absolute Error of Zone 2 for training and test data respectively:\n",
    "\n",
    "232.0 508.0"
   ]
  },
  {
   "cell_type": "markdown",
   "id": "55e344bd-a43e-4cda-9b50-c4442ead92f0",
   "metadata": {},
   "source": [
    "**3c. Random Forest - Hourly data - Boussaou Distribution (Zone 3)**"
   ]
  },
  {
   "cell_type": "markdown",
   "id": "0525e45e-b2e8-475d-a87b-c4a735dae975",
   "metadata": {},
   "source": [
    "Based on Case Study of Tetuoan city, the best parameters for Random Forest model - Zone 3 are:\n",
    "- Number of trees in the forest: n_estimators=10\n",
    "- Number of features at each split: max_features=7\n",
    "- Max depth of each tree: max_depth=None\n",
    "- Min number of samples to split: min_samples_split=3\n",
    "- Min number of samples at a leaf node: min_samples_leaf=10"
   ]
  },
  {
   "cell_type": "code",
   "execution_count": null,
   "id": "d141a90b-df18-445e-874f-59c062a41a35",
   "metadata": {
    "tags": []
   },
   "outputs": [],
   "source": [
    "from sklearn.ensemble import RandomForestRegressor\n",
    "from sklearn.metrics import mean_squared_error, mean_absolute_error\n",
    "\n",
    "rf_regressor_hour_z3 = RandomForestRegressor(\n",
    "    n_estimators=10,\n",
    "    max_features=7,\n",
    "    max_depth=None,\n",
    "    min_samples_split=3,\n",
    "    min_samples_leaf=10,\n",
    "    random_state=42\n",
    ")"
   ]
  },
  {
   "cell_type": "code",
   "execution_count": null,
   "id": "f7b913de-175a-46ed-9409-9b0eb08b267f",
   "metadata": {
    "tags": []
   },
   "outputs": [],
   "source": [
    "# Random Forest model on training data\n",
    "rf_regressor_hour_z3.fit(X_train_h_original, y_train_3_h_original)\n",
    "y_train_pred_rf_3_h = rf_regressor_hour_z3.predict(X_train_h_original)\n",
    "\n",
    "mse_train_rf_3_h = mean_squared_error(y_train_3_h_original, y_train_pred_rf_3_h)\n",
    "rmse_train_rf_3_h = np.sqrt(mse_train_rf_3_h)\n",
    "mae_train_rf_3_h = mean_absolute_error(y_train_3_h_original, y_train_pred_rf_3_h)\n",
    "\n",
    "# Random Forest model on test data\n",
    "rf_regressor_hour_z3.fit(X_train_h_original, y_train_3_h_original)\n",
    "y_pred_rf_3_h = rf_regressor_hour_z3.predict(X_test_h_original)\n",
    "\n",
    "mse_rf_3_h = mean_squared_error(y_test_3_h_original, y_pred_rf_3_h)\n",
    "rmse_rf_3_h = np.sqrt(mse_rf_3_h)\n",
    "mae_rf_3_h = mean_absolute_error(y_test_3_h_original, y_pred_rf_3_h)\n",
    "\n",
    "print(f\"Root Mean Squared Error of Zone 3 for training and test data respectively:\\n\")\n",
    "print(round(rmse_train_rf_3_h,0),round(rmse_rf_3_h,0))\n",
    "print(f\"\\nMean Absolute Error of Zone 3 for training and test data respectively:\\n\")\n",
    "print(round(mae_train_rf_3_h,0),round(mae_rf_3_h,0))"
   ]
  },
  {
   "cell_type": "markdown",
   "id": "15839dca-5172-467d-91e5-5733a4553d8b",
   "metadata": {},
   "source": [
    "Result:\n",
    "\n",
    "Root Mean Squared Error of Zone 3 for training and test data respectively:\n",
    "\n",
    "667.0 837.0\n",
    "\n",
    "Mean Absolute Error of Zone 3 for training and test data respectively:\n",
    "\n",
    "465.0 571.0"
   ]
  },
  {
   "cell_type": "markdown",
   "id": "3899e630-3995-4033-9689-b5a387f49b94",
   "metadata": {},
   "source": [
    "**3d. Random Forest - Hourly data - Aggregated Distribution**"
   ]
  },
  {
   "cell_type": "markdown",
   "id": "96a2e797-c5b5-45d2-bbf3-f862156da906",
   "metadata": {},
   "source": [
    "Based on Case Study of Tetuoan city, the best parameters for Random Forest model - Average power consumption data are:\n",
    "- Number of trees in the forest: n_estimators=100\n",
    "- Number of features at each split: max_features=5\n",
    "- Max depth of each tree: max_depth=None\n",
    "- Min number of samples to split: min_samples_split=2\n",
    "- Min number of samples at a leaf node: min_samples_leaf=1"
   ]
  },
  {
   "cell_type": "code",
   "execution_count": null,
   "id": "cf60fd2f-f71b-495b-bf52-0d81a65a3503",
   "metadata": {
    "tags": []
   },
   "outputs": [],
   "source": [
    "from sklearn.ensemble import RandomForestRegressor\n",
    "from sklearn.metrics import mean_squared_error, mean_absolute_error\n",
    "\n",
    "rf_regressor_hour_z4 = RandomForestRegressor(\n",
    "    n_estimators=100,\n",
    "    max_features=5,\n",
    "    max_depth=None,\n",
    "    min_samples_split=2,\n",
    "    min_samples_leaf=1,\n",
    "    random_state=42\n",
    ")"
   ]
  },
  {
   "cell_type": "code",
   "execution_count": null,
   "id": "afec5c5a-4eae-4d65-bffe-9a994ca4619b",
   "metadata": {
    "tags": []
   },
   "outputs": [],
   "source": [
    "# Random Forest model on training data\n",
    "rf_regressor_hour_z4.fit(X_train_h_original, y_train_4_h_original)\n",
    "y_train_pred_rf_4_h = rf_regressor_hour_z4.predict(X_train_h_original)\n",
    "\n",
    "mse_train_rf_4_h = mean_squared_error(y_train_4_h_original, y_train_pred_rf_4_h)\n",
    "rmse_train_rf_4_h = np.sqrt(mse_train_rf_4_h)\n",
    "mae_train_rf_4_h = mean_absolute_error(y_train_4_h_original, y_train_pred_rf_4_h)\n",
    "\n",
    "# Random Forest model on test data\n",
    "rf_regressor_hour_z4.fit(X_train_h_original, y_train_4_h_original)\n",
    "y_pred_rf_4_h = rf_regressor_hour_z4.predict(X_test_h_original)\n",
    "\n",
    "mse_rf_4_h = mean_squared_error(y_test_4_h_original, y_pred_rf_4_h)\n",
    "rmse_rf_4_h = np.sqrt(mse_rf_4_h)\n",
    "mae_rf_4_h = mean_absolute_error(y_test_4_h_original, y_pred_rf_4_h)\n",
    "\n",
    "print(f\"Root Mean Squared Error of Aggregated distribution for training and test data respectively:\\n\")\n",
    "print(round(rmse_train_rf_4_h,0),round(rmse_rf_4_h,0))\n",
    "print(f\"\\nMean Absolute Error of Aggregated distribution for training and test data respectively:\\n\")\n",
    "print(round(mae_train_rf_4_h,0),round(mae_rf_4_h,0))"
   ]
  },
  {
   "cell_type": "markdown",
   "id": "d1cdbb46-262a-46bb-b0ad-43d66f230ae4",
   "metadata": {},
   "source": [
    "Result:\n",
    "\n",
    "Root Mean Squared Error of Aggregated distribution for training and test data respectively:\n",
    "\n",
    "66.0 154.0\n",
    "\n",
    "Mean Absolute Error of Aggregated distribution for training and test data respectively:\n",
    "\n",
    "41.0 96.0"
   ]
  },
  {
   "cell_type": "markdown",
   "id": "bae0aedd-451f-4025-a0e2-8b3110f8232b",
   "metadata": {},
   "source": [
    "**Step 4: Run Decision Tree model using the un-normalised hourly data**"
   ]
  },
  {
   "cell_type": "markdown",
   "id": "7312ec0f-2a7c-4b33-b99e-795a7df6134f",
   "metadata": {},
   "source": [
    "**4a. Decision Tree - Hourly data - Quads Distribution (Zone 1)**"
   ]
  },
  {
   "cell_type": "markdown",
   "id": "64a7e8b2-2a43-4bf7-999f-2980550ff5e8",
   "metadata": {},
   "source": [
    "Based on Case Study of Tetuoan city, the best parameters for Decision Tree model are:\n",
    "- Depth of tree: max_depth=None\n",
    "- Min number of samples to split  an internal node: min_samples_split=2\n",
    "- Min number of samples to be at a leaf node: min_samples_leaf=10\n",
    "- Number of features: max_features=5"
   ]
  },
  {
   "cell_type": "code",
   "execution_count": null,
   "id": "25bbb37b-e649-4c38-ad87-b00c3896bd05",
   "metadata": {
    "tags": []
   },
   "outputs": [],
   "source": [
    "from sklearn.tree import DecisionTreeRegressor\n",
    "from sklearn.metrics import mean_squared_error, mean_absolute_error\n",
    "\n",
    "dt_regressor_hour_z1 = DecisionTreeRegressor(\n",
    "    max_depth=None,\n",
    "    min_samples_split=2,\n",
    "    min_samples_leaf=10,\n",
    "    max_features=5,\n",
    "    random_state=42\n",
    ")"
   ]
  },
  {
   "cell_type": "code",
   "execution_count": null,
   "id": "771c75f5-ae0b-459a-958f-590db1f57ed6",
   "metadata": {
    "tags": []
   },
   "outputs": [],
   "source": [
    "# Decision Tree model on training data\n",
    "dt_regressor_hour_z1.fit(X_train_h_original, y_train_1_h_original)\n",
    "y_train_pred_dt_1_h = dt_regressor_hour_z1.predict(X_train_h_original)\n",
    "\n",
    "mse_train_dt_1_h = mean_squared_error(y_train_1_h_original, y_train_pred_dt_1_h)\n",
    "rmse_train_dt_1_h = np.sqrt(mse_train_dt_1_h)\n",
    "mae_train_dt_1_h = mean_absolute_error(y_train_1_h_original, y_train_pred_dt_1_h)\n",
    "\n",
    "# Decision Tree model on test data\n",
    "dt_regressor_hour_z1.fit(X_train_h_original, y_train_1_h_original)\n",
    "y_pred_dt_1_h = dt_regressor_hour_z1.predict(X_test_h_original)\n",
    "\n",
    "mse_dt_1_h = mean_squared_error(y_test_1_h_original, y_pred_dt_1_h)\n",
    "rmse_dt_1_h = np.sqrt(mse_dt_1_h)\n",
    "mae_dt_1_h = mean_absolute_error(y_test_1_h_original, y_pred_dt_1_h)\n",
    "\n",
    "print(f\"RMSE of Zone 1 for training and test data respectively:\\n\")\n",
    "print(round(rmse_train_dt_1_h,0),round(rmse_dt_1_h,0))\n",
    "print(f\"\\nMAE of Zone 1 for training and test data respectively:\\n\")\n",
    "print(round(mae_train_dt_1_h,0),round(mae_dt_1_h,0))"
   ]
  },
  {
   "cell_type": "markdown",
   "id": "759d7d77-5880-4854-8fb8-410dca3283cf",
   "metadata": {},
   "source": [
    "Result:\n",
    "\n",
    "RMSE of Zone 1 for training and test data respectively:\n",
    "\n",
    "960.0 1244.0\n",
    "\n",
    "MAE of Zone 1 for training and test data respectively:\n",
    "\n",
    "679.0 885.0"
   ]
  },
  {
   "cell_type": "markdown",
   "id": "0035ea56-91c3-478f-a64b-7bf1935390e3",
   "metadata": {},
   "source": [
    "**4b. Decision Tree - Hourly data - Smir Distribution (Zone 2)**"
   ]
  },
  {
   "cell_type": "code",
   "execution_count": null,
   "id": "fbbb5546-8c96-49ae-bc2d-430aab800885",
   "metadata": {
    "tags": []
   },
   "outputs": [],
   "source": [
    "from sklearn.tree import DecisionTreeRegressor\n",
    "from sklearn.metrics import mean_squared_error, mean_absolute_error\n",
    "\n",
    "dt_regressor_hour_z2 = DecisionTreeRegressor(\n",
    "    max_depth=None,\n",
    "    min_samples_split=3,\n",
    "    min_samples_leaf=10,\n",
    "    max_features=7,\n",
    "    random_state=42\n",
    ")"
   ]
  },
  {
   "cell_type": "code",
   "execution_count": null,
   "id": "f8e0e769-3f72-48c8-b362-50dcce791f52",
   "metadata": {
    "tags": []
   },
   "outputs": [],
   "source": [
    "# Decision Tree model on training data\n",
    "dt_regressor_hour_z2.fit(X_train_h_original, y_train_2_h_original)\n",
    "y_train_pred_dt_2_h = dt_regressor_hour_z2.predict(X_train_h_original)\n",
    "\n",
    "mse_train_dt_2_h = mean_squared_error(y_train_2_h_original, y_train_pred_dt_2_h)\n",
    "rmse_train_dt_2_h = np.sqrt(mse_train_dt_2_h)\n",
    "mae_train_dt_2_h = mean_absolute_error(y_train_2_h_original, y_train_pred_dt_2_h)\n",
    "\n",
    "# Decision Tree model on test data\n",
    "dt_regressor_hour_z2.fit(X_train_h_original, y_train_2_h_original)\n",
    "y_pred_dt_2_h = dt_regressor_hour_z2.predict(X_test_h_original)\n",
    "\n",
    "mse_dt_2_h = mean_squared_error(y_test_2_h_original, y_pred_dt_2_h)\n",
    "rmse_dt_2_h = np.sqrt(mse_dt_2_h)\n",
    "mae_dt_2_h = mean_absolute_error(y_test_2_h_original, y_pred_dt_2_h)\n",
    "\n",
    "print(f\"RMSE of Zone 2 for training and test data respectively:\\n\")\n",
    "print(round(rmse_train_dt_2_h,0),round(rmse_dt_2_h,0))\n",
    "print(f\"\\nMAE of Zone 2 for training and test data respectively:\\n\")\n",
    "print(round(mae_train_dt_2_h,0),round(mae_dt_2_h,0))"
   ]
  },
  {
   "cell_type": "markdown",
   "id": "d643d936-94d5-4305-907c-c5b8ccab6ded",
   "metadata": {},
   "source": [
    "Result:\n",
    "\n",
    "RMSE of Zone 2 for training and test data respectively:\n",
    "\n",
    "801.0 1016.0\n",
    "\n",
    "MAE of Zone 2 for training and test data respectively:\n",
    "\n",
    "564.0 723.0"
   ]
  },
  {
   "cell_type": "markdown",
   "id": "2726e67d-5dab-473f-9a80-d078d3efbd33",
   "metadata": {},
   "source": [
    "**4c. Decision Tree - Hourly data - Boussafou Distribution (Zone 3)**"
   ]
  },
  {
   "cell_type": "code",
   "execution_count": null,
   "id": "4e02e443-876f-42da-b142-b1457ba91187",
   "metadata": {
    "tags": []
   },
   "outputs": [],
   "source": [
    "from sklearn.tree import DecisionTreeRegressor\n",
    "from sklearn.metrics import mean_squared_error, mean_absolute_error\n",
    "\n",
    "dt_regressor_hour_z3 = DecisionTreeRegressor(\n",
    "    max_depth=None,\n",
    "    min_samples_split=2,\n",
    "    min_samples_leaf=10,\n",
    "    max_features=9,\n",
    "    random_state=42\n",
    ")"
   ]
  },
  {
   "cell_type": "code",
   "execution_count": null,
   "id": "8af68cd9-ef75-47cc-a59f-881a14ee1ce3",
   "metadata": {
    "tags": []
   },
   "outputs": [],
   "source": [
    "# Decision Tree model on training data\n",
    "dt_regressor_hour_z3.fit(X_train_h_original, y_train_3_h_original)\n",
    "y_train_pred_dt_3_h = dt_regressor_hour_z3.predict(X_train_h_original)\n",
    "\n",
    "mse_train_dt_3_h = mean_squared_error(y_train_3_h_original, y_train_pred_dt_3_h)\n",
    "rmse_train_dt_3_h = np.sqrt(mse_train_dt_3_h)\n",
    "mae_train_dt_3_h = mean_absolute_error(y_train_3_h_original, y_train_pred_dt_3_h)\n",
    "\n",
    "# Decision Tree model on test data\n",
    "dt_regressor_hour_z3.fit(X_train_h_original, y_train_3_h_original)\n",
    "y_pred_dt_3_h = dt_regressor_hour_z3.predict(X_test_h_original)\n",
    "\n",
    "mse_dt_3_h = mean_squared_error(y_test_3_h_original, y_pred_dt_3_h)\n",
    "rmse_dt_3_h = np.sqrt(mse_dt_3_h)\n",
    "mae_dt_3_h = mean_absolute_error(y_test_3_h_original, y_pred_dt_3_h)\n",
    "\n",
    "print(f\"RMSE of Zone 3 for training and test data respectively:\\n\")\n",
    "print(round(rmse_train_dt_3_h,0),round(rmse_dt_3_h,0))\n",
    "print(f\"\\nMAE of Zone 3 for training and test data respectively:\\n\")\n",
    "print(round(mae_train_dt_3_h,0),round(mae_dt_3_h,0))"
   ]
  },
  {
   "cell_type": "markdown",
   "id": "0d3ab205-05b1-4c31-aad9-eaf5fc6dde5d",
   "metadata": {},
   "source": [
    "Result:\n",
    "\n",
    "RMSE of Zone 3 for training and test data respectively:\n",
    "\n",
    "728.0 1042.0\n",
    "\n",
    "MAE of Zone 3 for training and test data respectively:\n",
    "\n",
    "498.0 689.0"
   ]
  },
  {
   "cell_type": "markdown",
   "id": "f882119c-94be-4ff1-974d-b00f7b3bbd1e",
   "metadata": {},
   "source": [
    "**4d. Decision Tree - Hourly data - Aggregated Distribution**"
   ]
  },
  {
   "cell_type": "code",
   "execution_count": null,
   "id": "bfdc43d4-200a-4a38-bd03-261c51be105e",
   "metadata": {
    "tags": []
   },
   "outputs": [],
   "source": [
    "from sklearn.tree import DecisionTreeRegressor\n",
    "from sklearn.metrics import mean_squared_error, mean_absolute_error\n",
    "\n",
    "dt_regressor_hour_z4 = DecisionTreeRegressor(\n",
    "    max_depth=None,\n",
    "    min_samples_split=3,\n",
    "    min_samples_leaf=3,\n",
    "    max_features=9,\n",
    "    random_state=42\n",
    ")"
   ]
  },
  {
   "cell_type": "code",
   "execution_count": null,
   "id": "8399871a-c1cc-414e-93fb-fefb8cc33bed",
   "metadata": {
    "tags": []
   },
   "outputs": [],
   "source": [
    "# Decision Tree model on training data\n",
    "dt_regressor_hour_z4.fit(X_train_h_original, y_train_4_h_original)\n",
    "y_train_pred_dt_4_h = dt_regressor_hour_z4.predict(X_train_h_original)\n",
    "\n",
    "mse_train_dt_4_h = mean_squared_error(y_train_4_h_original, y_train_pred_dt_4_h)\n",
    "rmse_train_dt_4_h = np.sqrt(mse_train_dt_4_h)\n",
    "mae_train_dt_4_h = mean_absolute_error(y_train_4_h_original, y_train_pred_dt_4_h)\n",
    "\n",
    "# Decision Tree model on test data\n",
    "dt_regressor_hour_z4.fit(X_train_h_original, y_train_4_h_original)\n",
    "y_pred_dt_4_h = dt_regressor_hour_z4.predict(X_test_h_original)\n",
    "\n",
    "mse_dt_4_h = mean_squared_error(y_test_4_h_original, y_pred_dt_4_h)\n",
    "rmse_dt_4_h = np.sqrt(mse_dt_4_h)\n",
    "mae_dt_4_h = mean_absolute_error(y_test_4_h_original, y_pred_dt_4_h)\n",
    "\n",
    "print(f\"RMSE of Aggregated distribution for training and test data respectively:\\n\")\n",
    "print(round(rmse_train_dt_4_h,0),round(rmse_dt_4_h,0))\n",
    "print(f\"\\nMAE of Aggregated distribution for training and test data respectively:\\n\")\n",
    "print(round(mae_train_dt_4_h,0),round(mae_dt_4_h,0))"
   ]
  },
  {
   "cell_type": "markdown",
   "id": "61de68fa-4ba6-424d-ad38-22ed0e1abf9a",
   "metadata": {},
   "source": [
    "Result:\n",
    "\n",
    "RMSE of Aggregated distribution for training and test data respectively:\n",
    "\n",
    "59.0 134.0\n",
    "\n",
    "MAE of Aggregated distribution for training and test data respectively:\n",
    "\n",
    "20.0 46.0"
   ]
  },
  {
   "cell_type": "markdown",
   "id": "976dcdef-340a-4205-b7ab-97506f342aae",
   "metadata": {},
   "source": [
    "**Step 5: Normalise the hourly data**"
   ]
  },
  {
   "cell_type": "code",
   "execution_count": null,
   "id": "c568e03b-dd81-4940-ab33-c04232e3f971",
   "metadata": {
    "tags": []
   },
   "outputs": [],
   "source": [
    "from sklearn.preprocessing import MinMaxScaler\n",
    "data_normalised_hourly = data_hourly.copy()\n",
    "\n",
    "# Initialise the MinMaxScaler\n",
    "scaler = MinMaxScaler()\n",
    "\n",
    "# Define columns to scale:\n",
    "columns_to_scale = ['Temperature', 'Humidity', 'Wind Speed', \n",
    "                    'general diffuse flows', 'diffuse flows', \n",
    "                    'Zone 1 Power Consumption', \n",
    "                    'Zone 2  Power Consumption', \n",
    "                    'Zone 3  Power Consumption', 'Average Power Consumption']\n",
    "\n",
    "# Scale the selected columns\n",
    "data_normalised_hourly[columns_to_scale] = scaler.fit_transform(data_normalised_hourly[columns_to_scale])\n"
   ]
  },
  {
   "cell_type": "code",
   "execution_count": null,
   "id": "1eb85546-3999-4230-a765-f101efa6af33",
   "metadata": {
    "tags": []
   },
   "outputs": [],
   "source": [
    "print(data_normalised_hourly)"
   ]
  },
  {
   "cell_type": "markdown",
   "id": "e6d2e6fd-f946-479b-877c-35a765e6a344",
   "metadata": {},
   "source": [
    "**Step 6: Split the hourly normalised data into 25%-75% test and training ratio**"
   ]
  },
  {
   "cell_type": "code",
   "execution_count": null,
   "id": "094cd94a-21cc-49a9-99eb-002ba855a38e",
   "metadata": {
    "tags": []
   },
   "outputs": [],
   "source": [
    "from sklearn.model_selection import train_test_split\n",
    "X_h = data_normalised_hourly[features]\n",
    "\n",
    "y1_h = data_normalised_hourly['Zone 1 Power Consumption']\n",
    "y2_h = data_normalised_hourly['Zone 2  Power Consumption']\n",
    "y3_h = data_normalised_hourly['Zone 3  Power Consumption']\n",
    "y4_h = data_normalised_hourly['Average Power Consumption']\n",
    "\n",
    "X_train_h, X_test_h, y_train_1_h, y_test_1_h = train_test_split(X_h, y1_h, test_size=0.25, random_state=42)\n",
    "X_train_h, X_test_h, y_train_2_h, y_test_2_h = train_test_split(X_h, y2_h, test_size=0.25, random_state=42)\n",
    "X_train_h, X_test_h, y_train_3_h, y_test_3_h = train_test_split(X_h, y3_h, test_size=0.25, random_state=42)\n",
    "X_train_h, X_test_h, y_train_4_h, y_test_4_h = train_test_split(X_h, y4_h, test_size=0.25, random_state=42)"
   ]
  },
  {
   "cell_type": "markdown",
   "id": "173087bc-3a92-47a9-ac14-f54183be1ce8",
   "metadata": {},
   "source": [
    "**Step 7: Run SVR model using the normalised hourly data**"
   ]
  },
  {
   "cell_type": "markdown",
   "id": "4d405785-9695-446f-8170-9f282eca1bc0",
   "metadata": {},
   "source": [
    "**7a. SVR - Hourly data - Quads Distribution (Zone 1)**"
   ]
  },
  {
   "cell_type": "markdown",
   "id": "e0c315d2-9685-4363-9623-1ccdcfdefa51",
   "metadata": {},
   "source": [
    "Based on Case Study of Tetuoan city, the best parameters for SVR model are:\n",
    "- C = 10\n",
    "- gamma = 0.01"
   ]
  },
  {
   "cell_type": "code",
   "execution_count": null,
   "id": "064a0976-263d-445a-97b0-bf9d574bff8a",
   "metadata": {
    "tags": []
   },
   "outputs": [],
   "source": [
    "from sklearn.svm import SVR\n",
    "svr_hour_z1 = SVR(kernel='rbf', C=10, gamma=0.01)\n",
    "\n"
   ]
  },
  {
   "cell_type": "code",
   "execution_count": null,
   "id": "e0fa10ab-900e-40f7-89b5-ee5351e64e83",
   "metadata": {
    "tags": []
   },
   "outputs": [],
   "source": [
    "#SVR model on the normalised training data for Zone 1\n",
    "svr_hour_z1.fit(X_train_h, y_train_1_h)\n",
    "y_train_pred_svr_1_h = svr_hour_z1.predict(X_train_h)\n",
    "\n",
    "mse_train_svr_1_h = mean_squared_error(y_train_1_h, y_train_pred_svr_1_h)\n",
    "rmse_train_svr_1_h = np.sqrt(mse_train_svr_1_h)\n",
    "mae_train_svr_1_h = mean_absolute_error(y_train_1_h, y_train_pred_svr_1_h)\n",
    "\n",
    "#SVR model on the normalised test data for Zone 1\n",
    "svr_hour_z1.fit(X_train_h, y_train_1_h)\n",
    "y_pred_svr_1_h = svr_hour_z1.predict(X_test_h)\n",
    "\n",
    "mse_svr_1_h = mean_squared_error(y_test_1_h, y_pred_svr_1_h)\n",
    "rmse_svr_1_h = np.sqrt(mse_svr_1_h)\n",
    "mae_svr_1_h = mean_absolute_error(y_test_1_h, y_pred_svr_1_h)\n",
    "\n",
    "print(f\"RMSE of Zone 1 for training and test data respectively:\\n\")\n",
    "print({rmse_train_svr_1_h},{rmse_svr_1_h})\n",
    "print(f\"\\nMAE of Zone 1 for training and test data respectively:\\n\")\n",
    "print({mae_train_svr_1_h},{mae_svr_1_h})"
   ]
  },
  {
   "cell_type": "markdown",
   "id": "87bd01c6-d9ce-4aba-bd5c-4975f9fc30a7",
   "metadata": {},
   "source": [
    "Result:\n",
    "\n",
    "RMSE of Zone 1 for training and test data respectively:\n",
    "\n",
    "{0.06097644150210028} {0.06369050018183398}\n",
    "\n",
    "MAE of Zone 1 for training and test data respectively:\n",
    "\n",
    "{0.052329904930526236} {0.05387475904664325}"
   ]
  },
  {
   "cell_type": "markdown",
   "id": "e9f8cfa3-e6d7-43ee-817c-e4b02b0c0be1",
   "metadata": {},
   "source": [
    "**7b. SVR model - Hourly data - Smir Distribution (Zone 2)**"
   ]
  },
  {
   "cell_type": "code",
   "execution_count": null,
   "id": "03d91122-5956-4cf1-b634-274f2ca87e16",
   "metadata": {
    "tags": []
   },
   "outputs": [],
   "source": [
    "from sklearn.svm import SVR\n",
    "svr_hour_z2 = SVR(kernel='rbf', C=1, gamma=0.01)\n"
   ]
  },
  {
   "cell_type": "code",
   "execution_count": null,
   "id": "9b9f7eab-e9b3-485e-a932-2baf39bfc4e2",
   "metadata": {
    "tags": []
   },
   "outputs": [],
   "source": [
    "#SVR model on the normalised training data for Zone 1\n",
    "svr_hour_z2.fit(X_train_h, y_train_2_h)\n",
    "y_train_pred_svr_2_h = svr_hour_z2.predict(X_train_h)\n",
    "\n",
    "mse_train_svr_2_h = mean_squared_error(y_train_2_h, y_train_pred_svr_2_h)\n",
    "rmse_train_svr_2_h = np.sqrt(mse_train_svr_2_h)\n",
    "mae_train_svr_2_h = mean_absolute_error(y_train_2_h, y_train_pred_svr_2_h)\n",
    "\n",
    "#SVR model on the normalised test data for Zone 1\n",
    "svr_hour_z2.fit(X_train_h, y_train_2_h)\n",
    "y_pred_svr_2_h = svr_hour_z2.predict(X_test_h)\n",
    "\n",
    "mse_svr_2_h = mean_squared_error(y_test_2_h, y_pred_svr_2_h)\n",
    "rmse_svr_2_h = np.sqrt(mse_svr_2_h)\n",
    "mae_svr_2_h = mean_absolute_error(y_test_2_h, y_pred_svr_2_h)\n",
    "\n",
    "print(f\"RMSE of Zone 2 for training and test data respectively:\\n\")\n",
    "print({rmse_train_svr_2_h},{rmse_svr_2_h})\n",
    "print(f\"\\nMAE of Zone 2 for training and test data respectively:\\n\")\n",
    "print({mae_train_svr_2_h},{mae_svr_2_h})"
   ]
  },
  {
   "cell_type": "markdown",
   "id": "e5194ae5-1853-4235-ac85-f14d4faf4e8e",
   "metadata": {},
   "source": [
    "Result:\n",
    "\n",
    "RMSE of Zone 2 for training and test data respectively:\n",
    "\n",
    "{0.0626511858689252} {0.06445554004338992}\n",
    "\n",
    "MAE of Zone 2 for training and test data respectively:\n",
    "\n",
    "{0.05218559516714683} {0.05367048537920618}"
   ]
  },
  {
   "cell_type": "markdown",
   "id": "95db6046-336e-42ad-8745-229f9e80e233",
   "metadata": {},
   "source": [
    "**7c. SVR - Hourly data - Boussafou Distribution (Zone 3)**"
   ]
  },
  {
   "cell_type": "code",
   "execution_count": null,
   "id": "f618cba4-5420-4496-9bc8-2c394cdacc58",
   "metadata": {
    "tags": []
   },
   "outputs": [],
   "source": [
    "from sklearn.svm import SVR\n",
    "svr_hour_z3 = SVR(kernel='rbf', C=1000, gamma=0.01)"
   ]
  },
  {
   "cell_type": "code",
   "execution_count": null,
   "id": "b96435c9-a1cd-4f39-99c9-76b87f5acb17",
   "metadata": {
    "tags": []
   },
   "outputs": [],
   "source": [
    "# SVR model on training data\n",
    "svr_hour_z3.fit(X_train_h, y_train_3_h)\n",
    "y_train_pred_svr_3_h = svr_hour_z3.predict(X_train_h)\n",
    "\n",
    "mse_train_svr_3_h = mean_squared_error(y_train_3_h, y_train_pred_svr_3_h)\n",
    "rmse_train_svr_3_h = np.sqrt(mse_train_svr_3_h)\n",
    "mae_train_svr_3_h = mean_absolute_error(y_train_3_h, y_train_pred_svr_3_h)\n",
    "\n",
    "# SVR model on test data\n",
    "svr_hour_z3.fit(X_train_h, y_train_3_h)\n",
    "y_pred_svr_3_h = svr_hour_z3.predict(X_test_h)\n",
    "\n",
    "mse_svr_3_h = mean_squared_error(y_test_3_h, y_pred_svr_3_h)\n",
    "rmse_svr_3_h = np.sqrt(mse_svr_3_h)\n",
    "mae_svr_3_h = mean_absolute_error(y_test_3_h, y_pred_svr_3_h)\n",
    "\n",
    "print(f\"RMSE of Zone 3 for training and test data respectively:\\n\")\n",
    "print({rmse_train_svr_3_h},{rmse_svr_3_h})\n",
    "print(f\"\\nMAE of Zone 3 for training and test data respectively:\\n\")\n",
    "print({mae_train_svr_3_h},{mae_svr_3_h})"
   ]
  },
  {
   "cell_type": "markdown",
   "id": "d2d6a610-8dce-4ebc-a3d0-d5dde9edb4fe",
   "metadata": {},
   "source": [
    "Result:\n",
    "\n",
    "RMSE of Zone 3 for training and test data respectively:\n",
    "\n",
    "{0.05457210549120051} {0.05625492279233363}\n",
    "\n",
    "MAE of Zone 3 for training and test data respectively:\n",
    "\n",
    "{0.046568031894534095} {0.04774421130523678}"
   ]
  },
  {
   "cell_type": "markdown",
   "id": "f57818c6-dc30-4644-99af-b28f6205f177",
   "metadata": {},
   "source": [
    "**7d. SVR - Hourly data - Aggregated Distribution**"
   ]
  },
  {
   "cell_type": "code",
   "execution_count": null,
   "id": "71412390-41cf-45d7-87e0-cb6661a09185",
   "metadata": {
    "tags": []
   },
   "outputs": [],
   "source": [
    "from sklearn.svm import SVR\n",
    "svr_hour_z4 = SVR(kernel='rbf', C=1, gamma=0.01)"
   ]
  },
  {
   "cell_type": "code",
   "execution_count": null,
   "id": "f6a59493-eda5-47c3-9dd1-72dac937315b",
   "metadata": {
    "tags": []
   },
   "outputs": [],
   "source": [
    "# SVR model on training data\n",
    "svr_hour_z4.fit(X_train_h, y_train_4_h)\n",
    "y_train_pred_svr_4_h = svr_hour_z4.predict(X_train_h)\n",
    "\n",
    "mse_train_svr_4_h = mean_squared_error(y_train_4_h, y_train_pred_svr_4_h)\n",
    "rmse_train_svr_4_h = np.sqrt(mse_train_svr_4_h)\n",
    "mae_train_svr_4_h = mean_absolute_error(y_train_4_h, y_train_pred_svr_4_h)\n",
    "\n",
    "# SVR model on test data\n",
    "svr_hour_z4.fit(X_train_h, y_train_4_h)\n",
    "y_pred_svr_4_h = svr_hour_z4.predict(X_test_h)\n",
    "\n",
    "mse_svr_4_h = mean_squared_error(y_test_4_h, y_pred_svr_4_h)\n",
    "rmse_svr_4_h = np.sqrt(mse_svr_4_h)\n",
    "mae_svr_4_h = mean_absolute_error(y_test_4_h, y_pred_svr_4_h)\n",
    "\n",
    "print(f\"RMSE of Aggregated distribution for training and test data respectively:\\n\")\n",
    "print({rmse_train_svr_4_h},{rmse_svr_4_h})\n",
    "print(f\"\\nMAE of Aggregated distribution for training and test data respectively:\\n\")\n",
    "print({mae_train_svr_4_h},{mae_svr_4_h})"
   ]
  },
  {
   "cell_type": "markdown",
   "id": "fbe2dbf8-34a3-4549-8eb8-0fa3dd9a6ba6",
   "metadata": {},
   "source": [
    "Result:\n",
    "\n",
    "RMSE of Aggregated distribution for training and test data respectively:\n",
    "\n",
    "{0.06231557886522217} {0.06400630707354932}\n",
    "\n",
    "MAE of Aggregated distribution for training and test data respectively:\n",
    "\n",
    "{0.053327786805907364} {0.05406428265655124}"
   ]
  },
  {
   "cell_type": "markdown",
   "id": "ccd8f796-c65e-4313-861f-8c19923defe0",
   "metadata": {},
   "source": [
    "**7e. De-normalise RMSE and MAE of SVR models across 4 Zones**"
   ]
  },
  {
   "cell_type": "code",
   "execution_count": null,
   "id": "9ea7073b-2de4-4353-b7b5-4b34e9c09b23",
   "metadata": {
    "tags": []
   },
   "outputs": [],
   "source": [
    "#Zone 1\n",
    "original_min_train_1_h = y_train_1_h_original.min()\n",
    "original_max_train_1_h = y_train_1_h_original.max()\n",
    "original_min_test_1_h = y_test_1_h_original.min()\n",
    "original_max_test_1_h = y_test_1_h_original.max()\n",
    "\n",
    "original_range_train_1_h = original_max_train_1_h - original_min_train_1_h\n",
    "original_range_test_1_h = original_max_test_1_h - original_min_test_1_h\n",
    "\n",
    "#Zone 2\n",
    "original_min_train_2_h = y_train_2_h_original.min()\n",
    "original_max_train_2_h = y_train_2_h_original.max()\n",
    "original_min_test_2_h = y_test_2_h_original.min()\n",
    "original_max_test_2_h = y_test_2_h_original.max()\n",
    "\n",
    "original_range_train_2_h = original_max_train_2_h - original_min_train_2_h\n",
    "original_range_test_2_h = original_max_test_2_h - original_min_test_2_h\n",
    "\n",
    "#Zone 3\n",
    "original_min_train_3_h = y_train_3_h_original.min()\n",
    "original_max_train_3_h = y_train_3_h_original.max()\n",
    "original_min_test_3_h = y_test_3_h_original.min()\n",
    "original_max_test_3_h = y_test_3_h_original.max()\n",
    "\n",
    "original_range_train_3_h = original_max_train_3_h - original_min_train_3_h\n",
    "original_range_test_3_h = original_max_test_3_h - original_min_test_3_h\n",
    "\n",
    "#Aggregated distribution\n",
    "original_min_train_4_h = y_train_4_h_original.min()\n",
    "original_max_train_4_h = y_train_4_h_original.max()\n",
    "original_min_test_4_h = y_test_4_h_original.min()\n",
    "original_max_test_4_h = y_test_4_h_original.max()\n",
    "\n",
    "original_range_train_4_h = original_max_train_4_h - original_min_train_4_h\n",
    "original_range_test_4_h = original_max_test_4_h - original_min_test_4_h"
   ]
  },
  {
   "cell_type": "code",
   "execution_count": null,
   "id": "5c352ebf-8911-473e-94f7-fc0a76f31a30",
   "metadata": {
    "tags": []
   },
   "outputs": [],
   "source": [
    "print(f\"Denormalised RSME of Zone 1, 2 3 and Aggregated distribution respectively using train data:\")\n",
    "print(round(rmse_train_svr_1_h*original_range_train_1_h,0), round(rmse_train_svr_2_h*original_range_train_2_h,0),round(rmse_train_svr_3_h*original_range_train_3_h,0),round(rmse_train_svr_4_h*original_range_train_4_h,0))\n",
    "print(f\"\\nDenormalised MAE of Zone 1,2,3 and Aggregated distribution respectively using train data:\")\n",
    "print(round(mae_train_svr_1_h*original_range_train_1_h,0),round(mae_train_svr_2_h*original_range_train_2_h,0),round(mae_train_svr_3_h*original_range_train_3_h,0),round(mae_train_svr_4_h*original_range_train_4_h,0))\n",
    "\n",
    "print(f\"\\nDenormalised RSME of Zone 1, 2 3 and Aggregated distribution respectively using test data:\")\n",
    "print(round(rmse_svr_1_h*original_range_test_1_h,0), round(rmse_svr_2_h*original_range_test_2_h,0),round(rmse_svr_3_h*original_range_test_3_h,0),round(rmse_svr_4_h*original_range_test_4_h,0))\n",
    "print(f\"\\nDenormalised MAE of Zone 1,2,3 and Aggregated distribution respectively using test data:\")\n",
    "print(round(mae_svr_1_h*original_range_test_1_h,0),round(mae_svr_2_h*original_range_test_2_h,0),round(mae_svr_3_h*original_range_test_3_h,0),round(mae_svr_4_h*original_range_test_4_h,0))"
   ]
  },
  {
   "cell_type": "markdown",
   "id": "55c1ab3c-1e62-4206-bf58-e5b72aef8fda",
   "metadata": {},
   "source": [
    "Result:\n",
    "\n",
    "Denormalised RSME of Zone 1, 2 3 and Aggregated distribution respectively using train data:\n",
    "2288.0 1707.0 2239.0 1988.0\n",
    "\n",
    "Denormalised MAE of Zone 1,2,3 and Aggregated distribution respectively using train data:\n",
    "1963.0 1422.0 1911.0 1702.0\n",
    "\n",
    "Denormalised RSME of Zone 1, 2 3 and Aggregated distribution respectively using test data:\n",
    "2030.0 1722.0 2171.0 1901.0\n",
    "\n",
    "Denormalised MAE of Zone 1,2,3 and Aggregated distribution respectively using test data:\n",
    "1717.0 1434.0 1842.0 1606.0"
   ]
  },
  {
   "cell_type": "markdown",
   "id": "b7d84c14-d955-4149-adad-20a55ab2189f",
   "metadata": {},
   "source": [
    "**Step 8: Run FFNN model using the normalised hourly data**"
   ]
  },
  {
   "cell_type": "markdown",
   "id": "c6985d6f-6733-4723-a75d-2ca17d24b5b6",
   "metadata": {},
   "source": [
    "**8a. FFNN - Hourly data - All zones**"
   ]
  },
  {
   "cell_type": "markdown",
   "id": "8b1562f8-2cdc-4688-8647-f3bccb241850",
   "metadata": {},
   "source": [
    "Based on Case Study of Tetuoan city, the best parameters for FFNN model are:\n",
    "\n",
    "**Zone 1**\n",
    "- Activation = ReLU\n",
    "- Optimiser = SGD\n",
    "- batch size = 100\n",
    "- layers = one\n",
    "- neurons = 25\n",
    "- number of epochs = 100\n",
    "- learning rate = 0.001\n",
    "\n",
    "**Zone 2**\n",
    "- Activation = SeLU\n",
    "- Optimiser = Adam\n",
    "- batch size = 350\n",
    "- layers = one\n",
    "- neurons = 4\n",
    "- number of epochs = 100\n",
    "- learning rate = 0.001\n",
    "\n",
    "**Zone 3**\n",
    "- Activation = SeLU\n",
    "- Optimiser = Adam\n",
    "- batch size = 250\n",
    "- layers = one\n",
    "- neurons = 8\n",
    "- number of epochs = 100\n",
    "- learning rate = 0.001\n",
    "\n",
    "**Aggregated distribution**\n",
    "- Activation = SeLU\n",
    "- Optimiser = Adam\n",
    "- batch size = 250\n",
    "- layers = one\n",
    "- neurons = 4\n",
    "- number of epochs = 100\n",
    "- learning rate = 0.001"
   ]
  },
  {
   "cell_type": "code",
   "execution_count": null,
   "id": "48e2ccef-b6dd-4f4c-b9c4-a24ae277f0ab",
   "metadata": {},
   "outputs": [],
   "source": [
    "import tensorflow as tf\n",
    "from tensorflow.keras.models import Sequential\n",
    "from tensorflow.keras.layers import Dense, Input\n",
    "from tensorflow.keras.optimizers import SGD, Adam\n",
    "from sklearn.metrics import mean_squared_error, mean_absolute_error\n",
    "\n",
    "def create_model(activation, optimizer, batch_size, neurons, input_shape):\n",
    "    ffnn = Sequential([\n",
    "        Input(shape=input_shape),\n",
    "        Dense(neurons, activation=activation, kernel_initializer='glorot_uniform'),\n",
    "        Dense(1)\n",
    "    ])\n",
    "    ffnn.compile(optimizer=optimizer(learning_rate=0.001), loss='mse')\n",
    "    return ffnn\n",
    "\n",
    "# ZONE 1\n",
    "ffnn_zone1_h = create_model(activation='relu', optimizer=SGD, batch_size=100, neurons=25, input_shape=(X_train_h.shape[1],))\n",
    "history_zone1 = ffnn_zone1_h.fit(X_train_h, y_train_1_h, epochs=100, batch_size=100, verbose=0)\n",
    "\n",
    "# Make predictions for Zone 1\n",
    "y_train_pred_ffnn_1_h = ffnn_zone1_h.predict(X_train_h)\n",
    "y_pred_ffnn_1_h = ffnn_zone1_h.predict(X_test_h)\n",
    "\n",
    "# Calculate RMSE and MAE for Zone 1\n",
    "rmse_train_ffnn_1_h = mean_squared_error(y_train_1_h, y_train_pred_ffnn_1_h, squared=False)\n",
    "mae_train_ffnn_1_h = mean_absolute_error(y_train_1_h, y_train_pred_ffnn_1_h)\n",
    "rmse_ffnn_1_h = mean_squared_error(y_test_1_h, y_pred_ffnn_1_h, squared=False)\n",
    "mae_ffnn_1_h = mean_absolute_error(y_test_1_h, y_pred_ffnn_1_h)\n",
    "\n",
    "# Print evaluation results for Zone 1\n",
    "print(\"Zone 1 - Training RMSE:\", rmse_train_ffnn_1_h)\n",
    "print(\"Zone 1 - Training MAE:\", mae_train_ffnn_1_h)\n",
    "print(\"Zone 1 - Testing RMSE:\", rmse_ffnn_1_h)\n",
    "print(\"Zone 1 - Testing MAE:\", mae_ffnn_1_h)\n",
    "\n",
    "# ZONE 2\n",
    "ffnn_zone2_h = create_model(activation='selu', optimizer=Adam, batch_size=350, neurons=4, input_shape=(X_train_h.shape[1],))\n",
    "history_zone2 = ffnn_zone2_h.fit(X_train_h, y_train_2_h, epochs=100, batch_size=350, verbose=0)\n",
    "\n",
    "# Make predictions for Zone 2\n",
    "y_train_pred_ffnn_2_h = ffnn_zone1_h.predict(X_train_h)\n",
    "y_pred_ffnn_2_h = ffnn_zone1_h.predict(X_test_h)\n",
    "\n",
    "# Calculate RMSE and MAE for Zone 2\n",
    "rmse_train_ffnn_2_h = mean_squared_error(y_train_2_h, y_train_pred_ffnn_2_h, squared=False)\n",
    "mae_train_ffnn_2_h = mean_absolute_error(y_train_2_h, y_train_pred_ffnn_2_h)\n",
    "rmse_ffnn_2_h = mean_squared_error(y_test_2_h, y_pred_ffnn_2_h, squared=False)\n",
    "mae_ffnn_2_h = mean_absolute_error(y_test_2_h, y_pred_ffnn_2_h)\n",
    "\n",
    "# Print evaluation results for Zone 2\n",
    "print(\"Zone 2 - Training RMSE:\", rmse_train_ffnn_2_h)\n",
    "print(\"Zone 2 - Training MAE:\", mae_train_ffnn_2_h)\n",
    "print(\"Zone 2 - Testing RMSE:\", rmse_ffnn_2_h)\n",
    "print(\"Zone 2 - Testing MAE:\", mae_ffnn_2_h)\n",
    "\n",
    "#ZONE 3\n",
    "ffnn_zone3_h = create_model(activation='selu', optimizer=Adam, batch_size=250, neurons=8, input_shape=(X_train_h.shape[1],))\n",
    "history_zone3 = ffnn_zone3_h.fit(X_train_h, y_train_3_h, epochs=100, batch_size=250, verbose=0)\n",
    "\n",
    "# Make predictions for Zone 3\n",
    "y_train_pred_ffnn_3_h = ffnn_zone3_h.predict(X_train_h)\n",
    "y_pred_ffnn_3_h = ffnn_zone3_h.predict(X_test_h)\n",
    "\n",
    "# Calculate RMSE and MAE for Zone 3\n",
    "rmse_train_ffnn_3_h = mean_squared_error(y_train_3_h, y_train_pred_ffnn_3_h, squared=False)\n",
    "mae_train_ffnn_3_h = mean_absolute_error(y_train_3_h, y_train_pred_ffnn_3_h)\n",
    "rmse_ffnn_3_h = mean_squared_error(y_test_3_h, y_pred_ffnn_3_h, squared=False)\n",
    "mae_ffnn_3_h = mean_absolute_error(y_test_3_h, y_pred_ffnn_3_h)\n",
    "\n",
    "# Print evaluation results for Zone 3\n",
    "print(\"Zone 3 - Training RMSE:\", rmse_train_ffnn_3_h)\n",
    "print(\"Zone 3 - Training MAE:\", mae_train_ffnn_3_h)\n",
    "print(\"Zone 3 - Testing RMSE:\", rmse_ffnn_3_h)\n",
    "print(\"Zone 3 - Testing MAE:\", mae_ffnn_3_h)\n",
    "\n",
    "#Aggregated zone\n",
    "ffnn_agg_h = create_model(activation='selu', optimizer=Adam, batch_size=250, neurons=4, input_shape=(X_train_h.shape[1],))\n",
    "history_aggregated_zone = ffnn_agg_h.fit(X_train_h, y_train_4_h, epochs=100, batch_size=250, verbose=0)\n",
    "\n",
    "# Make predictions for Aggregated Zone\n",
    "y_train_pred_ffnn_4_h = ffnn_agg_h.predict(X_train_h)\n",
    "y_pred_ffnn_4_h = ffnn_agg_h.predict(X_test_h)\n",
    "\n",
    "# Calculate RMSE and MAE for Aggregated Zone\n",
    "rmse_train_ffnn_4_h = mean_squared_error(y_train_4_h, y_train_pred_ffnn_4_h, squared=False)\n",
    "mae_train_ffnn_4_h = mean_absolute_error(y_train_4_h, y_train_pred_ffnn_4_h)\n",
    "rmse_ffnn_4_h = mean_squared_error(y_test_4_h, y_pred_ffnn_4_h, squared=False)\n",
    "mae_ffnn_4_h = mean_absolute_error(y_test_4_h, y_pred_ffnn_4_h)\n",
    "\n",
    "# Print evaluation results for Aggregated Zone\n",
    "print(\"Aggregated Zone - Training RMSE:\", rmse_train_ffnn_4_h)\n",
    "print(\"Aggregated Zone - Training MAE:\", mae_train_ffnn_4_h)\n",
    "print(\"Aggregated Zone - Testing RMSE:\", rmse_ffnn_4_h)\n",
    "print(\"Aggregated Zone - Testing MAE:\", mae_ffnn_4_h)"
   ]
  },
  {
   "cell_type": "markdown",
   "id": "0ec77152-b680-4f9d-b06d-9e9d661b35a1",
   "metadata": {},
   "source": [
    "Result:\n",
    "\n",
    "205/205 ━━━━━━━━━━━━━━━━━━━━ 0s 2ms/step\n",
    "\n",
    "69/69 ━━━━━━━━━━━━━━━━━━━━ 0s 2ms/step\n",
    "\n",
    "Zone 1 - Training RMSE: 0.18898722501484774\n",
    "\n",
    "Zone 1 - Training MAE: 0.1575406474839587\n",
    "\n",
    "Zone 1 - Testing RMSE: 0.18593787050022254\n",
    "\n",
    "Zone 1 - Testing MAE: 0.15373127655948218\n",
    "\n",
    "205/205 ━━━━━━━━━━━━━━━━━━━━ 0s 1ms/step\n",
    "\n",
    "69/69 ━━━━━━━━━━━━━━━━━━━━ 0s 2ms/step\n",
    "\n",
    "Zone 2 - Training RMSE: 0.19070214088309784\n",
    "\n",
    "Zone 2 - Training MAE: 0.15703622510603293\n",
    "\n",
    "Zone 2 - Testing RMSE: 0.18716450921545708\n",
    "\n",
    "Zone 2 - Testing MAE: 0.1538432112982457\n",
    "\n",
    "205/205 ━━━━━━━━━━━━━━━━━━━━ 0s 2ms/step\n",
    "\n",
    "69/69 ━━━━━━━━━━━━━━━━━━━━ 0s 733us/step\n",
    "\n",
    "Zone 3 - Training RMSE: 0.20722278091045337\n",
    "\n",
    "Zone 3 - Training MAE: 0.1594732657612596\n",
    "\n",
    "Zone 3 - Testing RMSE: 0.2181153140774535\n",
    "\n",
    "Zone 3 - Testing MAE: 0.16288173424168645\n",
    "\n",
    "205/205 ━━━━━━━━━━━━━━━━━━━━ 0s 956us/step\n",
    "\n",
    "69/69 ━━━━━━━━━━━━━━━━━━━━ 0s 976us/step\n",
    "\n",
    "Aggregated Zone - Training RMSE: 0.15785696871331276\n",
    "\n",
    "Aggregated Zone - Training MAE: 0.09337339210971475\n",
    "\n",
    "Aggregated Zone - Testing RMSE: 0.1570577251129808\n",
    "\n",
    "Aggregated Zone - Testing MAE: 0.0930803051660084"
   ]
  },
  {
   "cell_type": "markdown",
   "id": "b011ef92-a536-4c59-9bba-1f72d37f6ea8",
   "metadata": {},
   "source": [
    "**Step 8b. De-normalise evaluation metrics - FFNN model - hourly data**"
   ]
  },
  {
   "cell_type": "code",
   "execution_count": null,
   "id": "0514e101-190a-457e-8488-01edb1331700",
   "metadata": {},
   "outputs": [],
   "source": [
    "print(f\"Denormalised RSME of Zone 1, 2 3 and Aggregated distribution respectively using train data:\")\n",
    "print(round(rmse_train_ffnn_1_h*original_range_train_1_h,0), round(rmse_train_ffnn_2_h*original_range_train_2_h,0),round(rmse_train_ffnn_3_h*original_range_train_3_h,0),round(rmse_train_ffnn_4_h*original_range_train_4_h,0))\n",
    "print(f\"\\nDenormalised MAE of Zone 1,2,3 and Aggregated distribution respectively using train data:\")\n",
    "print(round(mae_train_ffnn_1_h*original_range_train_1_h,0),round(mae_train_ffnn_2_h*original_range_train_2_h,0),round(mae_train_ffnn_3_h*original_range_train_3_h,0),round(mae_train_ffnn_4_h*original_range_train_4_h,0))\n",
    "\n",
    "print(f\"\\nDenormalised RSME of Zone 1, 2 3 and Aggregated distribution respectively using test data:\")\n",
    "print(round(rmse_ffnn_1_h*original_range_test_1_h,0), round(rmse_ffnn_2_h*original_range_test_2_h,0),round(rmse_ffnn_3_h*original_range_test_3_h,0),round(rmse_ffnn_4_h*original_range_test_4_h,0))\n",
    "print(f\"\\nDenormalised MAE of Zone 1,2,3 and Aggregated distribution respectively using test data:\")\n",
    "print(round(mae_ffnn_1_h*original_range_test_1_h,0),round(mae_ffnn_2_h*original_range_test_2_h,0),round(mae_ffnn_3_h*original_range_test_3_h,0),round(mae_ffnn_4_h*original_range_test_4_h,0))"
   ]
  },
  {
   "cell_type": "markdown",
   "id": "b3fc92fa-dd84-49be-b245-80f0d7d9c2a6",
   "metadata": {},
   "source": [
    "Result:\n",
    "\n",
    "Denormalised RSME of Zone 1, 2 3 and Aggregated distribution respectively using train data:\n",
    "7090.0 5197.0 8503.0 5037.0\n",
    "\n",
    "Denormalised MAE of Zone 1,2,3 and Aggregated distribution respectively using train data:\n",
    "5910.0 4279.0 6544.0 2979.0\n",
    "\n",
    "Denormalised RSME of Zone 1, 2 3 and Aggregated distribution respectively using test data:\n",
    "5927.0 5000.0 8417.0 4666.0\n",
    "\n",
    "Denormalised MAE of Zone 1,2,3 and Aggregated distribution respectively using test data:\n",
    "4901.0 4110.0 6285.0 2765.0"
   ]
  },
  {
   "cell_type": "markdown",
   "id": "665fb206-e0dd-4a26-b9f8-0a0823fa0d30",
   "metadata": {},
   "source": [
    "**Step 9: Run LR model using the normalised hourly data**"
   ]
  },
  {
   "cell_type": "markdown",
   "id": "c5fc4607-86a3-4ef1-8abf-fd62e59261b1",
   "metadata": {},
   "source": [
    "**9a. LR model - hourly data - Zone 1**"
   ]
  },
  {
   "cell_type": "code",
   "execution_count": null,
   "id": "6e944455-eaa8-4810-baf8-4ced7ba539c9",
   "metadata": {
    "tags": []
   },
   "outputs": [],
   "source": [
    "from sklearn.linear_model import LinearRegression\n",
    "from sklearn.metrics import mean_squared_error, mean_absolute_error\n",
    "lr_hour = LinearRegression()"
   ]
  },
  {
   "cell_type": "code",
   "execution_count": null,
   "id": "7dcdc95d-7f2f-4803-a1bf-3066c9f03842",
   "metadata": {
    "tags": []
   },
   "outputs": [],
   "source": [
    "# Linear Regression model on training data\n",
    "lr_hour.fit(X_train_h, y_train_1_h)\n",
    "y_train_pred_lr_1_h = lr_hour.predict(X_train_h)\n",
    "\n",
    "mse_train_lr_1_h = mean_squared_error(y_train_1_h, y_train_pred_lr_1_h)\n",
    "rmse_train_lr_1_h = np.sqrt(mse_train_lr_1_h)\n",
    "mae_train_lr_1_h = mean_absolute_error(y_train_1_h, y_train_pred_lr_1_h)\n",
    "\n",
    "# SVR model on test data\n",
    "lr_hour.fit(X_train_h, y_train_1_h)\n",
    "y_pred_lr_1_h = lr_hour.predict(X_test_h)\n",
    "\n",
    "mse_lr_1_h = mean_squared_error(y_test_1_h, y_pred_lr_1_h)\n",
    "rmse_lr_1_h = np.sqrt(mse_lr_1_h)\n",
    "mae_lr_1_h = mean_absolute_error(y_test_1_h, y_pred_lr_1_h)\n",
    "\n",
    "print(f\"RMSE of Zone 1 for training and test data respectively:\\n\")\n",
    "print({rmse_train_lr_1_h},{rmse_lr_1_h})\n",
    "print(f\"\\nMAE of Zone 1 for training and test data respectively:\\n\")\n",
    "print({mae_train_lr_1_h},{mae_lr_1_h})"
   ]
  },
  {
   "cell_type": "markdown",
   "id": "e1a04cd6-17c8-4032-ac24-591ba37429ed",
   "metadata": {},
   "source": [
    "Result:\n",
    "\n",
    "RMSE of Zone 1 for training and test data respectively:\n",
    "\n",
    "{0.04744864163337953} {0.04659379093008669}\n",
    "\n",
    "MAE of Zone 1 for training and test data respectively:\n",
    "\n",
    "{0.03617817871302589} {0.035849602867304896}"
   ]
  },
  {
   "cell_type": "markdown",
   "id": "2ad88f42-18ed-48e8-bef6-6da0185cb5d9",
   "metadata": {},
   "source": [
    "**9b. LR model - hourly data - Zone 2**"
   ]
  },
  {
   "cell_type": "code",
   "execution_count": null,
   "id": "472886b8-aaf4-463f-b47d-031a6b1860e9",
   "metadata": {
    "tags": []
   },
   "outputs": [],
   "source": [
    "# Linear Regression model on training data\n",
    "lr_hour.fit(X_train_h, y_train_2_h)\n",
    "y_train_pred_lr_2_h = lr_hour.predict(X_train_h)\n",
    "\n",
    "mse_train_lr_2_h = mean_squared_error(y_train_2_h, y_train_pred_lr_2_h)\n",
    "rmse_train_lr_2_h = np.sqrt(mse_train_lr_2_h)\n",
    "mae_train_lr_2_h = mean_absolute_error(y_train_2_h, y_train_pred_lr_2_h)\n",
    "\n",
    "# SVR model on test data\n",
    "lr_hour.fit(X_train_h, y_train_2_h)\n",
    "y_pred_lr_2_h = lr_hour.predict(X_test_h)\n",
    "\n",
    "mse_lr_2_h = mean_squared_error(y_test_2_h, y_pred_lr_2_h)\n",
    "rmse_lr_2_h = np.sqrt(mse_lr_2_h)\n",
    "mae_lr_2_h = mean_absolute_error(y_test_2_h, y_pred_lr_2_h)\n",
    "\n",
    "print(f\"RMSE of Zone 2 for training and test data respectively:\\n\")\n",
    "print({rmse_train_lr_2_h},{rmse_lr_2_h})\n",
    "print(f\"\\nMAE of Zone 2 for training and test data respectively:\\n\")\n",
    "print({mae_train_lr_2_h},{mae_lr_2_h})"
   ]
  },
  {
   "cell_type": "markdown",
   "id": "e7d749d7-a2fb-47fc-970c-b19824425f70",
   "metadata": {},
   "source": [
    "Result:\n",
    "\n",
    "RMSE of Zone 2 for training and test data respectively:\n",
    "\n",
    "{0.05375561399899539} {0.052057213522403195}\n",
    "\n",
    "MAE of Zone 2 for training and test data respectively:\n",
    "\n",
    "{0.04134688514667962} {0.04052459191973445}"
   ]
  },
  {
   "cell_type": "markdown",
   "id": "7de315fc-f6b8-4bf1-8e70-f41608af1367",
   "metadata": {},
   "source": [
    "**9c. LR model - hourly data - Zone 3**"
   ]
  },
  {
   "cell_type": "code",
   "execution_count": null,
   "id": "79bc8903-4b94-4860-a106-bc9a54505ef4",
   "metadata": {
    "tags": []
   },
   "outputs": [],
   "source": [
    "# Linear Regression model on training data\n",
    "lr_hour.fit(X_train_h, y_train_3_h)\n",
    "y_train_pred_lr_3_h = lr_hour.predict(X_train_h)\n",
    "\n",
    "mse_train_lr_3_h = mean_squared_error(y_train_3_h, y_train_pred_lr_3_h)\n",
    "rmse_train_lr_3_h = np.sqrt(mse_train_lr_3_h)\n",
    "mae_train_lr_3_h = mean_absolute_error(y_train_3_h, y_train_pred_lr_3_h)\n",
    "\n",
    "# SVR model on test data\n",
    "lr_hour.fit(X_train_h, y_train_3_h)\n",
    "y_pred_lr_3_h = lr_hour.predict(X_test_h)\n",
    "\n",
    "mse_lr_3_h = mean_squared_error(y_test_3_h, y_pred_lr_3_h)\n",
    "rmse_lr_3_h = np.sqrt(mse_lr_3_h)\n",
    "mae_lr_3_h = mean_absolute_error(y_test_3_h, y_pred_lr_3_h)\n",
    "\n",
    "print(f\"RMSE of Zone 3 for training and test data respectively:\\n\")\n",
    "print({rmse_train_lr_3_h},{rmse_lr_3_h})\n",
    "print(f\"\\nMAE of Zone 3 for training and test data respectively:\\n\")\n",
    "print({mae_train_lr_3_h},{mae_lr_3_h})"
   ]
  },
  {
   "cell_type": "markdown",
   "id": "ea02526d-891d-418f-8842-1d616d0a1b0f",
   "metadata": {},
   "source": [
    "Result:\n",
    "\n",
    "RMSE of Zone 3 for training and test data respectively:\n",
    "\n",
    "{0.05042857662387028} {0.048790043678923534}\n",
    "\n",
    "MAE of Zone 3 for training and test data respectively:\n",
    "\n",
    "{0.03958413838448407} {0.03824731446265714}"
   ]
  },
  {
   "cell_type": "markdown",
   "id": "54024406-466b-4c35-814c-7ef1bcb4ffcf",
   "metadata": {},
   "source": [
    "**9d. LR model - hourly data - Aggregated distribution**"
   ]
  },
  {
   "cell_type": "code",
   "execution_count": null,
   "id": "2a99fa62-67f1-41e9-8ea8-a0cde2e4f8cf",
   "metadata": {
    "tags": []
   },
   "outputs": [],
   "source": [
    "# Linear Regression model on training data\n",
    "lr_hour.fit(X_train_h, y_train_4_h)\n",
    "y_train_pred_lr_4_h = lr_hour.predict(X_train_h)\n",
    "\n",
    "mse_train_lr_4_h = mean_squared_error(y_train_4_h, y_train_pred_lr_4_h)\n",
    "rmse_train_lr_4_h = np.sqrt(mse_train_lr_4_h)\n",
    "mae_train_lr_4_h = mean_absolute_error(y_train_4_h, y_train_pred_lr_4_h)\n",
    "\n",
    "# SVR model on test data\n",
    "lr_hour.fit(X_train_h, y_train_4_h)\n",
    "y_pred_lr_4_h = lr_hour.predict(X_test_h)\n",
    "\n",
    "mse_lr_4_h = mean_squared_error(y_test_4_h, y_pred_lr_4_h)\n",
    "rmse_lr_4_h = np.sqrt(mse_lr_4_h)\n",
    "mae_lr_4_h = mean_absolute_error(y_test_4_h, y_pred_lr_4_h)\n",
    "\n",
    "print(f\"RMSE of Aggregated distribution for training and test data respectively:\\n\")\n",
    "print({rmse_train_lr_4_h},{rmse_lr_4_h})\n",
    "print(f\"\\nMAE of Aggregated distribution for training and test data respectively:\\n\")\n",
    "print({mae_train_lr_4_h},{mae_lr_4_h})"
   ]
  },
  {
   "cell_type": "markdown",
   "id": "fc5f37c9-2469-44d5-b401-6b40fd5142d8",
   "metadata": {},
   "source": [
    "Result:\n",
    "\n",
    "RMSE of Aggregated distribution for training and test data respectively:\n",
    "\n",
    "{1.5962286346911585e-15} {1.5853995178174049e-15}\n",
    "\n",
    "MAE of Aggregated distribution for training and test data respectively:\n",
    "\n",
    "{1.35739563783616e-15} {1.3470413734390013e-15}"
   ]
  },
  {
   "cell_type": "markdown",
   "id": "844936f8-1021-47f0-9cb8-4781e474f429",
   "metadata": {},
   "source": [
    "**9e. De-normalise RMSE and MAE of Linear Regression model**"
   ]
  },
  {
   "cell_type": "code",
   "execution_count": null,
   "id": "42794968-950c-4701-ac19-d7d34b6647bf",
   "metadata": {
    "tags": []
   },
   "outputs": [],
   "source": [
    "print(f\"Denormalised RSME of Zone 1, 2 3 and aggregated distribution respectively using train data:\")\n",
    "print(round(rmse_train_lr_1_h*original_range_train_1_h,0), round(rmse_train_lr_2_h*original_range_train_2_h,0),round(rmse_train_lr_3_h*original_range_train_3_h,0),{rmse_train_lr_4_h*original_range_train_4_h})\n",
    "print(f\"\\nDenormalised MAE of Zone 1,2,3 and aggregated distribution respectively using train data:\")\n",
    "print(round(mae_train_lr_1_h*original_range_train_1_h,0),round(mae_train_lr_2_h*original_range_train_2_h,0),round(mae_train_lr_3_h*original_range_train_3_h,0),{mae_train_lr_4_h*original_range_train_4_h})\n",
    "\n",
    "print(f\"\\nDenormalised RSME of Zone 1, 2 3 and aggregated distribution respectively using test data:\")\n",
    "print(round(rmse_lr_1_h*original_range_test_1_h,0), round(rmse_lr_2_h*original_range_test_2_h,0),round(rmse_lr_3_h*original_range_test_3_h,0),{rmse_lr_4_h*original_range_test_4_h})\n",
    "print(f\"\\nDenormalised MAE of Zone 1,2,3 and aggregated distribution respectively using test data:\")\n",
    "print(round(mae_lr_1_h*original_range_test_1_h,0),round(mae_lr_2_h*original_range_test_2_h,0),round(mae_lr_3_h*original_range_test_3_h,0),{mae_lr_4_h*original_range_test_4_h})"
   ]
  },
  {
   "cell_type": "markdown",
   "id": "e6a287f3-eedc-4879-a21e-174f38dffafd",
   "metadata": {},
   "source": [
    "Result:\n",
    "\n",
    "Denormalised RSME of Zone 1, 2 3 and aggregated distribution respectively using train data:\n",
    "1780.0 1465.0 2069.0 {5.09315203047237e-11}\n",
    "\n",
    "Denormalised MAE of Zone 1,2,3 and aggregated distribution respectively using train data:\n",
    "1357.0 1127.0 1624.0 {4.3310978131508075e-11}\n",
    "\n",
    "Denormalised RSME of Zone 1, 2 3 and aggregated distribution respectively using test data:\n",
    "1485.0 1391.0 1883.0 {4.7098824975422924e-11}\n",
    "\n",
    "Denormalised MAE of Zone 1,2,3 and aggregated distribution respectively using test data:\n",
    "1143.0 1083.0 1476.0 {4.001771488463633e-11}"
   ]
  },
  {
   "cell_type": "markdown",
   "id": "ed85e998-5e41-49af-800a-73cc40120ce4",
   "metadata": {},
   "source": [
    "## Design and develop own ML solution for this problem"
   ]
  },
  {
   "cell_type": "markdown",
   "id": "61745f19-eda6-45df-9566-4c24571119ba",
   "metadata": {},
   "source": [
    "Reasons behind the proposed solution.\n",
    "\n",
    "- Handling Nonlinearity: XGBoost can handle these nonlinearities effectively between input features and target variables. In the context of power consumption prediction, the relationships between weather parameters (like temperature, humidity, wind speed) and power consumption might not be linear.\n",
    "\n",
    "- Feature Importance: XGBoost provides feature importance scores, which can help identify the most influential features in predicting power consumption.\n",
    "\n",
    "- Overfitting avoidance: XGBoost has built-in regularization techniques like shrinkage and column subsampling, which help prevent overfitting. This is beneficial when dealing with the complex large dataset in this task.\n",
    "\n",
    "- Flexibility: XGBoost can handle a variety of data types and formats, including numerical and categorical variables. This flexibility allows incorporating diverse types of features."
   ]
  },
  {
   "cell_type": "markdown",
   "id": "582cb330-e9a0-467a-b562-9a0d37ed0e59",
   "metadata": {
    "tags": []
   },
   "source": [
    "How the proposed solution is different from existing ones.\n",
    "- XGBoost:\n",
    "Gradient Boosting Framework: XGBoost is an implementation of gradient boosting algorithms, which build a sequence of trees where each tree corrects the errors of the previous one. XGBoost is known for its speed and performance due to its optimization techniques like parallelization and tree pruning. As mentioned in part i), XGBoost offers regularisation techniques which can prevent overfitting and the ability to handle nonlinear relationships.\n",
    "\n",
    "Compared to other existing models that have been analysed previously:\n",
    "\n",
    "- Random Forest: Random Forest is an ensemble learning method that constructs multiple decision trees during training and outputs the mean prediction of the individual trees. Random Forest also has feature importance tool and the ability to prevent overfitting and noise in the data by leveraging the averaging effect of multiple trees. However, Random Forest does not offer correcting the errors like XGBoost. \n",
    "\n",
    "- Decision Tree: Decision Trees are easy to interpret and visualise. However, it can be sensitive to variations in the training data and may not generalise well to unseen data without proper pruning or regularization.\n",
    "\n",
    "- Support Vector Regression (SVR): SVR works well in high-dimensional spaces, making it suitable for datasets with many features such as the Tetouan City dataset. \n",
    "Memory Efficiency: SVR uses a subset of training points (support vectors) in the decision function, making it memory efficient.\n",
    "Kernel Trick: Although SVR can handle nonlinear relationships through using the kernel trick, it can be computationally intensive.\n",
    "\n",
    "- Feedforward Neural Network (FFNN):\n",
    "Deep Learning: FFNNs are the foundation of deep learning models and can learn complex patterns in the data through multiple hidden layers. However, training FFNNs can be computationally intensive, especially for large datasets, and may require tuning of hyperparameters.\n",
    "\n",
    "- Linear Regression: Linear Regression provides a straightforward interpretation of the relationship between input features and the target variable. Howevever, its capabilities are fairly limited in capturing nonlinear relationships and does not work well in complex datasets such as the Tetuoan City dataset."
   ]
  },
  {
   "cell_type": "markdown",
   "id": "f20bca3d-613c-4b3a-ad81-0b27025239bf",
   "metadata": {},
   "source": [
    "### Detail description of the model"
   ]
  },
  {
   "cell_type": "markdown",
   "id": "08bbb5ca-f692-4c18-b506-9e3c0fa9a451",
   "metadata": {},
   "source": [
    "**Step 1 10-minute interval analysis**"
   ]
  },
  {
   "cell_type": "markdown",
   "id": "80109bfb-8fcc-4524-be9e-047b032f6cd7",
   "metadata": {
    "tags": []
   },
   "source": [
    "GridSearchCV tool was used for this analysis to find the best parameters of XGBoost model. The best parameters found are:\n",
    "- Zone 1: gamma = 0, learning_rate = 0.1, Max_depth = 9, n_estimators = 300, subsample = 0.9\n",
    "- Zone 2: gamma = 0, learning_rate = 0.1, Max_depth = 9, n_estimators = 300, subsample = 0.9\n",
    "- Zone 3: gamma = 0, learning_rate = 0.1, Max_depth = 9, n_estimators = 300, subsample = 0.9\n",
    "- Aggregated: gamma = 0, learning_rate = 0.1, Max_depth = 9, n_estimators = 300, subsample = 0.9"
   ]
  },
  {
   "cell_type": "code",
   "execution_count": null,
   "id": "28ddb0c3-fa34-4028-ac07-dbbdd4599173",
   "metadata": {
    "tags": []
   },
   "outputs": [],
   "source": [
    "import xgboost as xgb\n",
    "from sklearn.metrics import mean_squared_error, mean_absolute_error\n",
    "\n",
    "# Define hyperparameters for each zone\n",
    "params_z1 = {'gamma': 0, 'learning_rate': 0.1, 'max_depth': 9, 'n_estimators': 300, 'subsample': 0.9}\n",
    "params_z2 = {'gamma': 0, 'learning_rate': 0.1, 'max_depth': 9, 'n_estimators': 300, 'subsample': 0.9}\n",
    "params_z3 = {'gamma': 0, 'learning_rate': 0.1, 'max_depth': 9, 'n_estimators': 300, 'subsample': 0.9}\n",
    "params_agg = {'gamma': 0, 'learning_rate': 0.1, 'max_depth': 9, 'n_estimators': 300, 'subsample': 0.9}"
   ]
  },
  {
   "cell_type": "markdown",
   "id": "631d2b2a-43b4-4775-a9ef-d907321c59f4",
   "metadata": {},
   "source": [
    "**Step 1a. XGBoost model - Zone 1**"
   ]
  },
  {
   "cell_type": "code",
   "execution_count": null,
   "id": "e4f7c9a2-e577-4705-90bc-69b34b1f119d",
   "metadata": {},
   "outputs": [],
   "source": [
    "import xgboost as xgb\n",
    "from sklearn.model_selection import GridSearchCV\n",
    "from sklearn.metrics import mean_squared_error, mean_absolute_error\n",
    "\n",
    "# Define the XGBoost model\n",
    "xgb_zone1 = xgb.XGBRegressor()\n",
    "\n",
    "# Define hyperparameters for grid search\n",
    "param_grid = {\n",
    "    'n_estimators': [100, 200, 300],\n",
    "    'max_depth': [5, 7, 9],\n",
    "    'learning_rate': [0.05, 0.1, 0.01],\n",
    "    'subsample': [0.6, 0.7, 0.8, 0.9, 1.0],\n",
    "    'gamma': [0, 0.1, 0.3, 0.5, 1]\n",
    "}\n",
    "\n",
    "# Perform grid search with cross-validation\n",
    "grid_search = GridSearchCV(estimator=xgb_zone1, param_grid=param_grid, cv=3, scoring='neg_mean_squared_error', verbose=2)\n",
    "grid_search.fit(X_train, y_train_1)\n",
    "\n",
    "# Get the best hyperparameters\n",
    "best_params_1 = grid_search.best_params_\n",
    "print(\"Best Hyperparameters:\", best_params_1)\n"
   ]
  },
  {
   "cell_type": "code",
   "execution_count": null,
   "id": "e67ee4e0-ef05-47a7-ba5c-22fe5c573952",
   "metadata": {
    "tags": []
   },
   "outputs": [],
   "source": [
    "# Initialise and train the XGBoost models for zone 1\n",
    "xgb_zone1 = xgb.XGBRegressor(**params_z1)\n",
    "xgb_zone1.fit(X_train, y_train_1)\n",
    "\n",
    "# Make predictions on training set\n",
    "y_train_pred_xgb_1 = xgb_zone1.predict(X_train)\n",
    "\n",
    "rmse_train_xgb_1 = mean_squared_error(y_train_1, y_train_pred_xgb_1, squared=False)\n",
    "mae_train_xgb_1 = mean_absolute_error(y_train_1, y_train_pred_xgb_1)\n",
    "\n",
    "\n",
    "# Make predictions for each zone on testing set\n",
    "y_test_pred_xgb_1 = xgb_zone1.predict(X_test)\n",
    "\n",
    "rmse_xgb_1 = mean_squared_error(y_test_1, y_test_pred_xgb_1, squared=False)\n",
    "mae_xgb_1 = mean_absolute_error(y_test_1, y_test_pred_xgb_1)\n",
    "\n",
    "print(f\"RMSE of Zone 1 for training and test data respectively:\\n\")\n",
    "print({rmse_train_xgb_1},{rmse_xgb_1})\n",
    "print(f\"\\nMAE of zone 1 for training and test data respectively:\\n\")\n",
    "print({mae_train_xgb_1},{mae_xgb_1})"
   ]
  },
  {
   "cell_type": "markdown",
   "id": "740dd212-256f-4c9a-8670-4c8b2081b70b",
   "metadata": {},
   "source": [
    "Result:\n",
    "\n",
    "RMSE of Zone 1 for training and test data respectively:\n",
    "\n",
    "{0.003864369798667794} {0.009580245029746326}\n",
    "\n",
    "MAE of zone 1 for training and test data respectively:\n",
    "\n",
    "{0.00285921597065062} {0.006344344810165068}"
   ]
  },
  {
   "cell_type": "markdown",
   "id": "18aed472-b8a5-4ef1-9012-d4a32da8e9de",
   "metadata": {},
   "source": [
    "**Step 1b. XGBoost model - Zone 2**"
   ]
  },
  {
   "cell_type": "code",
   "execution_count": null,
   "id": "1015a7f6-00f8-4095-a183-45ff478f988c",
   "metadata": {},
   "outputs": [],
   "source": [
    "import xgboost as xgb\n",
    "from sklearn.model_selection import GridSearchCV\n",
    "from sklearn.metrics import mean_squared_error, mean_absolute_error\n",
    "\n",
    "# Define the XGBoost model\n",
    "xgb_zone2 = xgb.XGBRegressor()\n",
    "\n",
    "# Define hyperparameters for grid search\n",
    "param_grid = {\n",
    "    'n_estimators': [100, 200, 300],\n",
    "    'max_depth': [5, 7, 9],\n",
    "    'learning_rate': [0.05, 0.1, 0.01],\n",
    "    'subsample': [0.6, 0.7, 0.8, 0.9, 1.0],\n",
    "    'gamma': [0, 0.1, 0.3, 0.5, 1]\n",
    "}\n",
    "\n",
    "# Perform grid search with cross-validation\n",
    "grid_search = GridSearchCV(estimator=xgb_zone2, param_grid=param_grid, cv=3, scoring='neg_mean_squared_error', verbose=2)\n",
    "grid_search.fit(X_train, y_train_2)  \n",
    "\n",
    "# Get the best hyperparameters\n",
    "best_params_2 = grid_search.best_params_\n",
    "print(\"Best Hyperparameters:\", best_params_2)\n"
   ]
  },
  {
   "cell_type": "code",
   "execution_count": null,
   "id": "7a5e154c-9be5-446f-81b5-4ce1e8f4dcb5",
   "metadata": {
    "tags": []
   },
   "outputs": [],
   "source": [
    "# Initialise and train the XGBoost models for zone 2\n",
    "xgb_zone2 = xgb.XGBRegressor(**params_z2)\n",
    "xgb_zone2.fit(X_train, y_train_2)\n",
    "\n",
    "# Make predictions on training set\n",
    "y_train_pred_xgb_2 = xgb_zone2.predict(X_train)\n",
    "\n",
    "rmse_train_xgb_2 = mean_squared_error(y_train_2, y_train_pred_xgb_2, squared=False)\n",
    "mae_train_xgb_2 = mean_absolute_error(y_train_2, y_train_pred_xgb_2)\n",
    "\n",
    "\n",
    "# Make predictions for each zone on testing set\n",
    "y_test_pred_xgb_2 = xgb_zone2.predict(X_test)\n",
    "\n",
    "rmse_xgb_2 = mean_squared_error(y_test_2, y_test_pred_xgb_2, squared=False)\n",
    "mae_xgb_2 = mean_absolute_error(y_test_2, y_test_pred_xgb_2)\n",
    "\n",
    "print(f\"RMSE of Zone 2 for training and test data respectively:\\n\")\n",
    "print({rmse_train_xgb_2},{rmse_xgb_2})\n",
    "print(f\"\\nMAE of Zone 2 for training and test data respectively:\\n\")\n",
    "print({mae_train_xgb_2},{mae_xgb_2})"
   ]
  },
  {
   "cell_type": "markdown",
   "id": "ae9bc0da-0c25-4f6f-bbbe-d19cab3498a2",
   "metadata": {},
   "source": [
    "Result:\n",
    "\n",
    "RMSE of Zone 2 for training and test data respectively:\n",
    "\n",
    "{0.004694275583577905} {0.010958172953322859}\n",
    "\n",
    "MAE of Zone 2 for training and test data respectively:\n",
    "\n",
    "{0.0034467136829402474} {0.00748279459241567}"
   ]
  },
  {
   "cell_type": "markdown",
   "id": "82ac72e6-d44f-4fb1-a025-6aceb964e8de",
   "metadata": {},
   "source": [
    "**Step 1c. XGBoost model - Zone 3**"
   ]
  },
  {
   "cell_type": "code",
   "execution_count": null,
   "id": "7ae2ed39-bf90-4eb5-b704-23cfaa5cbd92",
   "metadata": {},
   "outputs": [],
   "source": [
    "import xgboost as xgb\n",
    "from sklearn.model_selection import GridSearchCV\n",
    "from sklearn.metrics import mean_squared_error, mean_absolute_error\n",
    "\n",
    "# Define the XGBoost model\n",
    "xgb_zone3 = xgb.XGBRegressor()\n",
    "\n",
    "# Define hyperparameters for grid search\n",
    "param_grid = {\n",
    "    'n_estimators': [100, 200, 300],\n",
    "    'max_depth': [5, 7, 9],\n",
    "    'learning_rate': [0.05, 0.1, 0.01],\n",
    "    'subsample': [0.6, 0.7, 0.8, 0.9, 1.0],\n",
    "    'gamma': [0, 0.1, 0.3, 0.5, 1]\n",
    "}\n",
    "\n",
    "# Perform grid search with cross-validation\n",
    "grid_search = GridSearchCV(estimator=xgb_zone3, param_grid=param_grid, cv=3, scoring='neg_mean_squared_error', verbose=2)\n",
    "grid_search.fit(X_train, y_train_3) \n",
    "\n",
    "# Get the best hyperparameters\n",
    "best_params_3 = grid_search.best_params_\n",
    "print(\"Best Hyperparameters:\", best_params_3)\n"
   ]
  },
  {
   "cell_type": "code",
   "execution_count": null,
   "id": "63a8f5c0-6664-4d47-8aa9-9c8702ea9577",
   "metadata": {
    "tags": []
   },
   "outputs": [],
   "source": [
    "# Initialise and train the XGBoost models for zone 3\n",
    "xgb_zone3 = xgb.XGBRegressor(**params_z3)\n",
    "xgb_zone3.fit(X_train, y_train_3)\n",
    "\n",
    "# Make predictions on training set\n",
    "y_train_pred_xgb_3 = xgb_zone3.predict(X_train)\n",
    "\n",
    "rmse_train_xgb_3 = mean_squared_error(y_train_3, y_train_pred_xgb_3, squared=False)\n",
    "mae_train_xgb_3 = mean_absolute_error(y_train_3, y_train_pred_xgb_3)\n",
    "\n",
    "\n",
    "# Make predictions for each zone on testing set\n",
    "y_test_pred_xgb_3 = xgb_zone3.predict(X_test)\n",
    "\n",
    "rmse_xgb_3 = mean_squared_error(y_test_3, y_test_pred_xgb_3, squared=False)\n",
    "mae_xgb_3 = mean_absolute_error(y_test_3, y_test_pred_xgb_3)\n",
    "\n",
    "print(f\"RMSE of Zone 3 for training and test data respectively:\\n\")\n",
    "print({rmse_train_xgb_3},{rmse_xgb_3})\n",
    "print(f\"\\nMAE of Zone 3 for training and test data respectively:\\n\")\n",
    "print({mae_train_xgb_3},{mae_xgb_3})"
   ]
  },
  {
   "cell_type": "markdown",
   "id": "66728361-e3e1-473c-808f-a2b521d76a1d",
   "metadata": {},
   "source": [
    "Result:\n",
    "\n",
    "RMSE of Zone 3 for training and test data respectively:\n",
    "\n",
    "{0.002965596207004069} {0.007097905563927104}\n",
    "\n",
    "MAE of Zone 3 for training and test data respectively:\n",
    "\n",
    "{0.002174836117674758} {0.004801392337682644}"
   ]
  },
  {
   "cell_type": "markdown",
   "id": "3021ea9d-fd37-4b5f-bd58-e63dfd58f3e4",
   "metadata": {},
   "source": [
    "**Step 1d. XGBoost model - Aggregated distribution**"
   ]
  },
  {
   "cell_type": "code",
   "execution_count": null,
   "id": "632047c8-69fa-486b-a28b-9208877dad4a",
   "metadata": {},
   "outputs": [],
   "source": [
    "import xgboost as xgb\n",
    "from sklearn.model_selection import GridSearchCV\n",
    "from sklearn.metrics import mean_squared_error, mean_absolute_error\n",
    "\n",
    "# Define the XGBoost model\n",
    "xgb_agg = xgb.XGBRegressor()\n",
    "\n",
    "# Define hyperparameters for grid search\n",
    "param_grid = {\n",
    "    'n_estimators': [100, 200, 300],\n",
    "    'max_depth': [5, 7, 9],\n",
    "    'learning_rate': [0.05, 0.1, 0.01],\n",
    "    'subsample': [0.6, 0.7, 0.8, 0.9, 1.0],\n",
    "    'gamma': [0, 0.1, 0.3, 0.5, 1]\n",
    "}\n",
    "\n",
    "# Perform grid search with cross-validation\n",
    "grid_search = GridSearchCV(estimator=xgb_agg, param_grid=param_grid, cv=3, scoring='neg_mean_squared_error', verbose=2)\n",
    "grid_search.fit(X_train, y_train_4) \n",
    "\n",
    "# Get the best hyperparameters\n",
    "best_params_4 = grid_search.best_params_\n",
    "print(\"Best Hyperparameters:\", best_params_4)"
   ]
  },
  {
   "cell_type": "code",
   "execution_count": null,
   "id": "cf2b8ab6-ef21-4a91-ab12-32a4ad128e91",
   "metadata": {
    "tags": []
   },
   "outputs": [],
   "source": [
    "# Initialise and train the XGBoost models for Aggregated distribution\n",
    "xgb_agg = xgb.XGBRegressor(**params_agg)\n",
    "xgb_agg.fit(X_train, y_train_4)\n",
    "\n",
    "# Make predictions on training set\n",
    "y_train_pred_xgb_4 = xgb_agg.predict(X_train)\n",
    "\n",
    "rmse_train_xgb_4 = mean_squared_error(y_train_4, y_train_pred_xgb_4, squared=False)\n",
    "mae_train_xgb_4 = mean_absolute_error(y_train_4, y_train_pred_xgb_4)\n",
    "\n",
    "\n",
    "# Make predictions for each zone on testing set\n",
    "y_test_pred_xgb_4 = xgb_agg.predict(X_test)\n",
    "\n",
    "rmse_xgb_4 = mean_squared_error(y_test_4, y_test_pred_xgb_4, squared=False)\n",
    "mae_xgb_4 = mean_absolute_error(y_test_4, y_test_pred_xgb_4)\n",
    "\n",
    "print(f\"RMSE of Aggregated distribution for training and test data respectively:\\n\")\n",
    "print({rmse_train_xgb_4},{rmse_xgb_4})\n",
    "print(f\"\\nMAE of Aggregated distribution for training and test data respectively:\\n\")\n",
    "print({mae_train_xgb_4},{mae_xgb_4})"
   ]
  },
  {
   "cell_type": "markdown",
   "id": "157fc4f8-f55c-4e37-a823-9ac527f26835",
   "metadata": {},
   "source": [
    "Result:\n",
    "    \n",
    "RMSE of Aggregated distribution for training and test data respectively:\n",
    "\n",
    "{0.0006875364843256181} {0.0019153351544994861}\n",
    "\n",
    "MAE of Aggregated distribution for training and test data respectively:\n",
    "\n",
    "{0.0005409295047004384} {0.0008992707887234322}"
   ]
  },
  {
   "cell_type": "markdown",
   "id": "749bdf10-375e-4dad-a763-f7d3a4f39008",
   "metadata": {},
   "source": [
    "**Step 1e. De-normalise XGBoost model RMSE and MAE values**"
   ]
  },
  {
   "cell_type": "code",
   "execution_count": null,
   "id": "8d1709d5-b616-4ef7-baa7-3a70eca7441e",
   "metadata": {
    "tags": []
   },
   "outputs": [],
   "source": [
    "print(f\"Denormalised RSME of Zone 1, 2 3 and aggregated distribution respectively using train data:\")\n",
    "print(round(rmse_train_xgb_1*original_range_train_1,0), round(rmse_train_xgb_2*original_range_train_2,0),round(rmse_train_xgb_3*original_range_train_3,0),round(rmse_train_xgb_4*original_range_train_4,0))\n",
    "print(f\"\\nDenormalised MAE of Zone 1,2,3 respectively using train data:\")\n",
    "print(round(mae_train_xgb_1*original_range_train_1,0),round(mae_train_xgb_2*original_range_train_2,0),round(mae_train_xgb_3*original_range_train_3,0),round(mae_train_xgb_4*original_range_train_4,0))\n",
    "\n",
    "print(f\"\\nDenormalised RSME of Zone 1, 2 3 and aggregated distribution respectively using test data:\")\n",
    "print(round(rmse_xgb_1*original_range_test_1,0), round(rmse_xgb_2*original_range_test_2,0),round(rmse_xgb_3*original_range_test_3,0),round(rmse_xgb_4*original_range_test_4,0))\n",
    "print(f\"\\nDenormalised MAE of Zone 1,2,3 respectively using test data:\")\n",
    "print(round(mae_xgb_1*original_range_test_1,0),round(mae_xgb_2*original_range_test_2,0),round(mae_xgb_3*original_range_test_3,0),round(mae_xgb_4*original_range_test_4,0))"
   ]
  },
  {
   "cell_type": "markdown",
   "id": "e784670d-ff34-4584-97ab-62873226d2f0",
   "metadata": {},
   "source": [
    "Result:\n",
    "\n",
    "Denormalised RSME of Zone 1, 2 3 and aggregated distribution respectively using train data:\n",
    "148.0 135.0 124.0 22.0\n",
    "\n",
    "Denormalised MAE of Zone 1,2,3 respectively using train data:\n",
    "110.0 99.0 91.0 17.0\n",
    "\n",
    "Denormalised RSME of Zone 1, 2 3 and aggregated distribution respectively using test data:\n",
    "356.0 296.0 293.0 62.0\n",
    "\n",
    "Denormalised MAE of Zone 1,2,3 respectively using test data:\n",
    "236.0 202.0 198.0 29.0"
   ]
  },
  {
   "cell_type": "markdown",
   "id": "16898216-d066-43da-8a5c-60372c015e82",
   "metadata": {},
   "source": [
    "**Step 2. 1 hour interval analysis**"
   ]
  },
  {
   "cell_type": "markdown",
   "id": "bac6a034-dc85-4080-9ec2-71b644cf51eb",
   "metadata": {},
   "source": [
    "GridSearchCV tool was used for this analysis to find the best parameters of XGBoost model. The best parameters found are:\n",
    "- Zone 1: gamma = 0, learning_rate = 0.1, Max_depth = 7, n_estimators = 400, subsample = 0.9\n",
    "- Zone 2: gamma = 0, learning_rate = 0.05, Max_depth = 7, n_estimators = 400, subsample = 0.9\n",
    "- Zone 3: gamma = 0, learning_rate = 0.05, Max_depth = 7, n_estimators = 400, subsample = 0.9\n",
    "- Aggregated: gamma = 0, learning_rate = 0.1, Max_depth = 7, n_estimators = 400, subsample = 0.9"
   ]
  },
  {
   "cell_type": "code",
   "execution_count": null,
   "id": "2064f681-6409-4139-865e-6257fd5e2ed5",
   "metadata": {
    "tags": []
   },
   "outputs": [],
   "source": [
    "import xgboost as xgb\n",
    "from sklearn.metrics import mean_squared_error, mean_absolute_error\n",
    "\n",
    "# Define hyperparameters for each zone\n",
    "params_z1_h = {'gamma': 0, 'learning_rate': 0.1, 'max_depth': 7, 'n_estimators': 400, 'subsample': 0.9}\n",
    "params_z2_h = {'gamma': 0, 'learning_rate': 0.05, 'max_depth': 7, 'n_estimators': 400, 'subsample': 0.9}\n",
    "params_z3_h = {'gamma': 0, 'learning_rate': 0.05, 'max_depth': 7, 'n_estimators': 400, 'subsample': 0.9}\n",
    "params_agg_h = {'gamma': 0, 'learning_rate': 0.1, 'max_depth': 7, 'n_estimators': 400, 'subsample': 0.9}"
   ]
  },
  {
   "cell_type": "markdown",
   "id": "809e9d9f-818c-4ab3-a379-dc1630fd8f97",
   "metadata": {},
   "source": [
    "**Step 2a. XGBoost model - hourly data - Zone 1**"
   ]
  },
  {
   "cell_type": "code",
   "execution_count": null,
   "id": "82b48337-c431-4312-9f26-aa702828ad76",
   "metadata": {},
   "outputs": [],
   "source": [
    "import xgboost as xgb\n",
    "from sklearn.model_selection import GridSearchCV\n",
    "from sklearn.metrics import mean_squared_error, mean_absolute_error\n",
    "\n",
    "# Define the XGBoost model\n",
    "xgb_zone1_h = xgb.XGBRegressor()\n",
    "\n",
    "# Define hyperparameters for grid search\n",
    "param_grid = {\n",
    "    'n_estimators': [100, 200, 300],\n",
    "    'max_depth': [5, 7, 9],\n",
    "    'learning_rate': [0.05, 0.1, 0.01],\n",
    "    'subsample': [0.6, 0.7, 0.8, 0.9, 1.0],\n",
    "    'gamma': [0, 0.1, 0.3, 0.5, 1]\n",
    "}\n",
    "\n",
    "# Perform grid search with cross-validation\n",
    "grid_search = GridSearchCV(estimator=xgb_zone1_h, param_grid=param_grid, cv=3, scoring='neg_mean_squared_error', verbose=2)\n",
    "grid_search.fit(X_train_h, y_train_1_h) \n",
    "\n",
    "# Get the best hyperparameters\n",
    "best_params_1_h = grid_search.best_params_\n",
    "print(\"Best Hyperparameters:\", best_params_1_h)"
   ]
  },
  {
   "cell_type": "code",
   "execution_count": null,
   "id": "87f58e36-bc0c-437b-8d51-0ed48ff1e7bb",
   "metadata": {
    "tags": []
   },
   "outputs": [],
   "source": [
    "# Initialise and train the XGBoost models for zone 1\n",
    "xgb_zone1_h = xgb.XGBRegressor(**params_z1_h)\n",
    "xgb_zone1_h.fit(X_train_h, y_train_1_h)\n",
    "\n",
    "# Make predictions on training set\n",
    "y_train_pred_xgb_1_h = xgb_zone1.predict(X_train_h)\n",
    "\n",
    "rmse_train_xgb_1_h = mean_squared_error(y_train_1_h, y_train_pred_xgb_1_h, squared=False)\n",
    "mae_train_xgb_1_h = mean_absolute_error(y_train_1_h, y_train_pred_xgb_1_h)\n",
    "\n",
    "\n",
    "# Make predictions for each zone on testing set\n",
    "y_test_pred_xgb_1_h = xgb_zone1.predict(X_test_h)\n",
    "\n",
    "rmse_xgb_1_h = mean_squared_error(y_test_1_h, y_test_pred_xgb_1_h, squared=False)\n",
    "mae_xgb_1_h = mean_absolute_error(y_test_1_h, y_test_pred_xgb_1_h)\n",
    "\n",
    "print(f\"RMSE of Zone 1 for training and test data respectively:\\n\")\n",
    "print({rmse_train_xgb_1_h},{rmse_xgb_1_h})\n",
    "print(f\"\\nMAE of zone 1 for training and test data respectively:\\n\")\n",
    "print({mae_train_xgb_1_h},{mae_xgb_1_h})"
   ]
  },
  {
   "cell_type": "markdown",
   "id": "b427a58f-1b34-461a-a69f-0ebe0f8b4342",
   "metadata": {},
   "source": [
    "Result:\n",
    "    \n",
    "RMSE of Zone 1 for training and test data respectively:\n",
    "\n",
    "{0.008663498338807382} {0.00847959771970821}\n",
    "\n",
    "MAE of zone 1 for training and test data respectively:\n",
    "\n",
    "{0.005815160202067898} {0.005580765555211555}"
   ]
  },
  {
   "cell_type": "markdown",
   "id": "2d071ff2-7367-4683-8575-ee5ea615e0fd",
   "metadata": {},
   "source": [
    "**Step 2b. XGBoost model - hourly data - Zone 2**"
   ]
  },
  {
   "cell_type": "code",
   "execution_count": null,
   "id": "629ea303-e767-467e-8dae-3ec1ce445d92",
   "metadata": {},
   "outputs": [],
   "source": [
    "import xgboost as xgb\n",
    "from sklearn.model_selection import GridSearchCV\n",
    "from sklearn.metrics import mean_squared_error, mean_absolute_error\n",
    "\n",
    "# Define the XGBoost model\n",
    "xgb_zone2_h = xgb.XGBRegressor()\n",
    "\n",
    "# Define hyperparameters for grid search\n",
    "param_grid = {\n",
    "    'n_estimators': [100, 200, 300],\n",
    "    'max_depth': [5, 7, 9],\n",
    "    'learning_rate': [0.05, 0.1, 0.01],\n",
    "    'subsample': [0.6, 0.7, 0.8, 0.9, 1.0],\n",
    "    'gamma': [0, 0.1, 0.3, 0.5, 1]\n",
    "}\n",
    "\n",
    "# Perform grid search with cross-validation\n",
    "grid_search = GridSearchCV(estimator=xgb_zone2_h, param_grid=param_grid, cv=3, scoring='neg_mean_squared_error', verbose=2)\n",
    "grid_search.fit(X_train_h, y_train_2_h) \n",
    "\n",
    "# Get the best hyperparameters\n",
    "best_params_2_h = grid_search.best_params_\n",
    "print(\"Best Hyperparameters:\", best_params_2_h)"
   ]
  },
  {
   "cell_type": "code",
   "execution_count": null,
   "id": "0329e699-eb92-4014-b72a-139edb13cfb8",
   "metadata": {
    "tags": []
   },
   "outputs": [],
   "source": [
    "# Initialise and train the XGBoost model for zone 2\n",
    "xgb_zone2_h = xgb.XGBRegressor(**params_z2_h)\n",
    "xgb_zone2_h.fit(X_train_h, y_train_2_h)\n",
    "\n",
    "# Make predictions on training set\n",
    "y_train_pred_xgb_2_h = xgb_zone2_h.predict(X_train_h)\n",
    "\n",
    "rmse_train_xgb_2_h = mean_squared_error(y_train_2_h, y_train_pred_xgb_2_h, squared=False)\n",
    "mae_train_xgb_2_h = mean_absolute_error(y_train_2_h, y_train_pred_xgb_2_h)\n",
    "\n",
    "\n",
    "# Make predictions for each zone on testing set\n",
    "y_test_pred_xgb_2_h = xgb_zone2_h.predict(X_test_h)\n",
    "\n",
    "rmse_xgb_2_h = mean_squared_error(y_test_2_h, y_test_pred_xgb_2_h, squared=False)\n",
    "mae_xgb_2_h = mean_absolute_error(y_test_2_h, y_test_pred_xgb_2_h)\n",
    "\n",
    "print(f\"RMSE of Zone 2 for training and test data respectively:\\n\")\n",
    "print({rmse_train_xgb_2_h},{rmse_xgb_2_h})\n",
    "print(f\"\\nMAE of Zone 2 for training and test data respectively:\\n\")\n",
    "print({mae_train_xgb_2_h},{mae_xgb_2_h})"
   ]
  },
  {
   "cell_type": "markdown",
   "id": "2b4bd17c-7337-4d23-a6cc-1b8d62aabd62",
   "metadata": {},
   "source": [
    "Result:\n",
    "\n",
    "RMSE of Zone 2 for training and test data respectively:\n",
    "\n",
    "{0.0077399822777267395} {0.02042747366855072}\n",
    "\n",
    "MAE of Zone 2 for training and test data respectively:\n",
    "\n",
    "{0.0056050033297470455} {0.013762629506896523}"
   ]
  },
  {
   "cell_type": "markdown",
   "id": "9be5e3ff-cb90-445f-b47f-eddea8845088",
   "metadata": {},
   "source": [
    "**Step 2c. XGBoost model - hourly data - Zone 3**"
   ]
  },
  {
   "cell_type": "code",
   "execution_count": null,
   "id": "9f9ac3ca-8206-4de2-b769-48471c52b661",
   "metadata": {},
   "outputs": [],
   "source": [
    "import xgboost as xgb\n",
    "from sklearn.model_selection import GridSearchCV\n",
    "from sklearn.metrics import mean_squared_error, mean_absolute_error\n",
    "\n",
    "# Define the XGBoost model\n",
    "xgb_zone3_h = xgb.XGBRegressor()\n",
    "\n",
    "# Define hyperparameters for grid search\n",
    "param_grid = {\n",
    "    'n_estimators': [100, 200, 300],\n",
    "    'max_depth': [5, 7, 9],\n",
    "    'learning_rate': [0.05, 0.1, 0.01],\n",
    "    'subsample': [0.6, 0.7, 0.8, 0.9, 1.0],\n",
    "    'gamma': [0, 0.1, 0.3, 0.5, 1]\n",
    "}\n",
    "\n",
    "# Perform grid search with cross-validation\n",
    "grid_search = GridSearchCV(estimator=xgb_zone3_h, param_grid=param_grid, cv=3, scoring='neg_mean_squared_error', verbose=2)\n",
    "grid_search.fit(X_train_h, y_train_3_h) \n",
    "\n",
    "# Get the best hyperparameters\n",
    "best_params_3_h = grid_search.best_params_\n",
    "print(\"Best Hyperparameters:\", best_params_3_h)"
   ]
  },
  {
   "cell_type": "code",
   "execution_count": null,
   "id": "b5b7f9b1-581f-4f1d-8a51-b64a5b03c478",
   "metadata": {
    "tags": []
   },
   "outputs": [],
   "source": [
    "# Initialise and train the XGBoost model for zone 3\n",
    "xgb_zone3_h = xgb.XGBRegressor(**params_z3_h)\n",
    "xgb_zone3_h.fit(X_train_h, y_train_3_h)\n",
    "\n",
    "# Make predictions on training set\n",
    "y_train_pred_xgb_3_h = xgb_zone3_h.predict(X_train_h)\n",
    "\n",
    "rmse_train_xgb_3_h = mean_squared_error(y_train_3_h, y_train_pred_xgb_3_h, squared=False)\n",
    "mae_train_xgb_3_h = mean_absolute_error(y_train_3_h, y_train_pred_xgb_3_h)\n",
    "\n",
    "\n",
    "# Make predictions for each zone on testing set\n",
    "y_test_pred_xgb_3_h = xgb_zone3_h.predict(X_test_h)\n",
    "\n",
    "rmse_xgb_3_h = mean_squared_error(y_test_3_h, y_test_pred_xgb_3_h, squared=False)\n",
    "mae_xgb_3_h = mean_absolute_error(y_test_3_h, y_test_pred_xgb_3_h)\n",
    "\n",
    "print(f\"RMSE of Zone 3 for training and test data respectively:\\n\")\n",
    "print({rmse_train_xgb_3_h},{rmse_xgb_3_h})\n",
    "print(f\"\\nMAE of Zone 3 for training and test data respectively:\\n\")\n",
    "print({mae_train_xgb_3_h},{mae_xgb_3_h})"
   ]
  },
  {
   "cell_type": "markdown",
   "id": "489881ec-f028-4974-8c04-a8a2e344bdd8",
   "metadata": {},
   "source": [
    "Result:\n",
    "\n",
    "RMSE of Zone 3 for training and test data respectively:\n",
    "\n",
    "{0.004540858995579114} {0.012642365401757928}\n",
    "\n",
    "MAE of Zone 3 for training and test data respectively:\n",
    "\n",
    "{0.0033215603817784156} {0.008562181995357207}"
   ]
  },
  {
   "cell_type": "markdown",
   "id": "2900832b-3ef2-4a8a-9783-b96f1fcb512d",
   "metadata": {},
   "source": [
    "**Step 2d. XGBoost model - hourly data - Aggregated distribution**"
   ]
  },
  {
   "cell_type": "code",
   "execution_count": null,
   "id": "6d16ff7f-4498-49e5-8bc4-54f41f0bf454",
   "metadata": {},
   "outputs": [],
   "source": [
    "import xgboost as xgb\n",
    "from sklearn.model_selection import GridSearchCV\n",
    "from sklearn.metrics import mean_squared_error, mean_absolute_error\n",
    "\n",
    "# Define the XGBoost model\n",
    "xgb_agg_h = xgb.XGBRegressor()\n",
    "\n",
    "# Define hyperparameters for grid search\n",
    "param_grid = {\n",
    "    'n_estimators': [100, 200, 300],\n",
    "    'max_depth': [5, 7, 9],\n",
    "    'learning_rate': [0.05, 0.1, 0.01],\n",
    "    'subsample': [0.6, 0.7, 0.8, 0.9, 1.0],\n",
    "    'gamma': [0, 0.1, 0.3, 0.5, 1]\n",
    "}\n",
    "\n",
    "# Perform grid search with cross-validation\n",
    "grid_search = GridSearchCV(estimator=xgb_agg_h, param_grid=param_grid, cv=3, scoring='neg_mean_squared_error', verbose=2)\n",
    "grid_search.fit(X_train_h, y_train_4_h) \n",
    "\n",
    "# Get the best hyperparameters\n",
    "best_params_4_h = grid_search.best_params_\n",
    "print(\"Best Hyperparameters:\", best_params_4_h)"
   ]
  },
  {
   "cell_type": "code",
   "execution_count": null,
   "id": "7167b5e9-5d4a-442f-8ef1-09ef5e5cead5",
   "metadata": {
    "tags": []
   },
   "outputs": [],
   "source": [
    "# Initialise and train the XGBoost model for Aggregated distribution\n",
    "xgb_agg_h = xgb.XGBRegressor(**params_agg_h)\n",
    "xgb_agg_h.fit(X_train_h, y_train_4_h)\n",
    "\n",
    "# Make predictions on training set\n",
    "y_train_pred_xgb_4_h = xgb_agg_h.predict(X_train_h)\n",
    "\n",
    "rmse_train_xgb_4_h = mean_squared_error(y_train_4_h, y_train_pred_xgb_4_h, squared=False)\n",
    "mae_train_xgb_4_h = mean_absolute_error(y_train_4_h, y_train_pred_xgb_4_h)\n",
    "\n",
    "\n",
    "# Make predictions for each zone on testing set\n",
    "y_test_pred_xgb_4_h = xgb_agg_h.predict(X_test_h)\n",
    "\n",
    "rmse_xgb_4_h = mean_squared_error(y_test_4_h, y_test_pred_xgb_4_h, squared=False)\n",
    "mae_xgb_4_h = mean_absolute_error(y_test_4_h, y_test_pred_xgb_4_h)\n",
    "\n",
    "print(f\"RMSE of aggregated distribution for training and test data respectively:\\n\")\n",
    "print({rmse_train_xgb_4_h},{rmse_xgb_4_h})\n",
    "print(f\"\\nMAE of aggregated distribution for training and test data respectively:\\n\")\n",
    "print({mae_train_xgb_4_h},{mae_xgb_4_h})"
   ]
  },
  {
   "cell_type": "markdown",
   "id": "464af7ef-1726-4a45-a9db-317a88b39641",
   "metadata": {},
   "source": [
    "Result:\n",
    "\n",
    "RMSE of aggregated distribution for training and test data respectively:\n",
    "\n",
    "{0.0006180230646527052} {0.0025103717810249083}\n",
    "\n",
    "MAE of aggregated distribution for training and test data respectively:\n",
    "\n",
    "{0.00048563682631533333} {0.0010164625999621077}"
   ]
  },
  {
   "cell_type": "markdown",
   "id": "8b374a8b-6346-4882-8825-83c38657a22d",
   "metadata": {},
   "source": [
    "**Step 2e. De-normalise XGBoost model RMSE and MAE values**"
   ]
  },
  {
   "cell_type": "code",
   "execution_count": null,
   "id": "825f0e01-9a5d-48d9-b88a-bb3ee025e90f",
   "metadata": {
    "tags": []
   },
   "outputs": [],
   "source": [
    "print(f\"Denormalised RSME of Zone 1, 2 3 and aggregated distribution respectively using train data:\")\n",
    "print(round(rmse_train_xgb_1_h*original_range_train_1_h,0), round(rmse_train_xgb_2_h*original_range_train_2_h,0),round(rmse_train_xgb_3_h*original_range_train_3_h,0),round(rmse_train_xgb_4_h*original_range_train_4_h,0))\n",
    "print(f\"\\nDenormalised MAE of Zone 1,2,3 respectively using train data:\")\n",
    "print(round(mae_train_xgb_1_h*original_range_train_1_h,0),round(mae_train_xgb_2_h*original_range_train_2_h,0),round(mae_train_xgb_3_h*original_range_train_3_h,0),round(mae_train_xgb_4_h*original_range_train_4_h,0))\n",
    "\n",
    "print(f\"\\nDenormalised RSME of Zone 1, 2 3 and aggregated distribution respectively using test data:\")\n",
    "print(round(rmse_xgb_1_h*original_range_test_1_h,0), round(rmse_xgb_2_h*original_range_test_2_h,0),round(rmse_xgb_3_h*original_range_test_3_h,0),round(rmse_xgb_4_h*original_range_test_4_h,0))\n",
    "print(f\"\\nDenormalised MAE of Zone 1,2,3 respectively using test data:\")\n",
    "print(round(mae_xgb_1_h*original_range_test_1_h,0),round(mae_xgb_2_h*original_range_test_2_h,0),round(mae_xgb_3_h*original_range_test_3_h,0),round(mae_xgb_4_h*original_range_test_4_h,0))"
   ]
  },
  {
   "cell_type": "markdown",
   "id": "d8788411-dc47-4315-ac94-0d1f9542f1d2",
   "metadata": {},
   "source": [
    "Result:\n",
    "\n",
    "Denormalised RSME of Zone 1, 2 3 and aggregated distribution respectively using train data:\n",
    "325.0 211.0 186.0 20.0\n",
    "\n",
    "Denormalised MAE of Zone 1,2,3 respectively using train data:\n",
    "218.0 153.0 136.0 15.0\n",
    "\n",
    "Denormalised RSME of Zone 1, 2 3 and aggregated distribution respectively using test data:\n",
    "270.0 546.0 488.0 75.0\n",
    "\n",
    "Denormalised MAE of Zone 1,2,3 respectively using test data:\n",
    "178.0 368.0 330.0 30.0"
   ]
  },
  {
   "cell_type": "markdown",
   "id": "c645cdf6-47f6-4c73-bd95-7331372ccf80",
   "metadata": {},
   "source": [
    "### Experimental protocol.\n"
   ]
  },
  {
   "cell_type": "markdown",
   "id": "cc741d0d-1ab3-47c7-9e14-08a4a4ca2fcd",
   "metadata": {},
   "source": [
    "**Step 1. Data preprocessing**\n",
    "- The data is loaded into a pandas dataframe. There is no missing values."
   ]
  },
  {
   "cell_type": "markdown",
   "id": "84e1599f-2e41-45bf-939d-bcd5da312224",
   "metadata": {},
   "source": [
    "**Step 2. Feature Engineering**\n",
    "- Based on the journal article, important variables are extracted from the DateTime data.\n",
    "- An additional column is created for the average power consumption across the three zones."
   ]
  },
  {
   "cell_type": "markdown",
   "id": "700856c0-9dba-4672-8b49-b7c36bcf5294",
   "metadata": {},
   "source": [
    "**Step 3. Splitting the data**\n",
    "- Data is normalised for all columns except the date-related columns.\n",
    "- The extracted data is then split into 25% test and 75% training data."
   ]
  },
  {
   "cell_type": "markdown",
   "id": "430cba7c-3711-4900-bb6f-c7785658d3d5",
   "metadata": {},
   "source": [
    "**Step 4. Model Building**\n",
    "- Determine that there is one model for each zone.\n",
    "- All zones have the same features. While each zone has its own target variables: Zone 1 power consumption for zone 1, Zone 2 power consumption for zone 2, Zone 3 power consumption for zone 3, Average power consumption for aggregated distribution."
   ]
  },
  {
   "cell_type": "markdown",
   "id": "890d12c0-d041-4ba7-a514-2527cf467f1d",
   "metadata": {},
   "source": [
    "**Step 5. Hyperparameter tuning using GridSearchCV**\n",
    "- Hyperparameters are identified: gamma, learning rate, max_depth, n_estimators and subsample.\n",
    "- GridSearchCV is used to find the best hyperparameters for each zone to ensure the best performance."
   ]
  },
  {
   "cell_type": "markdown",
   "id": "9d2043d6-1cca-4841-9ed0-3d2f59ede100",
   "metadata": {},
   "source": [
    "**Step 6. Training and validation**\n",
    "- Model training: Train the XGBoost model using the best found parameters for each zone.\n",
    "- Generate evaluation metrics RMSE and MAE on both training and test data."
   ]
  },
  {
   "cell_type": "markdown",
   "id": "134e29ce-2871-4cc3-b493-05e03faaa961",
   "metadata": {},
   "source": [
    "**Step 7. 1-hour data analysis**\n",
    "- Convert 10-min interval data into hourly data.\n",
    "- Apply the above steps on the hourly dataset and generate best results of RMSE, MAE for each zone."
   ]
  },
  {
   "cell_type": "markdown",
   "id": "f7c443f2-01b4-4ae7-875d-cd63ff46ac98",
   "metadata": {},
   "source": [
    "### Evaluation metrics\n"
   ]
  },
  {
   "cell_type": "markdown",
   "id": "fbfa673d-0795-491b-9d79-185695bfadf2",
   "metadata": {},
   "source": [
    "The evaluation metrics are RMSE and MAE of both training and test data for each zone. This is the same metrics that have been used in previous sections on other machine learning models."
   ]
  },
  {
   "cell_type": "markdown",
   "id": "e9c9351f-4813-4c63-9a7d-29a40affc27c",
   "metadata": {},
   "source": [
    "### Results\n"
   ]
  },
  {
   "cell_type": "markdown",
   "id": "1d437595-27ed-4101-99e5-075dded61909",
   "metadata": {},
   "source": [
    "10-min interval comparison - Random forest and XGBoost"
   ]
  },
  {
   "cell_type": "code",
   "execution_count": 4,
   "id": "f2640bae-0895-4c70-8c4d-493b812372ad",
   "metadata": {
    "tags": []
   },
   "outputs": [
    {
     "name": "stdout",
     "output_type": "stream",
     "text": [
      "Training Data Results\n",
      "Model                 RF  RF (case study)    XGB\n",
      "Zone       Metric                               \n",
      "Aggregated MAE      13.3            318.5   17.0\n",
      "           RMSE     23.2            482.3   22.0\n",
      "Zone 1     MAE     129.2            472.8  110.0\n",
      "           RMSE    205.3            671.7  148.0\n",
      "Zone 2     MAE     106.9            135.6   99.0\n",
      "           RMSE    169.8            214.1  135.0\n",
      "Zone 3     MAE      93.5            420.5   91.0\n",
      "           RMSE    143.5            594.5  124.0\n",
      "\n",
      "Test Data Results\n",
      "Model                 RF  RF (case study)    XGB\n",
      "Zone       Metric                               \n",
      "Aggregated MAE      25.9           3595.3   29.0\n",
      "           RMSE     43.3           4481.1   62.0\n",
      "Zone 1     MAE     323.1           2663.5  236.0\n",
      "           RMSE    508.5           3174.7  356.0\n",
      "Zone 2     MAE     267.7           1939.6  202.0\n",
      "           RMSE    410.7           2336.9  296.0\n",
      "Zone 3     MAE     234.3           2475.9  198.0\n",
      "           RMSE    352.2           3227.8  203.0\n"
     ]
    },
    {
     "data": {
      "image/png": "[encoded data removed]",
      "text/plain": [
       "<Figure size 1400x1000 with 4 Axes>"
      ]
     },
     "metadata": {},
     "output_type": "display_data"
    }
   ],
   "source": [
    "import pandas as pd\n",
    "import matplotlib.pyplot as plt\n",
    "import seaborn as sns\n",
    "\n",
    "# Define the data\n",
    "data_vi = {\n",
    "    'Zone': ['Zone 1', 'Zone 1', 'Zone 2', 'Zone 2', 'Zone 3', 'Zone 3', 'Aggregated', 'Aggregated',\n",
    "             'Zone 1', 'Zone 1', 'Zone 2', 'Zone 2', 'Zone 3', 'Zone 3', 'Aggregated', 'Aggregated',\n",
    "            'Zone 1', 'Zone 1', 'Zone 2', 'Zone 2', 'Zone 3', 'Zone 3', 'Aggregated', 'Aggregated',\n",
    "             'Zone 1', 'Zone 1', 'Zone 2', 'Zone 2', 'Zone 3', 'Zone 3', 'Aggregated', 'Aggregated',\n",
    "             'Zone 1', 'Zone 1', 'Zone 2', 'Zone 2', 'Zone 3', 'Zone 3', 'Aggregated', 'Aggregated',\n",
    "             'Zone 1', 'Zone 1', 'Zone 2', 'Zone 2', 'Zone 3', 'Zone 3', 'Aggregated', 'Aggregated'],\n",
    "    'Metric': ['RMSE', 'MAE', 'RMSE', 'MAE', 'RMSE', 'MAE', 'RMSE', 'MAE',\n",
    "               'RMSE', 'MAE', 'RMSE', 'MAE', 'RMSE', 'MAE', 'RMSE', 'MAE',\n",
    "              'RMSE', 'MAE', 'RMSE', 'MAE', 'RMSE', 'MAE', 'RMSE', 'MAE',\n",
    "               'RMSE', 'MAE', 'RMSE', 'MAE', 'RMSE', 'MAE', 'RMSE', 'MAE',\n",
    "              'RMSE', 'MAE', 'RMSE', 'MAE', 'RMSE', 'MAE', 'RMSE', 'MAE',\n",
    "               'RMSE', 'MAE', 'RMSE', 'MAE', 'RMSE', 'MAE', 'RMSE', 'MAE'],\n",
    "    'Data': ['Train', 'Train', 'Train', 'Train', 'Train', 'Train', 'Train', 'Train',\n",
    "             'Test', 'Test', 'Test', 'Test', 'Test', 'Test', 'Test', 'Test',\n",
    "            'Train', 'Train', 'Train', 'Train', 'Train', 'Train', 'Train', 'Train',\n",
    "             'Test', 'Test', 'Test', 'Test', 'Test', 'Test', 'Test', 'Test',\n",
    "            'Train', 'Train', 'Train', 'Train', 'Train', 'Train', 'Train', 'Train',\n",
    "             'Test', 'Test', 'Test', 'Test', 'Test', 'Test', 'Test', 'Test'],\n",
    "    'Model': ['RF', 'RF', 'RF', 'RF', 'RF', 'RF', 'RF', 'RF','RF', 'RF', 'RF', 'RF', 'RF', 'RF', 'RF', 'RF',\n",
    "              'XGB', 'XGB', 'XGB', 'XGB', 'XGB', 'XGB', 'XGB', 'XGB','XGB', 'XGB', 'XGB', 'XGB', 'XGB', 'XGB', 'XGB', 'XGB',\n",
    "             'RF (case study)', 'RF (case study)', 'RF (case study)', 'RF (case study)', 'RF (case study)', 'RF (case study)', 'RF (case study)', 'RF (case study)',\n",
    "              'RF (case study)', 'RF (case study)', 'RF (case study)', 'RF (case study)', 'RF (case study)', 'RF (case study)', 'RF (case study)', 'RF (case study)'],\n",
    "    'Value': [205.3, 129.2, 169.8, 106.9, 143.5, 93.5, 23.2, 13.3,\n",
    "              508.5, 323.1, 410.7, 267.7, 352.2, 234.3, 43.3, 25.9,\n",
    "             148.0, 110.0, 135.0, 99.0, 124.0, 91.0, 22.0, 17.0,\n",
    "              356.0, 236.0, 296.0, 202.0, 203.0, 198.0, 62.0, 29.0,\n",
    "             671.7,472.8,214.1,135.6,594.5,420.5,482.3,318.5,\n",
    "             3174.7,2663.5,2336.9,1939.6,3227.8,2475.9,4481.1,3595.3]\n",
    "}\n",
    "\n",
    "# Convert the data to a DataFrame\n",
    "df = pd.DataFrame(data_vi)\n",
    "\n",
    "# Pivot the data for better table visualization\n",
    "pivot_train = df[df['Data'] == 'Train'].pivot_table(index=['Zone', 'Metric'], columns='Model', values='Value')\n",
    "pivot_test = df[df['Data'] == 'Test'].pivot_table(index=['Zone', 'Metric'], columns='Model', values='Value')\n",
    "\n",
    "# Print the tables\n",
    "print(\"Training Data Results\")\n",
    "print(pivot_train)\n",
    "print(\"\\nTest Data Results\")\n",
    "print(pivot_test)\n",
    "\n",
    "# Plotting the results\n",
    "fig, axes = plt.subplots(2, 2, figsize=(14, 10), sharey=True)\n",
    "\n",
    "# Train RMSE\n",
    "sns.barplot(x='Zone', y='Value', hue='Model', data=df[(df['Metric'] == 'RMSE') & (df['Data'] == 'Train')], ax=axes[0, 0])\n",
    "axes[0, 0].set_title('Train RMSE')\n",
    "axes[0, 0].set_ylabel('RMSE')\n",
    "\n",
    "# Train MAE\n",
    "sns.barplot(x='Zone', y='Value', hue='Model', data=df[(df['Metric'] == 'MAE') & (df['Data'] == 'Train')], ax=axes[0, 1])\n",
    "axes[0, 1].set_title('Train MAE')\n",
    "axes[0, 1].set_ylabel('MAE')\n",
    "\n",
    "# Test RMSE\n",
    "sns.barplot(x='Zone', y='Value', hue='Model', data=df[(df['Metric'] == 'RMSE') & (df['Data'] == 'Test')], ax=axes[1, 0])\n",
    "axes[1, 0].set_title('Test RMSE')\n",
    "axes[1, 0].set_ylabel('RMSE')\n",
    "\n",
    "# Test MAE\n",
    "sns.barplot(x='Zone', y='Value', hue='Model', data=df[(df['Metric'] == 'MAE') & (df['Data'] == 'Test')], ax=axes[1, 1])\n",
    "axes[1, 1].set_title('Test MAE')\n",
    "axes[1, 1].set_ylabel('MAE')\n",
    "\n",
    "# Adjust layout\n",
    "plt.tight_layout()\n",
    "plt.show()\n"
   ]
  },
  {
   "cell_type": "markdown",
   "id": "e7f798b5-b616-4325-9adf-3f309453f599",
   "metadata": {},
   "source": [
    "Hourly analysis comparison - Random forest and XGBoost"
   ]
  },
  {
   "cell_type": "code",
   "execution_count": 5,
   "id": "190ff29d-4024-4809-9017-9b75cb9e915c",
   "metadata": {
    "tags": []
   },
   "outputs": [
    {
     "name": "stdout",
     "output_type": "stream",
     "text": [
      "Training Data Results\n",
      "Model                 RF  RF (case study)    XGB\n",
      "Zone       Metric                               \n",
      "Aggregated MAE      41.0           3493.7   15.0\n",
      "           RMSE     66.0           4960.9   20.0\n",
      "Zone 1     MAE     236.0           2286.7  218.0\n",
      "           RMSE    339.0           3185.8  325.0\n",
      "Zone 2     MAE     232.0           2342.3  153.0\n",
      "           RMSE    359.0           3602.2  211.0\n",
      "Zone 3     MAE     465.0           4079.2  136.0\n",
      "           RMSE    667.0           5669.8  186.0\n",
      "\n",
      "Test Data Results\n",
      "Model                 RF  RF (case study)    XGB\n",
      "Zone       Metric                               \n",
      "Aggregated MAE      96.0          24033.3   30.0\n",
      "           RMSE    154.0          28769.3   75.0\n",
      "Zone 1     MAE     565.0          15442.0  178.0\n",
      "           RMSE    826.0          21109.7  270.0\n",
      "Zone 2     MAE     508.0          11955.2  368.0\n",
      "           RMSE    743.0          14700.9  546.0\n",
      "Zone 3     MAE     571.0          15777.6  330.0\n",
      "           RMSE    837.0          19504.1  488.0\n"
     ]
    },
    {
     "data": {
      "image/png": "[encoded data removed]",
      "text/plain": [
       "<Figure size 1400x1000 with 4 Axes>"
      ]
     },
     "metadata": {},
     "output_type": "display_data"
    }
   ],
   "source": [
    "import pandas as pd\n",
    "import matplotlib.pyplot as plt\n",
    "import seaborn as sns\n",
    "\n",
    "# Define the data\n",
    "data_vi_h = {\n",
    "    'Zone': ['Zone 1', 'Zone 1', 'Zone 2', 'Zone 2', 'Zone 3', 'Zone 3', 'Aggregated', 'Aggregated',\n",
    "             'Zone 1', 'Zone 1', 'Zone 2', 'Zone 2', 'Zone 3', 'Zone 3', 'Aggregated', 'Aggregated',\n",
    "            'Zone 1', 'Zone 1', 'Zone 2', 'Zone 2', 'Zone 3', 'Zone 3', 'Aggregated', 'Aggregated',\n",
    "             'Zone 1', 'Zone 1', 'Zone 2', 'Zone 2', 'Zone 3', 'Zone 3', 'Aggregated', 'Aggregated',\n",
    "            'Zone 1', 'Zone 1', 'Zone 2', 'Zone 2', 'Zone 3', 'Zone 3', 'Aggregated', 'Aggregated',\n",
    "             'Zone 1', 'Zone 1', 'Zone 2', 'Zone 2', 'Zone 3', 'Zone 3', 'Aggregated', 'Aggregated'],\n",
    "    'Metric': ['RMSE', 'MAE', 'RMSE', 'MAE', 'RMSE', 'MAE', 'RMSE', 'MAE',\n",
    "               'RMSE', 'MAE', 'RMSE', 'MAE', 'RMSE', 'MAE', 'RMSE', 'MAE',\n",
    "              'RMSE', 'MAE', 'RMSE', 'MAE', 'RMSE', 'MAE', 'RMSE', 'MAE',\n",
    "               'RMSE', 'MAE', 'RMSE', 'MAE', 'RMSE', 'MAE', 'RMSE', 'MAE',\n",
    "              'RMSE', 'MAE', 'RMSE', 'MAE', 'RMSE', 'MAE', 'RMSE', 'MAE',\n",
    "               'RMSE', 'MAE', 'RMSE', 'MAE', 'RMSE', 'MAE', 'RMSE', 'MAE'],\n",
    "    'Data': ['Train', 'Train', 'Train', 'Train', 'Train', 'Train', 'Train', 'Train',\n",
    "             'Test', 'Test', 'Test', 'Test', 'Test', 'Test', 'Test', 'Test',\n",
    "            'Train', 'Train', 'Train', 'Train', 'Train', 'Train', 'Train', 'Train',\n",
    "             'Test', 'Test', 'Test', 'Test', 'Test', 'Test', 'Test', 'Test',\n",
    "            'Train', 'Train', 'Train', 'Train', 'Train', 'Train', 'Train', 'Train',\n",
    "             'Test', 'Test', 'Test', 'Test', 'Test', 'Test', 'Test', 'Test'],\n",
    "    'Model': ['RF', 'RF', 'RF', 'RF', 'RF', 'RF', 'RF', 'RF','RF', 'RF', 'RF', 'RF', 'RF', 'RF', 'RF', 'RF',\n",
    "              'XGB', 'XGB', 'XGB', 'XGB', 'XGB', 'XGB', 'XGB', 'XGB','XGB', 'XGB', 'XGB', 'XGB', 'XGB', 'XGB', 'XGB', 'XGB',\n",
    "              'RF (case study)', 'RF (case study)', 'RF (case study)', 'RF (case study)', 'RF (case study)', 'RF (case study)', 'RF (case study)', 'RF (case study)',\n",
    "              'RF (case study)', 'RF (case study)', 'RF (case study)', 'RF (case study)', 'RF (case study)', 'RF (case study)', 'RF (case study)', 'RF (case study)'],\n",
    "    'Value': [339.0, 236.0, 359.0, 232.0, 667.0, 465.0, 66.0, 41.0,\n",
    "              826.0, 565.0, 743.0, 508.0, 837.0, 571.0, 154.0, 96.0,\n",
    "              325.0, 218.0, 211.0, 153.0, 186.0, 136.0, 20.0, 15.0,\n",
    "              270.0, 178.0, 546.0, 368.0, 488.0, 330.0, 75.0, 30.0,\n",
    "             3185.8, 2286.7,3602.2,2342.3,5669.8,4079.2,4960.9,3493.7,\n",
    "             21109.7,15442,14700.9,11955.2,19504.1,15777.6,28769.3,24033.3]\n",
    "}\n",
    "\n",
    "# Convert the data to a DataFrame\n",
    "df = pd.DataFrame(data_vi_h)\n",
    "\n",
    "# Pivot the data for better table visualization\n",
    "pivot_train = df[df['Data'] == 'Train'].pivot_table(index=['Zone', 'Metric'], columns='Model', values='Value')\n",
    "pivot_test = df[df['Data'] == 'Test'].pivot_table(index=['Zone', 'Metric'], columns='Model', values='Value')\n",
    "\n",
    "# Print the tables\n",
    "print(\"Training Data Results\")\n",
    "print(pivot_train)\n",
    "print(\"\\nTest Data Results\")\n",
    "print(pivot_test)\n",
    "\n",
    "# Plotting the results\n",
    "fig, axes = plt.subplots(2, 2, figsize=(14, 10), sharey=True)\n",
    "\n",
    "# Train RMSE\n",
    "sns.barplot(x='Zone', y='Value', hue='Model', data=df[(df['Metric'] == 'RMSE') & (df['Data'] == 'Train')], ax=axes[0, 0])\n",
    "axes[0, 0].set_title('Train RMSE')\n",
    "axes[0, 0].set_ylabel('RMSE')\n",
    "\n",
    "# Train MAE\n",
    "sns.barplot(x='Zone', y='Value', hue='Model', data=df[(df['Metric'] == 'MAE') & (df['Data'] == 'Train')], ax=axes[0, 1])\n",
    "axes[0, 1].set_title('Train MAE')\n",
    "axes[0, 1].set_ylabel('MAE')\n",
    "\n",
    "# Test RMSE\n",
    "sns.barplot(x='Zone', y='Value', hue='Model', data=df[(df['Metric'] == 'RMSE') & (df['Data'] == 'Test')], ax=axes[1, 0])\n",
    "axes[1, 0].set_title('Test RMSE')\n",
    "axes[1, 0].set_ylabel('RMSE')\n",
    "\n",
    "# Test MAE\n",
    "sns.barplot(x='Zone', y='Value', hue='Model', data=df[(df['Metric'] == 'MAE') & (df['Data'] == 'Test')], ax=axes[1, 1])\n",
    "axes[1, 1].set_title('Test MAE')\n",
    "axes[1, 1].set_ylabel('MAE')\n",
    "\n",
    "# Adjust layout\n",
    "plt.tight_layout()\n",
    "plt.show()\n"
   ]
  },
  {
   "cell_type": "markdown",
   "id": "7b25d49c-4369-4c35-b572-028fce9401c4",
   "metadata": {},
   "source": [
    "**Compare and discuss results with respect to existing literatures.**"
   ]
  },
  {
   "cell_type": "markdown",
   "id": "5e3ea331-76bd-4139-b070-35d6463a1af6",
   "metadata": {},
   "source": [
    "According to An Empirical Comparison of Supervised Learning Algorithms, boosted trees learning method has been producing excellent performance on all metrics [1]. The paper also has stated that calibration significantly improves the performance of this learning method, together with other methods such as support vector machine. The authors suggest that random forest algorithm has the second highest performance. This conclusion is similar to what has been achieved in this task, in which random forest model is able to outperform other suggested models in the first part, and the boosted tree model in the second part gives even better evaluation metrics.\n",
    "\n",
    "Author Sarswatula provides applications of predictive models for energy consumption at the metal, electrical, food and plastic manufacturing industries. The study uses variables such as Annual production quantities, annual sales, number of employees and annual operating hours [2]. The results suggest that random forest regressor is the best technique which produces the lowest R2 value. This result is rather expected as the study as the experiment is not as complex as the Tetouan City study. Between Random forest and XGBoost algorithms, XGBoost often excels at capturing complex patterns and interactions in the data with high-dimensional feature sets.\n",
    "\n",
    "“Electricity consumption prediction using machine learning” created a machine learning-based predictive method using information of a year’s worth of hourly energy use [3]. Four types of models, including support vector machine, k-nearest neighbour, XGBoost regressor, random forest, and artificial neural networks were developed and performances were observed based on MAE, RMSE and R2 values. K-nearest neighbour was determined to have provided the best performance, followed by random forest and XGBoost regressor.\n",
    "\n",
    "A review of energy consumption taking consideration of features such as environmental and temporal factors employed three machine learning models: random forest, XGBoost and linear regression [4]. The author Abumohsen found the random forest model to obtain the lowest MAE and MSE among the chosen three models. \n",
    "\n",
    "Linear regression model showed a poor performance in predicting the electricity demand of Turkey  between the years 2018 and 2021 according to [5]. The model was trained in the same study with Random forest and XGBoost techniques. The author concluded that both random forest and XGBoost provided much high efficiency. XGBoost was determined to have the highest prediction performance as it had the lowest RMSE value.\n",
    "\n",
    "In a different review in Qingdao, China, subway energy consumption was employed with 14 variables including speed, braking force, train weight, passenger flow [6]. XGBoost algorithm provided predictions of energy consumption that were closer to the experimental data compared to SVR and Long short-term memory models.\n",
    " \n",
    "It is generally understood that XGBoost requires more computational time and slower to train than Random forest model. However, when properly tuned, XGBoost model can provide superior performance and flexibility. Various studies on predicting energy consumption across different aspects have proven Random forest and XGBoost models’ ability to handle complex datasets and effectiveness in predicting power usage. These conclusions align with the Tetuoan City case study and this task. Suggestions are made to expand the scope of algorithm selection in order to explore better models for energy consumption predictions. It may be worth considering the K-nearest neighbour model, as well as using more hyperparameters in tuning steps. \n"
   ]
  },
  {
   "cell_type": "markdown",
   "id": "800e2628-f114-4f7f-863a-7e2f9c234732",
   "metadata": {},
   "source": [
    "### References"
   ]
  },
  {
   "cell_type": "markdown",
   "id": "1fac01b0-fa9b-4201-82f0-2eff4f851c30",
   "metadata": {},
   "source": [
    "[1] R. Caruana and A. Niculescu-Mizil. (2006) ‘An empirical comparison of supervised learning algorithms’, Proceedings of the 23rd international conference on Machine learning  - ICML ’06 [Preprint]. doi:10.1145/1143844.1143865. \n",
    "\n",
    "[2] S.A. Sarswatula,  T. Pugh and V. Prabhu. (2022) ‘Modeling energy consumption using machine learning’, Frontiers in Manufacturing Technology, 2. doi:10.3389/fmtec.2022.855208. \n",
    "\n",
    "[3] G. Vijendar Reddy, et al. (2023) “Electricity consumption prediction using machine learning’, E3S Web of Conferences 391, 01048. doi:10.1051/e3sconf/202339101048.\n",
    "\n",
    "[4] M. Abumohsen, et al. (2023) ‘Electrical Load Forecasting Based on Random Forest, XGBoost, and Linear Regression Algorithms’, 2023 International Conference on Information Technology (ICIT). doi: 10.1109/ICIT58056.2023.10225968.\n",
    "\n",
    "[5] M. Gokce, E. Duman (2022) ‘Performance Comparison of Simple Regression, Random Forest and XGBoost Algorithms for Forecasting Electricity Demand’,  2022 3rd International Informatics and Software Engineering Conference. doi: 10.1109/IISEC56263.2022.9998213.\n",
    "\n",
    "[6] J. Ha and Z. Zhou (2023) ‘Subway Energy Consumption Prediction based on XGBoost\n",
    "Model’, Highlights in Science, Engineering and Technology ICMEA 2023, 70.\n"
   ]
  }
 ],
 "metadata": {
  "kernelspec": {
   "display_name": "Python [conda env:base] *",
   "language": "python",
   "name": "conda-base-py"
  },
  "language_info": {
   "codemirror_mode": {
    "name": "ipython",
    "version": 3
   },
   "file_extension": ".py",
   "mimetype": "text/x-python",
   "name": "python",
   "nbconvert_exporter": "python",
   "pygments_lexer": "ipython3",
   "version": "3.13.5"
  }
 },
 "nbformat": 4,
 "nbformat_minor": 5
}
